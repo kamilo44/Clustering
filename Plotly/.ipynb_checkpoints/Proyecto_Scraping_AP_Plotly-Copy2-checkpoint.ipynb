{
 "cells": [
  {
   "cell_type": "markdown",
   "id": "Xe_oykWle6Sn",
   "metadata": {
    "id": "Xe_oykWle6Sn"
   },
   "source": [
    "# Subir información"
   ]
  },
  {
   "cell_type": "code",
   "execution_count": 7,
   "id": "PxyRUH8de_7X",
   "metadata": {
    "colab": {
     "base_uri": "https://localhost:8080/"
    },
    "id": "PxyRUH8de_7X",
    "outputId": "b431ca70-5668-4fa0-cdc3-bfd17ce7433b"
   },
   "outputs": [],
   "source": [
    "import pandas as pd\n",
    "\n",
    "result_3d = pd.read_csv(\"data.csv\", engine='python', encoding='utf-8')\n",
    "\n",
    "#result_3d"
   ]
  },
  {
   "cell_type": "code",
   "execution_count": 8,
   "id": "Bx4NNtWJ6xYi",
   "metadata": {
    "colab": {
     "base_uri": "https://localhost:8080/",
     "height": 645
    },
    "id": "Bx4NNtWJ6xYi",
    "outputId": "ba52e3a9-b6db-46b0-d99d-bb76bafa32b5"
   },
   "outputs": [],
   "source": [
    "import pandas as pd\n",
    "\n",
    "centroids_3d = pd.read_csv(\"centroids_3d.csv\")\n",
    "\n",
    "#centroids_3d"
   ]
  },
  {
   "cell_type": "markdown",
   "id": "c2b5a0f3",
   "metadata": {},
   "source": [
    "# Plotly"
   ]
  },
  {
   "cell_type": "markdown",
   "id": "3615e2ae",
   "metadata": {},
   "source": [
    "## Ordenar saltos de línea para mostrar correctamente los títulos"
   ]
  },
  {
   "cell_type": "code",
   "execution_count": 9,
   "id": "c2e73536",
   "metadata": {},
   "outputs": [],
   "source": [
    "import pandas as pd\n",
    "import numpy as np\n",
    "\n",
    "n = 1000   # Número de abstracts \n",
    "\n",
    "titulos = result_3d.iloc[:,0].to_numpy().flatten()\n",
    "\n",
    "iteraciones = len(titulos.max()) % 50\n",
    "\n",
    "for k in range(iteraciones):\n",
    "    m = 40 + 50*k\n",
    "    titulos = [i[:i.index(' ', m)] + '<br>' + i[i.index(' ', m)+1:] \n",
    "           if len(i)>50*k and \" \" in i[m:]\n",
    "           else i \n",
    "           for i in titulos]\n",
    "\n",
    "result_3d['titulos'] = titulos.copy()\n",
    "\n",
    "#result_3d"
   ]
  },
  {
   "cell_type": "code",
   "execution_count": 10,
   "id": "c0a0bd41",
   "metadata": {},
   "outputs": [
    {
     "data": {
      "application/vnd.plotly.v1+json": {
       "config": {
        "plotlyServerURL": "https://plot.ly"
       },
       "data": [
        {
         "hoverinfo": "text",
         "marker": {
          "color": "#AA0DFE",
          "opacity": 0.8,
          "size": 2
         },
         "mode": "markers",
         "name": "PRIVACY",
         "text": [
          "Reconstruction Attacks on Aggressive Relaxations<br>of DifferentialPrivacy",
          "Bayesian and Frequentist Semantics for Common<br>Variations ofDifferential Privacy: Applications<br>to the 2020 Census",
          "On the utility and protection of optimization<br>with differentialprivacy and classic regularization<br>techniques",
          "A Crypto-Assisted Approach for Publishing<br>Graph Statistics with NodeLocal Differential Privacy",
          "Forward-Mode Automatic Differentiation of<br>Compiled Programs",
          "On the Risks of Collecting Multidimensional<br>Data Under LocalDifferential Privacy",
          "Data Provenance via Differential Auditing",
          "Learning Differential Operators for Interpretable<br>Time Series Modeling",
          "Randomized Privacy Budget Differential Privacy",
          "R$^2$DP: A Universal and Automated Approach<br>to Optimizing theRandomization Mechanisms of<br>Differential Privacy for Utility Metrics with<br>NoKnown Optimal Distributions",
          "Age-Dependent Differential Privacy",
          "Differential Privacy on Dynamic Data",
          "LDP-FPMiner: FP-Tree Based Frequent Itemset<br>Mining with LocalDifferential Privacy"
         ],
         "type": "scatter3d",
         "uid": "0",
         "x": [
          4.2504253,
          4.2236047,
          4.1991334,
          4.188424,
          4.046975,
          4.197979,
          4.192786,
          4.1669974,
          4.206916,
          4.174921,
          4.210341,
          4.1972866,
          3.9706447
         ],
         "y": [
          12.30236,
          12.358695,
          12.345356,
          12.349598,
          12.250394,
          12.349986,
          12.398711,
          12.375179,
          12.36462,
          12.3439,
          12.369959,
          12.371496,
          12.261588
         ],
         "z": [
          10.228607,
          10.178231,
          10.157757,
          10.1405525,
          10.046563,
          10.140794,
          10.160503,
          10.168921,
          10.175443,
          10.154906,
          10.17018,
          10.169465,
          9.800715
         ]
        },
        {
         "hoverinfo": "text",
         "marker": {
          "color": "#3283FE",
          "opacity": 0.8,
          "size": 2
         },
         "mode": "markers",
         "name": "GRAPHS",
         "text": [
          "Packing $K_r$s in bounded degree graphs",
          "Epic Fail: Emulators can tolerate polynomially<br>many edge faults forfree",
          "Counting Subgraphs in Somewhere Dense Graphs",
          "Routing permutations on spectral expanders<br>via matchings",
          "On List Coloring with Separation of the Complete<br>Graph and Set SystemIntersections",
          "Planted matching problems on random hypergraphs",
          "Four Algorithms on the Swapped Dragonfly",
          "On Plane Subgraphs of Complete Topological<br>Drawings",
          "Ã•ptimal Vertex Fault-Tolerant Spanners in<br>Ã•ptimal Time: Sequential,Distributed and Parallel",
          "Separators in Continuous Petri Nets",
          "On the Second Kahn--Kalai Conjecture",
          "Well-Separation and Hyperplane Transversals<br>in High Dimensions",
          "Solving the Maximum Popular Matching Problem<br>with Matroid Constraints",
          "Nearest-Neighbor Decompositions of Drawings",
          "Induced Cycles and Paths Are Harder Than<br>You Think",
          "Recognizing Geometric Intersection Graphs<br>Stabbed by a Line"
         ],
         "type": "scatter3d",
         "uid": "1",
         "x": [
          3.1389108,
          3.0922236,
          3.1491163,
          3.0979726,
          3.132791,
          3.1154032,
          3.057259,
          3.0831542,
          2.9381635,
          2.823079,
          3.1553247,
          2.8141298,
          2.8186326,
          3.0990698,
          3.1323833,
          3.0723984
         ],
         "y": [
          10.988199,
          11.076818,
          10.981497,
          11.038942,
          10.995413,
          11.029112,
          11.166403,
          11.042611,
          11.150835,
          11.029497,
          10.982339,
          10.969745,
          11.222181,
          11.006674,
          10.997081,
          11.056057
         ],
         "z": [
          8.416984,
          8.394284,
          8.404873,
          8.449936,
          8.413886,
          8.413876,
          8.443848,
          8.390681,
          8.482172,
          8.741575,
          8.396882,
          8.707729,
          8.786787,
          8.428684,
          8.418883,
          8.407588
         ]
        },
        {
         "hoverinfo": "text",
         "marker": {
          "color": "#85660D",
          "opacity": 0.8,
          "size": 2
         },
         "mode": "markers",
         "name": "NUMERICAL",
         "text": [
          "A structure-preserving variational discretization<br>scheme for the Cahn-Hilliard Navier-Stokes<br>system",
          "High-order numerical evaluation of volume<br>potentials via polynomialdensity interpolation",
          "Eigenvalue Mapping-based Semi-implicit Discretization<br>of theGeneralized Super-Twisting Algorithm",
          "A geometrically intrinsic Lagrangian-Eulerian<br>scheme for 2D ShallowWater Equations with<br>variable topography and discontinuous data",
          "On the Convergence of Randomized and Greedy<br>Relaxation Schemes forSolving Nonsingular Linear<br>Systems of Equations",
          "Double stabilizations and convergence analysis<br>of a second-orderlinear numerical scheme<br>for the nonlocal Cahn-Hilliard equation",
          "Analysis of the local discontinuous Galerkin<br>method with generalizedfluxes for 1D nonlinear<br>convection-diffusion systems",
          "Wavenumber-explicit stability and convergence<br>analysis of hp finiteelement discretizations<br>of Helmholtz problems in piecewise smooth media",
          "Convergence analysis of a block preconditioned<br>steepest descenteigensolver with implicit<br>deflation",
          "Quadratic Constraints for Local Stability<br>Analysis of QuadraticSystems",
          "Inverse modeling of nonisothermal multiphase<br>poromechanics usingphysics-informed neural<br>networks",
          "MRF-PINN: A Multi-Receptive-Field convolutional<br>physics-informedneural network for solving<br>partial differential equations",
          "Numerical integration rules with improved<br>accuracy close tosingularities",
          "Robust Numerical Methods for Singularly Perturbed<br>DifferentialEquations--Supplements",
          "Remarks on boundary layers in singularly<br>perturbed Caputo fractionalboundary value problems",
          "Error Estimates and Physics Informed Augmentation<br>of Neural Networksfor Thermally Coupled<br>Incompressible Navier Stokes Equations",
          "Solving Elliptic Problems with Singular Sources<br>using SingularitySplitting Deep Ritz Method",
          "Convergence analysis of an implicit finite<br>difference method for theinertial Landau-Lifshitz-Gilbert<br>equation",
          "An augmented fully-mixed formulation for<br>the quasistatic Navier--Stokes--Biot model",
          "Compact schemes for variable coefficient<br>convection-diffusionequations",
          "Numerical investigation and factor analysis<br>of the spatial-temporalmulti-species competition<br>problem",
          "Second order, unconditionally stable, linear<br>ensemble algorithms forthe magnetohydrodynamics<br>equations",
          "A Fourth-Order Embedded Boundary Finite Volume<br>Method for the UnsteadyStokes Equations with<br>Complex Geometries",
          "Efficient solution of parameter identification<br>problems with $H^1$regularization",
          "Mixed approximation of nonlinear acoustic<br>equations: Well-posednessand a priori error analysis",
          "Quadratic Gradient: Uniting Gradient Algorithm<br>and Newton Method asOne",
          "Spherical Coordinates from Persistent Cohomology",
          "Neural network approximation of coarse-scale<br>surrogates in numericalhomogenization",
          "Circumventing volumetric locking in explicit<br>material point methods: Asimple, efficient,<br>and general approach",
          "Mortaring for linear elasticity using low<br>order finite elements",
          "Convergence and error estimates of a penalization<br>finite volume methodfor the compressible<br>Navier-Stokes system",
          "Towards non-linear quadrature formulae",
          "The mpEDMD Algorithm for Data-Driven Computations<br>of Measure-Preserving Dynamical Systems",
          "A Unified Trapezoidal Quadrature Method for<br>Singular and HypersingularBoundary Integral<br>Operators on Curved Surfaces",
          "Simulation of Heat Conduction in Complex<br>Domains of Multi-materialComposites using a Meshless<br>Method",
          "Fast geometric trim fitting using partial<br>incremental sorting andaccumulation",
          "Evaluation of the Region of Attractions of<br>Higher DimensionalHyperbolic Systems using the<br>Extended Dynamic Mode Decomposition",
          "Exponential convergence of a generalized<br>FEM for heterogeneousreaction-diffusion equations",
          "New degrees of freedom for differential forms<br>on cubical meshes",
          "A new T-compatibility condition and its application<br>to thediscretization of the damped time-harmonic<br>Galbrun's equation",
          "Performance optimization and analysis of<br>the unstructuredDiscontinuous Galerkin solver on<br>multi-core and many-core architectures",
          "Minimization of differential equations and<br>algebraic values of$E$-functions",
          "Removing membrane locking in quadratic NURBS-based<br>discretizations oflinear plane Kirchhoff<br>rods: CAS elements",
          "Numerical analysis of growth-mediated autochemotactic<br>patternformation in self-propelling<br>bacteria",
          "A multi-scale framework for neural network<br>enhanced methods to thesolution of partial differential<br>equations",
          "Smoothers Based on Nonoverlapping Domain<br>Decomposition Methods for$H(\\mathbf{curl})$ Problems:<br>A Numerical Study",
          "Structure and approximation properties of<br>Laplacian-like matrices",
          "Hybrid mixed discontinuous Galerkin finite<br>element method forincompressible wormhole propagation<br>problem",
          "Hybrid mixed discontinuous Galerkin finite<br>element method forincompressible miscible displacement<br>problem",
          "Locally-verifiable sufficient conditions<br>for exactness of thehierarchical B-spline discrete<br>de Rham complex in $\\mathbb{R}^n$",
          "Homogenization of discrete diffusion models<br>by asymptotic expansion",
          "Homogenization of discrete mesoscale model<br>of concrete for coupledmass transport and mechanics<br>by asymptotic expansion"
         ],
         "type": "scatter3d",
         "uid": "2",
         "x": [
          2.115377,
          2.218878,
          2.2455425,
          2.1432042,
          2.4208238,
          2.2176468,
          2.0352151,
          2.0740104,
          2.3277462,
          2.540783,
          2.0111585,
          2.0267184,
          2.3755345,
          2.2327724,
          2.0680766,
          2.0262432,
          2.2455862,
          2.2053995,
          2.0078697,
          2.0951834,
          1.9972361,
          2.0776353,
          2.1386619,
          2.255146,
          2.1268473,
          2.5196204,
          2.138511,
          1.9634912,
          2.1102483,
          2.1814344,
          2.1498902,
          2.4181917,
          2.1143863,
          2.2236342,
          2.0197015,
          2.4223588,
          2.1547616,
          2.0392442,
          2.2311351,
          2.1398773,
          1.9661804,
          2.3237154,
          2.203538,
          2.0349605,
          2.000878,
          2.1374347,
          2.4584029,
          1.9975657,
          1.9992342,
          2.145774,
          1.962728,
          1.9935066
         ],
         "y": [
          10.519735,
          10.554517,
          10.567301,
          10.542559,
          10.775562,
          10.539819,
          10.394052,
          10.465216,
          10.690607,
          10.982336,
          10.790455,
          10.778515,
          10.643764,
          10.529775,
          10.478113,
          10.801766,
          10.697706,
          10.53786,
          10.466628,
          10.419427,
          10.656078,
          10.463517,
          10.522038,
          10.711961,
          10.471734,
          10.924006,
          10.540125,
          10.761692,
          10.679889,
          10.529342,
          10.536577,
          10.703761,
          10.926386,
          10.521193,
          10.689097,
          10.656815,
          10.754712,
          10.463768,
          10.564428,
          10.467604,
          10.394132,
          10.763675,
          10.449032,
          10.449278,
          10.761365,
          10.626006,
          10.917174,
          10.436214,
          10.439918,
          10.519684,
          10.505669,
          10.559193
         ],
         "z": [
          11.426308,
          11.392565,
          11.584157,
          11.259555,
          11.29157,
          11.55044,
          11.571248,
          11.588315,
          11.499247,
          11.240144,
          10.927458,
          10.939861,
          11.412655,
          11.496402,
          11.526006,
          10.948241,
          11.223161,
          11.55999,
          11.50138,
          11.590027,
          11.38792,
          11.551279,
          11.441539,
          11.249776,
          11.584444,
          11.229828,
          11.384339,
          10.941071,
          11.352766,
          11.511864,
          11.44016,
          11.383237,
          11.329173,
          11.466006,
          11.28444,
          11.411919,
          11.435966,
          11.530176,
          11.381866,
          11.596332,
          11.501553,
          11.178033,
          11.659815,
          11.549131,
          10.964715,
          11.368824,
          11.131956,
          11.5021305,
          11.505077,
          11.452946,
          11.455594,
          11.425365
         ]
        },
        {
         "hoverinfo": "text",
         "marker": {
          "color": "#782AB6",
          "opacity": 0.8,
          "size": 2
         },
         "mode": "markers",
         "name": "GRAPH",
         "text": [
          "Simpler is better: Multilevel Abstraction<br>with Graph ConvolutionalRecurrent Neural Network<br>Cells for Traffic Prediction",
          "Hardware-Software Co-Design of BIKE with<br>HLS-Generated Accelerators",
          "Hardware Accelerator and Neural Network Co-Optimization<br>for Ultra-Low-Power Audio Processing<br>Devices",
          "Knowledge-Driven Program Synthesis via Adaptive<br>Replacement Mutationand Auto-constructed<br>Subprogram Archives",
          "Beyond Double Ascent via Recurrent Neural<br>Tangent Kernel in SequentialRecommendation",
          "Geolocation of Cultural Heritage using Multi-View<br>Knowledge GraphEmbedding",
          "Hierarchical Graph Pooling is an Effective<br>Citywide Traffic ConditionPrediction Model",
          "nVFNet-RDC: Replay and Non-Local Distillation<br>Collaboration forContinual Object Detection",
          "Security Analysis of the EDHOC protocol",
          "OblivGM: Oblivious Attributed Subgraph Matching<br>as a Cloud Service",
          "Peer to Peer Learning Platform Optimized<br>With Machine Learning",
          "A simple approach for quantizing neural networks",
          "Higher-order Clustering and Pooling for Graph<br>Neural Networks",
          "TAG: Learning Circuit Spatial Embedding From<br>Layouts",
          "A Greedy Algorithm for Building Compact Binary<br>Activated NeuralNetworks",
          "Bispectral Neural Networks",
          "A Survey of Neural Trees",
          "AST-GIN: Attribute-Augmented Spatial-Temporal<br>Graph Informer Networkfor Electric Vehicle<br>Charging Station Availability Forecasting",
          "Geometric multimodal representation learning",
          "Combining Sequential and Aggregated Data<br>for Churn Prediction inCasual Freemium Games",
          "Remote Work Optimization with Robust Multi-channel<br>Graph NeuralNetworks",
          "A New Heterogeneous Graph Representation<br>in a Social Media Platform:Steemit",
          "Parallel and Streaming Wavelet Neural Networks<br>for Classification andRegression under Apache<br>Spark",
          "Knowledge-enhanced Iterative Instruction<br>Generation and Reasoning forKnowledge Base Question<br>Answering",
          "VGStore: A Multimodal Extension to SPARQL<br>for Querying RDF Scene Graph",
          "Democratizing Domain-Specific Computing",
          "Grouping-matrix based Graph Pooling with<br>Adaptive Number of Clusters",
          "Hardware Acceleration of Sampling Algorithms<br>in Sample and AggregateGraph Neural Networks",
          "Defending Against Backdoor Attack on Graph<br>Nerual Network byExplainability",
          "CP-AGCN: Pytorch-based Attention Informed<br>Graph Convolutional Networkfor Identifying Infants<br>at Risk of Cerebral Palsy",
          "A Subexponential Quantum Algorithm for the<br>Semdirect DiscreteLogarithm Problem",
          "Neuromorphic computing using wavelength-division<br>multiplexing",
          "A learning theory for quantum photonic processors<br>and beyond",
          "Graph Neural Networks for Low-Energy Event<br>Classification &Reconstruction in IceCube",
          "On the Sparse DAG Structure Learning Based<br>on Adaptive Lasso",
          "TAPA: A Scalable Task-Parallel Dataflow Programming<br>Framework forModern FPGAs with Co-Optimization<br>of HLS and Physical Design",
          "Graph-PHPA: Graph-based Proactive Horizontal<br>Pod Autoscaling forMicroservices using LSTM-GNN",
          "Rethinking Symmetric Matrix Factorization:<br>A More General and BetterClustering Perspective",
          "Semi-Supervised Clustering via Dynamic Graph<br>Structure Learning",
          "Rethinking The Memory Staleness Problem In<br>Dynamics GNN",
          "ProjB: An Improved Bilinear Biased ProjE<br>model for Knowledge GraphCompletion",
          "Continual Learning: Fast and Slow",
          "DualNet: Continual Learning, Fast and Slow",
          "Token Multiplicity in Reversing Petri Nets<br>Under the Individual TokenInterpretation",
          "EnergonAI: An Inference System for 10-100<br>Billion ParameterTransformer Models",
          "A Multi-FPGA High Performance Computing System<br>for 3D FFT-basedNumerical Simulations",
          "Factor Graph Accelerator for LiDAR-Inertial<br>Odometry",
          "Being Automated or Not? Risk Identification<br>of Occupations with GraphNeural Networks",
          "4Ward: a Relayering Strategy for Efficient<br>Training of ArbitrarilyComplex Directed Acyclic<br>Graphs",
          "Orthogonal layers of parallelism in large-scale<br>eigenvaluecomputations",
          "HAGCN : Network Decentralization Attention<br>Based Heterogeneity-AwareSpatiotemporal Graph<br>Convolution Network for Traffic Signal Forecasting",
          "Private Simultaneous Messages Based on Quadratic<br>Residues",
          "A Prufer-Sequence Based Representation of<br>Large Graphs for StructuralEncoding of Logic Networks",
          "The Approximate Degree of DNF and CNF Formulas",
          "Scalable Adversarial Online Continual Learning",
          "Reinforced Continual Learning for Graphs",
          "Recurrent Bilinear Optimization for Binary<br>Neural Networks",
          "Neural Networks for Chess",
          "MMKGR: Multi-hop Multi-modal Knowledge Graph<br>Reasoning",
          "Towards Accurate Binary Neural Networks via<br>Modeling ContextualDependencies",
          "Disconnected Emerging Knowledge Graph Oriented<br>Inductive LinkPrediction",
          "Hypergraph convolutional neural network-based<br>clustering technique",
          "SaleNet: A low-power end-to-end CNN accelerator<br>for sustainedattention level evaluation<br>using EEG",
          "Tree-Based Learning in RNNs for Power Consumption<br>Forecasting",
          "Semi-supervised Training for Knowledge Base<br>Graph Self-attentionNetworks on Link Prediction",
          "HammingMesh: A Network Topology for Large-Scale<br>Deep Learning",
          "Graph Fourier transforms on directed product<br>graphs"
         ],
         "type": "scatter3d",
         "uid": "3",
         "x": [
          2.5477004,
          2.3219457,
          2.2411346,
          2.4379609,
          2.3985407,
          2.6397824,
          2.867662,
          2.0781846,
          2.4888299,
          2.7117558,
          2.4082644,
          1.7758944,
          2.810678,
          2.5653446,
          2.1539743,
          1.9901657,
          1.998419,
          2.5979605,
          2.6868525,
          2.0801473,
          2.8321397,
          2.8464775,
          2.2804604,
          2.6206257,
          2.7340243,
          2.177343,
          2.813939,
          2.2777967,
          2.3694098,
          2.348193,
          2.4606886,
          2.147836,
          2.1681592,
          2.382684,
          2.7204697,
          2.28739,
          2.892381,
          2.7033768,
          2.7318833,
          2.4864287,
          2.5828261,
          2.3471382,
          2.3277085,
          2.2857943,
          2.2044213,
          2.3346124,
          2.6579676,
          2.675525,
          2.508953,
          2.3492324,
          2.5982838,
          2.5131922,
          2.760452,
          2.4768572,
          2.2368379,
          2.7296572,
          2.2159984,
          2.257047,
          2.6142454,
          2.0803814,
          2.5991929,
          2.6573832,
          2.1271508,
          2.071865,
          2.469096,
          2.3053682,
          2.736209
         ],
         "y": [
          11.710813,
          11.648873,
          11.683156,
          12.047504,
          11.711726,
          11.9352255,
          11.783391,
          11.915964,
          11.352592,
          11.602973,
          12.102731,
          11.889147,
          11.661204,
          12.252357,
          11.66568,
          11.755503,
          12.133393,
          11.784031,
          11.943775,
          11.905559,
          11.915965,
          11.871981,
          11.896646,
          11.966977,
          11.657135,
          11.610864,
          11.643143,
          11.720072,
          11.743859,
          11.814797,
          12.047875,
          11.65274,
          11.521941,
          11.691271,
          11.612526,
          11.54733,
          11.744158,
          11.648793,
          11.619349,
          11.739101,
          11.953516,
          11.951445,
          12.027905,
          11.76959,
          11.573185,
          11.504453,
          11.748206,
          12.079889,
          11.8560505,
          11.303382,
          11.712376,
          11.414112,
          11.614758,
          11.330977,
          12.014031,
          11.645679,
          11.627497,
          11.76204,
          11.916687,
          11.731173,
          11.918575,
          11.661158,
          11.710431,
          12.07432,
          11.916934,
          11.950307,
          11.702771
         ],
         "z": [
          8.193743,
          9.199228,
          9.103293,
          7.83657,
          8.520261,
          7.94748,
          8.429244,
          8.398845,
          9.540645,
          8.592221,
          8.675153,
          8.642512,
          8.353413,
          8.404114,
          8.581108,
          8.605846,
          8.52334,
          8.112029,
          8.3959255,
          8.26465,
          8.420837,
          8.257533,
          8.58416,
          7.8765483,
          8.280504,
          9.008995,
          8.3527,
          8.640448,
          8.339467,
          8.128196,
          7.818449,
          9.038665,
          9.720821,
          8.234291,
          8.280251,
          9.188862,
          8.636678,
          8.227043,
          8.26032,
          8.131696,
          7.89462,
          8.578904,
          8.646306,
          9.15318,
          9.112859,
          9.244907,
          8.397045,
          8.296187,
          8.471233,
          9.475976,
          8.149508,
          9.523569,
          8.289983,
          9.561931,
          8.528395,
          8.304421,
          8.576067,
          8.694088,
          7.9642076,
          8.584145,
          7.9348207,
          8.240457,
          8.875198,
          8.398353,
          8.146412,
          8.6846695,
          8.261546
         ]
        },
        {
         "hoverinfo": "text",
         "marker": {
          "color": "#565656",
          "opacity": 0.8,
          "size": 2
         },
         "mode": "markers",
         "name": "FEDERATED",
         "text": [
          "Trustless Cross-chain Communication for Zendoo<br>Sidechains",
          "A Framework for Evaluating Privacy-Utility<br>Trade-off in VerticalFederated Learning",
          "FADE: Enabling Large-Scale Federated Adversarial<br>Training on Resource-Constrained Edge Devices",
          "Multisecret-sharing scheme with two-level<br>security and itsapplications in Blockchain",
          "Federated Transfer Learning with Multimodal<br>Data",
          "Modular Federated Learning",
          "Cerberus: Exploring Federated Prediction<br>of Security Events",
          "A multi-chain synchronization protocol that<br>leverage zero knowledgeproof to minimize communication<br>trust base",
          "Predictive GAN-powered Multi-Objective Optimization<br>for HybridFederated Split Learning",
          "Faster federated optimization under second-order<br>similarity",
          "Full Kullback-Leibler-Divergence Loss for<br>Hyperparameter-free LabelDistribution Learning",
          "Federated Zero-Shot Learning for Visual Recognition",
          "Boost Decentralized Federated Learning in<br>Vehicular Networks byDiversifying Data Sources",
          "Communication Efficient Distributed Learning<br>over Wireless Channels",
          "Suppressing Noise from Built Environment<br>Datasets to ReduceCommunication Rounds for Convergence<br>of Federated Learning",
          "Federated XGBoost on Sample-Wise Non-IID<br>Data",
          "FedAR+: A Federated Learning Approach to<br>Appliance Recognition withMislabeled Data in Residential<br>Buildings"
         ],
         "type": "scatter3d",
         "uid": "4",
         "x": [
          3.0951445,
          3.5105405,
          3.516588,
          3.2298837,
          3.489778,
          3.5166886,
          3.401669,
          3.2280946,
          3.4740193,
          3.5391884,
          3.5240664,
          3.4092212,
          3.5022392,
          3.128423,
          3.3987231,
          3.5054307,
          3.4430528
         ],
         "y": [
          12.581279,
          12.492973,
          12.431356,
          12.524517,
          12.506915,
          12.483605,
          12.643518,
          12.5392475,
          12.4173155,
          12.452653,
          12.377362,
          12.583482,
          12.497286,
          12.238882,
          12.59872,
          12.48184,
          12.538452
         ],
         "z": [
          9.184546,
          9.134422,
          9.049307,
          9.307187,
          9.071493,
          9.086376,
          9.001948,
          9.274358,
          9.130588,
          9.096783,
          9.070798,
          9.044309,
          9.073554,
          9.377407,
          9.026918,
          9.077242,
          9.068549
         ]
        },
        {
         "hoverinfo": "text",
         "marker": {
          "color": "#1C8356",
          "opacity": 0.8,
          "size": 2
         },
         "mode": "markers",
         "name": "MALWARE",
         "text": [
          "A Survey of Recent Advances in Deep Learning<br>Models for DetectingMalware in Desktop and<br>Mobile Platforms",
          "MalDetConv: Automated Behaviour-based Malware<br>Detection FrameworkBased on Natural Language<br>Processing and Deep Learning Techniques",
          "VulCurator: A Vulnerability-Fixing Commit<br>Detector",
          "Avast-CTU Public CAPE Dataset",
          "Avgust: Automating Usage-Based Test Generation<br>from Videos of AppExecutions",
          "Instance Attack:An Explanation-based Vulnerability<br>Analysis FrameworkAgainst DNNs for Malware<br>Detection",
          "An Adaptive Black-box Defense against Trojan<br>Attacks (TrojDef)",
          "PhishClone: Measuring the Efficacy of Cloning<br>Evasion Attacks",
          "Phishing URL Detection: A Network-based Approach<br>Robust to Evasion",
          "Illegal But Not Malware: An Underground Economy<br>App Detection SystemBased on Usage Scenario"
         ],
         "type": "scatter3d",
         "uid": "5",
         "x": [
          0.7374835,
          0.71311116,
          0.79610646,
          0.800576,
          0.6994206,
          0.8885864,
          0.9117246,
          0.88883257,
          0.87709296,
          0.81363565
         ],
         "y": [
          13.137358,
          13.19035,
          13.185422,
          13.170333,
          13.16565,
          13.001508,
          13.137485,
          13.193114,
          13.164581,
          13.319372
         ],
         "z": [
          9.568537,
          9.58653,
          9.604018,
          9.582852,
          9.728343,
          9.557654,
          9.525518,
          9.347781,
          9.386327,
          9.412595
         ]
        },
        {
         "hoverinfo": "text",
         "marker": {
          "color": "#16FF32",
          "opacity": 0.8,
          "size": 2
         },
         "mode": "markers",
         "name": "JAMMING",
         "text": [
          "Assessing Active Distribution Network Flexibility:<br>On the Effects ofNonlinearities and Nonconvexities",
          "Resource Allocation for URLLC and eMBB Traffic<br>in Uplink WirelessNetworks",
          "Architecture-Algorithmic Trade-offs in Multi-path<br>Channel Estimationfor mmWAVE Systems",
          "Impact of Mobility on Downlink Cell-Free<br>Massive MIMO Systems",
          "Coexistence of Pulsed Radar and Communications:<br>InterferenceSuppression and Multi-path Combining",
          "Dynamic optical path provisioning for alien<br>access links:architecture, demonstration, and<br>challenges",
          "Jamming Modulation: An Active Anti-Jamming<br>Scheme",
          "Power Allocation for Joint Communication<br>and Sensing in Cell-FreeMassive MIMO",
          "Power Allocation for Space-Terrestrial Cooperation<br>Systems withStatistical CSI"
         ],
         "type": "scatter3d",
         "uid": "6",
         "x": [
          3.0776978,
          2.8552403,
          2.7053595,
          2.6702442,
          2.882683,
          2.8649645,
          2.6565826,
          2.752666,
          2.859857
         ],
         "y": [
          12.415129,
          12.215547,
          12.255381,
          12.28736,
          12.176684,
          12.3992405,
          12.272872,
          12.21818,
          12.201447
         ],
         "z": [
          9.939948,
          9.795987,
          9.758849,
          9.757457,
          9.955012,
          9.703583,
          9.765756,
          9.810248,
          9.765006
         ]
        },
        {
         "hoverinfo": "text",
         "marker": {
          "color": "#F7E1A0",
          "opacity": 0.8,
          "size": 2
         },
         "mode": "markers",
         "name": "CONTROL",
         "text": [
          "Optimal Communication and Control Strategies<br>for a Multi-Agent Systemin the Presence of<br>an Adversary",
          "A Survey on Large-Population Systems and<br>Scalable Multi-AgentReinforcement Learning",
          "SE(3)-DiffusionFields: Learning cost functions<br>for joint grasp andmotion optimization through<br>diffusion",
          "Optimised Design and Performance Comparison<br>of Soft RoboticManipulators",
          "Double Q-Learning for Citizen Relocation<br>During Natural Hazards",
          "Predict+Optimize for Packing and Covering<br>LPs with Unknown Parametersin Constraints",
          "Constructive Equivariant Observer Design<br>for Inertial Velocity-AidedAttitude",
          "Reward Delay Attacks on Deep Reinforcement<br>Learning",
          "Tube-Based Zonotopic Data-Driven Predictive<br>Control",
          "On the Near-Optimality of Local Policies<br>in Large Cooperative Multi-Agent Reinforcement<br>Learning",
          "Energy Optimization of Wind Turbines via<br>a Neural Control Policy Basedon Reinforcement Learning<br>Markov Chain Monte Carlo Algorithm",
          "Scheduling Operator Assistance for Shared<br>Autonomy in Multi-RobotTeams",
          "Distilling Deep RL Models Into Interpretable<br>Neuro-Fuzzy Systems",
          "On Differential Privacy and Traffic State<br>Estimation Problem forConnected Vehicles",
          "Traffic State Estimation for Connected Vehicles<br>using the Second-OrderAw-Rascle-Zhang Traffic<br>Model",
          "Respiratory Aware Routing for Cyclists",
          "Accurate Cooperative Sensor Fusion by Parameterized<br>CovarianceGeneration for Sensing and<br>Localization Pipelines in CAVs",
          "Trading Strategies: Earning More in Investment",
          "Cooperative trajectory planning algorithm<br>of USV-UAV with hull dynamicconstraints",
          "Adaptive Passivity-Based Pose Tracking Control<br>of Cable-DrivenParallel Robots for Multiple<br>Attitude Parameterizations",
          "Efficient Trajectory Planning and Control<br>for USV with Vessel Dynamicsand Differential Flatness",
          "A Predictive Chance Constraint Rebalancing<br>Approach to Mobility-on-Demand Services",
          "Concept-modulated model-based offline reinforcement<br>learning for rapidgeneralization",
          "Fault Signature Identification for BLDC motor<br>Drive System -AStatistical Signal Fusion Approach",
          "Obtaining Robust Control and Navigation Policies<br>for Multi-RobotNavigation via Deep Reinforcement<br>Learning",
          "Autonomous Cooking with Digital Twin Methodology",
          "Physics-based Digital Twins for Autonomous<br>Thermal Food Processing:Efficient, Non-intrusive<br>Reduced-order Modeling",
          "Optimizing Demonstrated Robot Manipulation<br>Skills for Temporal LogicConstraints",
          "From Human Walking to Bipedal Robot Locomotion:<br>Reflex InspiredCompensation on Planned and<br>Unplanned Downsteps",
          "A Deep Reinforcement Learning Strategy for<br>UAV Autonomous Landing on aPlatform",
          "DC-MRTA: Decentralized Multi-Robot Task Allocation<br>and Navigation inComplex Environments",
          "Adaptive Complexity Model Predictive Control",
          "Traffic State Estimation for Connected Vehicles<br>using the Second-OrderAw-Rascle-Zhang Traffic<br>Model",
          "A Zeroth-Order Momentum Method for Risk-Averse<br>Online Convex Games",
          "Bioinspired Smooth Neuromorphic Control for<br>Robotic Arms",
          "Multi-skill Mobile Manipulation for Object<br>Rearrangement",
          "Low Regret Binary Sampling Method for Efficient<br>Global Optimization ofUnivariate Functions",
          "Risk Aware Belief-dependent Constrained POMDP<br>Planning",
          "Multi-agent Deep Reinforcement Learning for<br>Charge-sustaining Controlof Multi-mode Hybrid<br>Vehicles",
          "Priority Based Synchronization for Faster<br>Learning in Games",
          "Finite-Time Error Bounds for Greedy-GQ",
          "A Combined Inverse Kinematics Algorithm Using<br>FABRIK with Optimization",
          "Passive Realizations of Series Elastic Actuation:<br>Passivity andEffects of Plant and Controller<br>Dynamics on Haptic Rendering Performance",
          "Mimose: An Input-Aware Checkpointing Planner<br>for Efficient Training onGPU",
          "Fast Adaptive Regression-based Model Predictive<br>Control",
          "Autonomous Passage Planning for a Polar Vessel",
          "Market Model 3.0: A New Ecosystem for Demand-side<br>FlexibilityAggregators in Denmark",
          "Compatibility checking of multiple control<br>barrier functions for inputconstrained systems",
          "The Simulator-in-the-Loop approach for vehicle<br>dynamics control",
          "Adaptive Machine Learning for Cooperative<br>Manipulators",
          "Carbon-Neutralized Task Scheduling for Green<br>Computing Networks",
          "White-Box Adversarial Policies in Deep Reinforcement<br>Learning",
          "Reinforcement learning-based optimised control<br>for tracking ofnonlinear systems with adversarial<br>attacks",
          "Improving Assistive Robotics with Deep Reinforcement<br>Learning",
          "A New Approach to Training Multiple Cooperative<br>Agents for AutonomousDriving",
          "Adaptive Visual Servo Control for Autonomous<br>Robots",
          "Cooperative Predictive Cruise Control: A<br>Bargaining Game Approach",
          "Granular Compensation, Information, and Carbon<br>Pricing Promote DERDeployment",
          "Prediction Based Decision Making for Autonomous<br>Highway Driving",
          "Resolving Infeasibility of Linear Systems:<br>A Parameterized Approach",
          "Online Decision Making for Trading Wind Energy",
          "A new collision avoidance model with random<br>batch resolution strategy",
          "Analysis of the Effect of Time Delay for<br>Unmanned Aerial Vehicles withApplications to Vision<br>Based Navigation",
          "Lattice-based shape tracking and servoing<br>of elastic objects",
          "Natural Policy Gradients In Reinforcement<br>Learning Explained",
          "Indoor Path Planning for Multiple Unmanned<br>Aerial Vehicles viaCurriculum Learning",
          "A negative imaginary approach to hybrid integrator-gain<br>system control",
          "Free material optimization of thermal conductivity<br>tensors withasymmetric components",
          "Model Predictive Control Design of a 3-DOF<br>Robot Arm Based onRecognition of Spatial Coordinates",
          "Variational Inference for Model-Free and<br>Model-Based ReinforcementLearning",
          "Spatial motion planning with Pythagorean<br>Hodograph curves",
          "Extension of a Linear Controller Scheme to<br>Non-Linear Systems and itsApplication on Inverted<br>Pendulum",
          "A General Controller Scheme for Stabilization<br>& Disturbance Rejectionwith Application to<br>Non-Linear Systems and its Implementation on 2<br>DOFHelicopter",
          "Data-Assisted Vision-Based Hybrid Control<br>for Robust Stabilizationwith Obstacle Avoidance<br>via Learning of Perception Maps",
          "Autonomous Delivery of Multiple Packages<br>Using Single Drone in UrbanAirspace",
          "Learning to Deceive in Multi-Agent Hidden<br>Role Games",
          "A Scalable Data-Driven Technique for Joint<br>Evacuation Routing andScheduling Problems",
          "An interpretative and adaptive MPC for nonlinear<br>systems",
          "Model-Free Deep Reinforcement Learning in<br>Software-Defined Networks",
          "A Hybrid Tracking Control Strategy for an<br>Unmanned Underwater VehicleAided with Bioinspired<br>Neural Dynamics",
          "A Novel Knowledge-Based Genetic Algorithm<br>for Robot Path Planning inComplex Environments",
          "Reinforcement Learning with Prior Policy<br>Guidance for Motion Planningof Dual-Arm Free-Floating<br>Space Robot",
          "Online Evasive Strategy for Aerial Survey<br>using Sierpinski curve",
          "Sharp bounds on the price of bandit feedback<br>for several models ofmistake-bounded online<br>learning",
          "A repeated unknown game: Decentralized task<br>offloading in vehicularfog computing",
          "The Folded Pneumatic Artificial Muscle (foldPAM):<br>TowardsProgrammability and Control via<br>End Geometry"
         ],
         "type": "scatter3d",
         "uid": "7",
         "x": [
          3.145334,
          2.9942358,
          3.1961339,
          2.2774,
          2.7464564,
          2.4906824,
          1.9098217,
          3.1784654,
          2.3829043,
          3.116264,
          2.941196,
          3.048988,
          2.7778049,
          1.6837752,
          1.718673,
          1.6715019,
          1.8997966,
          2.9341393,
          2.5701659,
          2.1110036,
          2.4794815,
          2.5984187,
          2.0737264,
          1.9635786,
          2.8662229,
          2.4570515,
          2.2366688,
          2.2927365,
          2.4316897,
          2.4215586,
          2.9897919,
          2.3947983,
          1.6951767,
          3.3371203,
          2.2605927,
          2.923316,
          3.0847034,
          2.4990332,
          3.0014534,
          3.2407792,
          3.1118932,
          2.354586,
          2.0575924,
          2.3527389,
          2.3424687,
          2.5372229,
          3.0459268,
          2.3146522,
          2.0351534,
          2.2367086,
          3.3360522,
          2.8707063,
          2.464241,
          2.7511544,
          2.962007,
          2.1781607,
          2.6601179,
          3.4098213,
          2.302002,
          2.3758204,
          3.0372913,
          2.9984372,
          2.155329,
          2.1197994,
          2.8799796,
          2.8945107,
          2.355664,
          2.3089993,
          2.2057712,
          2.945955,
          2.4985814,
          2.3207974,
          2.3607018,
          1.9431657,
          2.991746,
          2.9977374,
          2.7780244,
          2.3703368,
          3.0251262,
          2.4434953,
          2.581913,
          2.6053264,
          2.5475593,
          3.413802,
          3.1998656,
          2.2283375
         ],
         "y": [
          11.988972,
          11.9875145,
          11.968266,
          12.4245615,
          12.299165,
          12.036463,
          11.870319,
          11.754104,
          11.783515,
          11.848073,
          12.273603,
          12.420604,
          12.324634,
          12.152251,
          12.054826,
          12.296865,
          12.137261,
          12.217135,
          12.358029,
          11.8927555,
          12.299127,
          12.090018,
          12.50171,
          12.202752,
          12.407839,
          12.673818,
          12.528264,
          12.573853,
          12.391823,
          12.485594,
          12.497991,
          12.079787,
          12.061503,
          11.727716,
          12.3416195,
          12.558098,
          11.476493,
          12.188458,
          12.313179,
          12.076248,
          11.612777,
          12.160807,
          11.705789,
          12.541637,
          11.955735,
          12.408493,
          12.391191,
          11.729361,
          12.335519,
          12.151684,
          12.143109,
          12.216468,
          11.931926,
          12.3391,
          12.419006,
          12.167202,
          12.457388,
          12.1123495,
          12.49333,
          11.7245865,
          12.2709875,
          12.033811,
          12.225896,
          12.31957,
          12.190598,
          12.4967785,
          11.835906,
          12.56116,
          12.1549015,
          11.715484,
          12.350911,
          11.713217,
          11.776377,
          12.082742,
          12.518052,
          12.22077,
          12.343878,
          11.886125,
          11.907002,
          12.2428465,
          12.428893,
          12.296768,
          12.388029,
          11.650431,
          12.064385,
          12.33352
         ],
         "z": [
          10.314604,
          10.496717,
          10.311159,
          11.178358,
          10.868445,
          11.0049925,
          11.138968,
          10.780229,
          11.29735,
          10.466543,
          10.577536,
          10.7145195,
          10.811099,
          10.949987,
          10.978667,
          10.880164,
          10.966744,
          10.364938,
          11.093032,
          11.221178,
          11.171381,
          10.86322,
          10.684867,
          10.973379,
          10.800698,
          10.79042,
          11.001142,
          10.850822,
          11.108176,
          10.772883,
          10.784965,
          11.139176,
          10.985106,
          10.693812,
          11.179362,
          10.762919,
          10.620773,
          10.870003,
          10.414205,
          10.405284,
          10.838207,
          11.1609125,
          11.244431,
          10.535125,
          11.196155,
          11.108875,
          10.268207,
          11.34314,
          10.894511,
          11.186643,
          10.29745,
          10.590926,
          11.155466,
          10.83867,
          10.564603,
          11.173212,
          10.834043,
          10.26581,
          10.745988,
          11.2509,
          10.338102,
          10.512393,
          11.150408,
          11.2637615,
          10.858713,
          10.886428,
          11.241649,
          10.983185,
          11.216138,
          10.715382,
          11.137981,
          11.347523,
          11.302391,
          11.014999,
          10.791571,
          10.449316,
          10.886868,
          11.134416,
          10.805105,
          11.188665,
          10.9603405,
          10.976714,
          10.9457245,
          10.764579,
          10.281856,
          11.220233
         ]
        },
        {
         "hoverinfo": "text",
         "marker": {
          "color": "#E2E2E2",
          "opacity": 0.8,
          "size": 2
         },
         "mode": "markers",
         "name": "COVERAGE",
         "text": [
          "Black-Box Audits for Group Distribution Shifts",
          "Conformal Methods for Quantifying Uncertainty<br>in Spatiotemporal Data:A Survey",
          "Same Coverage, Less Bloat: Accelerating Binary-only<br>Fuzzing withCoverage-preserving Coverage-guided<br>Tracing",
          "Causal discovery for time series with latent<br>confounders",
          "Large Scale Enrichment and Statistical Cyber<br>Characterization ofNetwork Traffic",
          "Quantifying Aleatoric and Epistemic Uncertainty<br>in Machine Learning:Are Conditional Entropy<br>and Mutual Information Appropriate Measures?",
          "TickTock: Detecting Microphone Status in<br>Laptops LeveragingElectromagnetic Leakage of Clock<br>Signals",
          "SAGE: Software-based Attestation for GPU<br>Execution",
          "Quantitative probing: Validating causal models<br>using quantitativedomain knowledge",
          "Difficulty-Net: Learning to Predict Difficulty<br>for Long-TailedRecognition",
          "Building up Cyber Resilience by Better Grasping<br>Cyber Risk Via a NewAlgorithm for Modelling<br>Heavy-Tailed Data",
          "An IoT-Enriched Event Log for Process Mining<br>in Smart Factories",
          "Minimum-entropy causal inference and its<br>application in brain networkanalysis",
          "Bayesian Statistical Model Checking for Multi-agent<br>Systems usingHyperPCTL*",
          "CausalRCA: Causal Inference based Precise<br>Fine-grained Root CauseLocalization for Microservice<br>Applications",
          "FIRED: a fine-grained robust performance<br>diagnosis framework for cloudapplications",
          "A Robust Learning Methodology for Uncertainty-aware<br>Scientific MachineLearning models",
          "ProcessorFuzz: Guiding Processor Fuzzing<br>using Control and StatusRegisters",
          "\"Is your explanation stable?\": A Robustness<br>Evaluation Framework forFeature Attribution",
          "Conditional Independence Testing via Latent<br>Representation Learning"
         ],
         "type": "scatter3d",
         "uid": "8",
         "x": [
          1.6185428,
          1.7569546,
          1.9541467,
          1.843302,
          1.8343136,
          1.7447139,
          2.0161257,
          1.8005412,
          1.7187924,
          1.3633116,
          1.5345968,
          1.7070187,
          1.818823,
          1.8550109,
          1.6994679,
          1.6944778,
          1.7752655,
          1.97924,
          1.9466708,
          1.8438205
         ],
         "y": [
          12.891229,
          12.880459,
          12.703364,
          13.204795,
          12.971892,
          12.964531,
          12.730761,
          12.47194,
          13.054451,
          12.383597,
          12.536008,
          12.78079,
          13.053859,
          12.937892,
          13.040426,
          12.72311,
          12.927819,
          12.704206,
          12.965961,
          13.196387
         ],
         "z": [
          9.149383,
          9.838807,
          9.778591,
          9.643433,
          9.365892,
          9.736645,
          9.754546,
          9.690852,
          9.550253,
          9.013344,
          9.221629,
          9.354201,
          9.452445,
          9.753386,
          9.42975,
          9.678069,
          9.693832,
          9.806016,
          9.49359,
          9.683203
         ]
        },
        {
         "hoverinfo": "text",
         "marker": {
          "color": "#1CBE4F",
          "opacity": 0.8,
          "size": 2
         },
         "mode": "markers",
         "name": "SOCIAL",
         "text": [
          "The Users Aren't Alright: Dangerous Mental<br>Illness Behaviors andRecommendations",
          "Participant Perceptions of a Robotic Coach<br>Conducting PositivePsychology Exercises: A Systematic<br>Analysis",
          "Taking Advice from (Dis)Similar Machines:<br>The Impact of Human-MachineSimilarity on Machine-Assisted<br>Decision-Making",
          "Ethical and Social Considerations in Automatic<br>Expert Identificationand People Recommendation<br>in Organizational Knowledge Management Systems",
          "Towards Responsible Medical Diagnostics Recommendation<br>Systems",
          "Known by the company we keep: `Triadic influence'<br>as a proxy forcompatibility in social<br>relationships",
          "Reconstructing signed relations from interaction<br>data",
          "PERFECT: A Hyperbolic Embedding for Joint<br>User and Community Alignment",
          "KT-BT: A Framework for Knowledge Transfer<br>Through Behavior Trees inMulti-Robot Systems",
          "Matching Consumer Fairness Objectives & Strategies<br>for RecSys",
          "Getting Users Smart Quick about Security:<br>Results from 90 Minutes ofUsing a Persuasive Toolkit<br>for Facilitating Information Security ProblemSolving<br>by Non-Professionals",
          "Guidelines to Develop Trustworthy Conversational<br>Agents for Children",
          "Is it Fun?: Understanding Enjoyment in Non-Game<br>HCI Research",
          "Recommender Systems and Algorithmic Hate",
          "Trust in Language Grounding: a new AI challenge<br>for human-robot teams",
          "When Robotics Meets Wireless Communications:<br>An Introductory Tutorial",
          "BiRank vs PageRank: Using SNA on Company<br>Register Data for Fiscal RiskPrediction",
          "The Best Decisions Are Not the Best Advice:<br>Making Adherence-AwareRecommendations",
          "A Brief History of Recommender Systems",
          "\"iCub, We Forgive You!\" Investigating Trust<br>in a Game Scenario withKids",
          "IEEE Trust, Acceptance and Social Cues in<br>Human-Robot Interaction --SCRITA 2022 Workshop",
          "FairSNA: Algorithmic Fairness in Social Network<br>Analysis",
          "IoT Book Bot",
          "Older adults acceptance of SARs: The link<br>between anticipated andactual interaction",
          "IEEE Trust, Acceptance and Social Cues in<br>Human-Robot Interaction --SCRITA 2022 Workshop",
          "Robotic Exercise Trainer: How Failures and<br>T-HRI Levels Affect UserAcceptance and Trust",
          "IEEE Trust, Acceptance and Social Cues in<br>Human-Robot Interaction --SCRITA 2022 Workshop",
          "Cross-Network Social User Embedding with<br>Hybrid Differential PrivacyGuarantees",
          "Modeling Opinion Dynamics: Ranking Algorithms<br>on HeterogeneousPopulations"
         ],
         "type": "scatter3d",
         "uid": "9",
         "x": [
          2.9183772,
          2.9986193,
          2.8899152,
          2.9102483,
          2.7027206,
          2.9590344,
          2.9559727,
          2.9838078,
          3.0151987,
          2.6698115,
          3.0031474,
          2.8617806,
          2.818763,
          2.8247097,
          2.9083598,
          2.9965806,
          2.7021751,
          2.9355993,
          2.675618,
          2.9510212,
          2.9920638,
          2.6984472,
          2.9622574,
          2.949654,
          2.9697402,
          2.986362,
          2.9892418,
          2.9848738,
          2.9794266
         ],
         "y": [
          13.856217,
          14.125371,
          13.834468,
          13.820911,
          13.686833,
          13.555642,
          13.729259,
          13.569154,
          14.026241,
          13.4488325,
          14.029692,
          14.197905,
          14.184341,
          13.775282,
          14.120471,
          13.972099,
          13.370195,
          13.663726,
          13.662305,
          14.145572,
          14.084557,
          13.412397,
          13.954903,
          14.105995,
          14.099856,
          14.112997,
          14.09026,
          13.542162,
          13.510004
         ],
         "z": [
          8.674881,
          8.912716,
          8.71039,
          8.6717615,
          8.668096,
          8.514775,
          8.564456,
          8.477049,
          8.939442,
          8.408876,
          8.901648,
          8.786745,
          8.868459,
          8.643974,
          8.919709,
          9.111082,
          8.45525,
          8.70615,
          8.651098,
          8.843075,
          8.891987,
          8.420982,
          9.183509,
          8.866958,
          8.891483,
          8.906961,
          8.898345,
          8.536976,
          8.549471
         ]
        },
        {
         "hoverinfo": "text",
         "marker": {
          "color": "#C4451C",
          "opacity": 0.8,
          "size": 2
         },
         "mode": "markers",
         "name": "GAN",
         "text": [
          "Lightweight Long-Range Generative Adversarial<br>Networks",
          "Generalized One-shot Domain Adaption of Generative<br>AdversarialNetworks",
          "Supervised GAN Watermarking for Intellectual<br>Property Protection",
          "Improved Sensor-Based Animal Behavior Classification<br>Performancethrough Conditional Generative<br>Adversarial Network",
          "CGAN-ECT: Tomography Image Reconstruction<br>from Electrical CapacitanceMeasurements Using<br>CGANs",
          "Generative Adversarial Super-Resolution at<br>the Edge with KnowledgeDistillation",
          "Can GAN-induced Attribute Manipulations Impact<br>Face Recognition?",
          "DC-Art-GAN: Stable Procedural Content Generation<br>using DC-GANs forDigital Art",
          "Studying Bias in GANs through the Lens of<br>Race",
          "Bag of Tricks for FGSM Adversarial Training",
          "Facial Expression Translation using Landmark<br>Guided GANs",
          "Dynamics of Fourier Modes in Torus Generative<br>Adversarial Networks",
          "Exploiting Pre-trained Feature Networks for<br>Generative AdversarialNetworks in Audio-domain<br>Loop Generation",
          "DSE-GAN: Dynamic Semantic Evolution Generative<br>Adversarial Network forText-to-Image Generation"
         ],
         "type": "scatter3d",
         "uid": "10",
         "x": [
          1.1024656,
          1.0014172,
          1.0793078,
          1.3203341,
          1.1648422,
          1.3123933,
          0.9584792,
          1.0362756,
          1.0649499,
          1.4184881,
          0.8281477,
          1.09784,
          1.0320191,
          0.9551197
         ],
         "y": [
          11.333479,
          11.337861,
          11.389928,
          11.447572,
          11.342457,
          11.483982,
          11.29318,
          11.317793,
          11.376199,
          11.564519,
          11.27822,
          11.288772,
          11.305042,
          11.351122
         ],
         "z": [
          8.057638,
          8.022601,
          8.150856,
          8.133908,
          8.196393,
          8.242949,
          8.037012,
          8.060612,
          8.057078,
          8.285249,
          8.068875,
          8.068146,
          8.029444,
          8.069285
         ]
        },
        {
         "hoverinfo": "text",
         "marker": {
          "color": "#DEA0FD",
          "opacity": 0.8,
          "size": 2
         },
         "mode": "markers",
         "name": "ARCHIVE",
         "text": [
          "Training Scale-Invariant Neural Networks<br>on the Sphere Can Happen inThree Regimes",
          "The (Un)Scalability of Heuristic Approximators<br>for NP-Hard SearchProblems",
          "Impact of dataset size and long-term ECoG-based<br>BCI usage on deeplearning decoders performance",
          "Network Intrusion Detection with Limited<br>Labeled Data",
          "Effects of Archive Size on Computation Time<br>and Solution Quality forMulti-Objective Optimization",
          "Impact of Colour Variation on Robustness<br>of Deep Neural Networks",
          "Impact of Scaled Image on Robustness of Deep<br>Neural Networks",
          "Deep Learning for Medical Imaging From Diagnosis<br>Prediction to itsCounterfactual Explanation",
          "Magnitude-image based data-consistent deep<br>learning method for MRIsuper resolution",
          "Improving the Accuracy and Robustness of<br>CNNs Using a Deep CCA NeuralData Regularizer",
          "Robustness and invariance properties of image<br>classifiers",
          "Unrestricted Adversarial Samples Based on<br>Non-semantic FeatureClusters Substitution",
          "USLN: A statistically guided lightweight<br>network for underwater imageenhancement via dual-statistic<br>white balance and multi-color space<br>stretch",
          "Impact of Scaled Image on Robustness of Deep<br>Neural Networks",
          "ScaleFace: Uncertainty-aware Deep Metric<br>Learning",
          "A Principled Evaluation Protocol for Comparative<br>Investigation of theEffectiveness of DNN<br>Classification Models on Similar-but-non-identicalDatasets",
          "Concatenated Classic and Neural (CCN) Codes:<br>ConcatenatedAE",
          "Data Augmentation for Deep Receivers"
         ],
         "type": "scatter3d",
         "uid": "11",
         "x": [
          1.214656,
          1.2322919,
          1.2402238,
          1.0939475,
          1.3579977,
          1.1047133,
          1.0926884,
          0.9741389,
          0.9079118,
          1.1294783,
          1.178992,
          1.146836,
          1.1011026,
          1.1125059,
          0.92889595,
          0.99648315,
          1.2806966,
          1.165555
         ],
         "y": [
          11.783346,
          11.781638,
          11.916366,
          12.073368,
          11.879779,
          12.00004,
          11.943328,
          12.134756,
          11.861595,
          11.870941,
          12.222998,
          12.281634,
          12.024973,
          11.915809,
          11.941533,
          12.206214,
          11.754744,
          11.970132
         ],
         "z": [
          9.569888,
          9.612745,
          9.375917,
          9.223554,
          9.482123,
          9.449302,
          9.46522,
          9.350562,
          9.429698,
          9.417479,
          9.565996,
          9.612892,
          9.347417,
          9.462804,
          9.472402,
          9.468386,
          9.232626,
          9.194031
         ]
        },
        {
         "hoverinfo": "text",
         "marker": {
          "color": "#FE00FA",
          "opacity": 0.8,
          "size": 2
         },
         "mode": "markers",
         "name": "MUSIC",
         "text": [
          "Accented Speech Recognition under the Indian<br>context",
          "ESSYS* Sharing #UC: An Emotion-driven Audiovisual<br>Installation",
          "AI Illustrator: Translating Raw Descriptions<br>into Images by Prompt-based Cross-Modal Generation",
          "AudioLM: a Language Modeling Approach to<br>Audio Generation",
          "Benchmarking Multimodal Variational Autoencoders:<br>GeBiD Dataset andToolkit",
          "Improving Choral Music Separation through<br>Expressive Synthesized Datafrom Sampled Instruments",
          "The Role of Voice Persona in Expressive Communication:An<br>Argument forRelevance in Speech<br>Synthesis Design",
          "Read it to me: An emotionally aware Speech<br>Narration Application",
          "Instrument Separation of Symbolic Music by<br>Explicitly Guided DiffusionModel",
          "Make Acoustic and Visual Cues Matter: CH-SIMS<br>v2.0 Dataset and AV-Mixup Consistent Module",
          "Multi-Modal Experience Inspired AI Creation",
          "Bridging Music and Text with Crowdsourced<br>Music Comments: A Sequence-to-Sequence Framework<br>for Thematic Music Comments Generation",
          "Multi-Figurative Language Generation",
          "Deceiving Audio Design in Augmented Environments<br>: A Systematic Reviewof Audio Effects in<br>Augmented Reality"
         ],
         "type": "scatter3d",
         "uid": "12",
         "x": [
          1.0702242,
          1.1223378,
          1.1886206,
          1.0152993,
          1.2772211,
          1.1914425,
          1.1054132,
          1.1646543,
          1.2718443,
          1.2152302,
          1.2405926,
          1.1523098,
          1.1276839,
          0.8753642
         ],
         "y": [
          13.9428425,
          14.005287,
          14.012142,
          13.988406,
          13.77936,
          14.048367,
          13.98902,
          13.997714,
          13.976619,
          13.879137,
          13.99117,
          14.001423,
          13.964916,
          13.944842
         ],
         "z": [
          8.531238,
          8.663932,
          8.690841,
          8.590118,
          8.690601,
          8.520229,
          8.60817,
          8.677769,
          8.564568,
          8.764776,
          8.743247,
          8.641451,
          8.61226,
          8.712122
         ]
        },
        {
         "hoverinfo": "text",
         "marker": {
          "color": "#325A9B",
          "opacity": 0.8,
          "size": 2
         },
         "mode": "markers",
         "name": "MISINFORMATION",
         "text": [
          "Fact-Saboteurs: A Taxonomy of Evidence Manipulation<br>Attacks againstFact-Verification Systems",
          "MetaPriv: Acting in Favor of Privacy on Social<br>Media Platforms",
          "Machine Learning-based Automatic Annotation<br>and Detection of COVID-19Fake News",
          "Social Media Engagement and Cryptocurrency<br>Performance",
          "Increasing Adverse Drug Events extraction<br>robustness on social media:case study on negation<br>and speculation",
          "Depression Symptoms Modelling from Social<br>Media Text: An ActiveLearning Approach",
          "Impact analysis of recovery cases due to<br>COVID19 using LSTM deeplearning model",
          "\"Dummy Grandpa, do you know anything?\": Identifying<br>and CharacterizingAd hominem Fallacy<br>Usage in the Wild",
          "Stop the [Image] Steal: The Role and Dynamics<br>of Visual Content in the2020 U.S. Election<br>Misinformation Campaign",
          "On the Horizon: Interactive and Compositional<br>Deepfakes",
          "One year of COVID-19 vaccine misinformation<br>on Twitter",
          "Interpretable Fake News Detection with Topic<br>and Deep VariationalModels"
         ],
         "type": "scatter3d",
         "uid": "13",
         "x": [
          0.5025542,
          0.6438517,
          0.6015632,
          0.7883417,
          0.6724824,
          0.780509,
          0.67069465,
          0.57247704,
          0.5471578,
          0.6288183,
          0.6173776,
          0.54313767
         ],
         "y": [
          13.801337,
          13.50804,
          13.569705,
          13.665683,
          13.685504,
          13.709127,
          13.372204,
          13.801976,
          13.569036,
          13.78981,
          13.581778,
          13.546415
         ],
         "z": [
          8.812205,
          8.874424,
          8.747856,
          8.789866,
          8.683274,
          8.617598,
          8.863121,
          8.72635,
          8.763286,
          8.7147255,
          8.8025055,
          8.7501
         ]
        },
        {
         "hoverinfo": "text",
         "marker": {
          "color": "#FEAF16",
          "opacity": 0.8,
          "size": 2
         },
         "mode": "markers",
         "name": "SHADOW",
         "text": [
          "TF-GridNet: Making Time-Frequency Domain<br>Models Great Again forMonaural Speaker Separation",
          "Representing Camera Response Function by<br>a Single Latent Variable andFully Connected Neural<br>Network",
          "Information Maximization for Extreme Pose<br>Face Recognition",
          "T$^2$LR-Net: An Unrolling Reconstruction<br>Network Learning TransformedTensor Low-Rank prior<br>for Dynamic MR Imaging",
          "Learning-based and unrolled motion-compensated<br>reconstruction forcardiac MR CINE imaging",
          "Convolutional Neural Network (CNN) to reduce<br>construction loss in JPEGcompression",
          "Learned Image Compression with Generalized<br>Octave Convolution andCross-Resolution Parameter<br>Estimation",
          "A Self-Similar Sine-Cosine Fractal Architecture<br>for MultiportInterferometers",
          "Video Restoration with a Deep Plug-and-Play<br>Prior",
          "Segment Augmentation and Differentiable Ranking<br>for Logo Retrieval",
          "Optimal design of photonic nanojets under<br>uncertainty",
          "Multimodal contrastive learning for remote<br>sensing tasks",
          "CNSNet: A Cleanness-Navigated-Shadow Network<br>for Shadow Removal",
          "Design of the topology for contrastive visual-textual<br>alignment",
          "Low-rank nonnegative tensor approximation<br>via alternating projectionsand sketching",
          "TFN: An Interpretable Neural Network with<br>Time-Frequency TransformEmbedded for Intelligent<br>Fault Diagnosis",
          "A CNC approach for Directional Total Variation",
          "A Variational Approach for Joint Image Recovery<br>and FeaturesExtraction Based on Spatially<br>Varying Generalised Gaussian Models",
          "Semantic Segmentation in Learned Compressed<br>Domain"
         ],
         "type": "scatter3d",
         "uid": "14",
         "x": [
          0.72019255,
          0.5852107,
          0.66953415,
          0.7955338,
          0.81857705,
          0.6729501,
          0.71332544,
          0.8759742,
          0.7239575,
          0.56768745,
          0.83247787,
          0.6373232,
          0.7435228,
          0.71011746,
          0.8787943,
          0.7281797,
          0.82525283,
          0.7671038,
          0.6459064
         ],
         "y": [
          11.198787,
          11.451974,
          11.472617,
          11.272693,
          11.559929,
          11.499593,
          11.489195,
          11.233476,
          11.192537,
          11.778222,
          11.140488,
          11.789197,
          12.070625,
          11.596276,
          11.242956,
          11.253101,
          11.018364,
          11.070687,
          11.717284
         ],
         "z": [
          8.96497,
          8.900837,
          8.892587,
          9.0449505,
          9.0499935,
          9.055422,
          8.899366,
          9.07084,
          9.086268,
          8.515301,
          9.149679,
          8.833775,
          8.757805,
          8.79242,
          9.007031,
          9.065861,
          9.094257,
          9.092752,
          8.497313
         ]
        },
        {
         "hoverinfo": "text",
         "marker": {
          "color": "#F8A19F",
          "opacity": 0.8,
          "size": 2
         },
         "mode": "markers",
         "name": "ANSWERING",
         "text": [
          "Semantic Interactive Learning for Text Classification:<br>A ConstructiveApproach for Contextual<br>Interactions",
          "Contextualizing Large-Scale Domain Knowledge<br>for Conceptual Modelingand Simulation",
          "Cognitive Assistance for Inquiry-Based Modeling",
          "Gather -- a better way to codehack online",
          "Impact of 4ir technology and its impact on<br>the current deployment",
          "Interactive Question Answering Systems: Literature<br>Review",
          "An Empirical Study of Automation in Software<br>Security Patch Management",
          "Learning to Predict Requires Integrated Information"
         ],
         "type": "scatter3d",
         "uid": "15",
         "x": [
          2.0564024,
          2.0400681,
          2.0102637,
          2.2679124,
          2.330619,
          2.1525738,
          2.4939911,
          2.0853057
         ],
         "y": [
          14.08843,
          14.119208,
          14.157959,
          13.956555,
          13.964486,
          14.094221,
          13.87917,
          14.103348
         ],
         "z": [
          8.709785,
          8.936303,
          8.996833,
          8.865242,
          9.167408,
          8.7742195,
          9.29375,
          8.810353
         ]
        },
        {
         "hoverinfo": "text",
         "marker": {
          "color": "#90AD1C",
          "opacity": 0.8,
          "size": 2
         },
         "mode": "markers",
         "name": "SOFTWARE",
         "text": [
          "FAT Forensics: A Python Toolbox for Implementing<br>and DeployingFairness, Accountability and<br>Transparency Algorithms in Predictive Systems",
          "Analyzing and Calibrating Risk Assessment<br>by Software Developers",
          "Data Leakage in Notebooks: Static Detection<br>and Better Processes",
          "SZZ in the time of Pull Requests",
          "A Review on the Process of Automated Software<br>Testing",
          "Reflections on Software Failure Analysis",
          "Towards Understanding Third-party Library<br>Dependency in C/C++Ecosystem",
          "Jeopardy: An Invertible Functional Programming<br>Language",
          "From Legal Contracts to Legal Calculi: the<br>code-driven normativity",
          "Pacta sunt servanda: legal contracts in Stipula",
          "Automatic Code Documentation Generation Using<br>GPT-3",
          "Programming Autonomous Machines",
          "Object-Oriented Requirements: a Unified Framework<br>for Specifications,Scenarios and Tests",
          "Aspects of Modelling Requirements in Very-Large<br>Agile SystemsEngineering",
          "A Formal Theory of Choreographic Programming",
          "Detecting unjustified assumptions in subclasses<br>via EO representation",
          "An Exploratory Study on the Predominant Programming<br>Paradigms inPython Code",
          "Detecting unanticipated mutual recursion<br>using Elegant Objectsrepresentation of object-oriented<br>programs",
          "Exploring the Verifiability of Code Generated<br>by GitHub Copilot",
          "A repository of automatic GUI test patterns<br>in Android applications:Specification and Analysis<br>using Alloy modeling language",
          "The Broken Windows Theory Applies to Technical<br>Debt",
          "Model-based Analysis and Specification of<br>Functional Requirements andTests for Complex Automotive<br>Systems"
         ],
         "type": "scatter3d",
         "uid": "16",
         "x": [
          2.2114856,
          2.4807227,
          2.366272,
          2.226384,
          2.45028,
          2.4750159,
          2.1046362,
          2.3329792,
          2.1588292,
          2.1006496,
          2.22898,
          2.4311976,
          2.172329,
          2.2615318,
          2.128445,
          1.9974971,
          2.175181,
          2.0423765,
          2.3123097,
          2.291177,
          2.4173129,
          2.2735655
         ],
         "y": [
          13.671678,
          13.824657,
          13.670375,
          13.755488,
          13.841957,
          13.855062,
          13.615927,
          13.864329,
          13.814864,
          13.723139,
          13.907453,
          14.049208,
          13.781622,
          13.7542715,
          13.757844,
          13.8345175,
          13.857602,
          13.850324,
          14.011452,
          13.741074,
          13.773297,
          13.685258
         ],
         "z": [
          9.491798,
          9.638393,
          9.483675,
          9.68699,
          9.566427,
          9.464554,
          9.5965185,
          9.761794,
          9.804271,
          9.794934,
          9.613061,
          9.540961,
          10.0228815,
          9.957171,
          9.986538,
          9.973869,
          9.736207,
          9.940019,
          9.617294,
          9.641506,
          9.434497,
          9.985493
         ]
        },
        {
         "hoverinfo": "text",
         "marker": {
          "color": "#F6222E",
          "opacity": 0.8,
          "size": 2
         },
         "mode": "markers",
         "name": "PICKING",
         "text": [
          "RGB-X Classification for Electronics Sorting",
          "A multi view multi stage and multi window<br>framework for pulmonaryartery segmentation from<br>CT scans",
          "Deep Multi-Scale Representation Learning<br>with Attention for AutomaticModulation Classification",
          "MSSPN: Automatic First Arrival Picking using<br>Multi-Stage SegmentationPicking Network",
          "Handcrafted Feature Selection Techniques<br>for Pattern Recognition: ASurvey",
          "Boundary Guided Semantic Learning for Real-time<br>COVID-19 LungInfection Segmentation System",
          "SIAN: Style-Guided Instance-Adaptive Normalization<br>for Multi-OrganHistopathology Image Synthesis",
          "A Multitask Deep Learning Model for Parsing<br>Bridge Elements andSegmenting Defect in Bridge<br>Inspection Images"
         ],
         "type": "scatter3d",
         "uid": "17",
         "x": [
          0.44343042,
          0.55144256,
          0.5925823,
          0.4936601,
          0.26226988,
          0.65391046,
          0.6782477,
          0.55239856
         ],
         "y": [
          12.098804,
          12.261689,
          12.278221,
          12.233579,
          12.139683,
          12.212041,
          12.333509,
          12.242185
         ],
         "z": [
          8.89944,
          8.697401,
          8.408783,
          8.541698,
          8.701766,
          8.62549,
          8.606409,
          8.686004
         ]
        },
        {
         "hoverinfo": "text",
         "marker": {
          "color": "#1CFFCE",
          "opacity": 0.8,
          "size": 2
         },
         "mode": "markers",
         "name": "SUPERVISED",
         "text": [
          "A Novel Semi-supervised Meta Learning Method<br>for Subject-transferBrain-computer Interface",
          "Measuring the Interpretability of Unsupervised<br>Representations viaQuantized Reverse Probing",
          "Not All Instances Contribute Equally: Instance-adaptive<br>ClassRepresentation Learning for<br>Few-Shot Visual Recognition",
          "A Weakly Supervised Learning Framework for<br>Salient Object Detectionvia Hybrid Labels",
          "Semi-supervised Crowd Counting via Density<br>Agency",
          "SUNet: Scale-aware Unified Network for Panoptic<br>Segmentation",
          "Self-supervised multimodal neuroimaging yields<br>predictiverepresentations for a spectrum<br>of Alzheimer's phenotypes",
          "Improving Self-supervised Learning for Out-of-distribution<br>Task viaAuxiliary Classifier",
          "Single-Stage Broad Multi-Instance Multi-Label<br>Learning (BMIML) withDiverse Inter-Correlations<br>and its application to medical image classification",
          "Robust and Efficient Imbalanced Positive-Unlabeled<br>Learning with Self-supervision",
          "MARTI-4: new model of human brain, considering<br>neocortex and basalganglia -- learns to play<br>Atari game by reinforcement learning on a single<br>CPU",
          "Zero-shot Aspect-level Sentiment Classification<br>via ExplicitUtilization of Aspect-to-Document<br>Sentiment Composition",
          "Transformer-CNN Cohort: Semi-supervised Semantic<br>Segmentation by theBest of Both Students",
          "A Benchmark for Weakly Semi-Supervised Abnormality<br>Localization inChest X-Rays",
          "Semi-Supervised Domain Adaptation by Similarity<br>based Pseudo-labelInjection",
          "Unsupervised Domain Adaptation via Style-Aware<br>Self-intermediateDomain",
          "RLIP: Relational Language-Image Pre-training<br>for Human-ObjectInteraction Detection",
          "ASTra: A Novel Algorithm-Level Approach to<br>Imbalanced Classification",
          "SCL-RAI: Span-based Contrastive Learning<br>with Retrieval AugmentedInference for Unlabeled<br>Entity Problem in NER",
          "Consistent Teacher Provides Better Supervision<br>in Semi-supervisedObject Detection",
          "Autonomous Cross Domain Adaptation under<br>Extreme Label Scarcity",
          "Transfer Learning of an Ensemble of DNNs<br>for SSVEP BCI Spellerswithout User-Specific Training",
          "Meta-Learning with Less Forgetting on Large-Scale<br>Non-Stationary TaskDistributions",
          "Equivariant Self-Supervision for Musical<br>Tempo Estimation",
          "STAD: Self-Training with Ambiguous Data for<br>Low-Resource RelationExtraction",
          "Noise-Robust Bidirectional Learning with<br>Dynamic Sample Reweighting",
          "Semi-Supervised Semantic Segmentation with<br>Cross Teacher Training"
         ],
         "type": "scatter3d",
         "uid": "18",
         "x": [
          1.0360777,
          1.0012226,
          1.0205003,
          1.0937253,
          1.0997313,
          0.78916496,
          0.87009823,
          1.1645967,
          0.87378,
          1.2336626,
          1.0237758,
          1.0447826,
          0.95136046,
          1.0529848,
          1.105617,
          0.88331,
          0.90379983,
          1.2776636,
          1.1128249,
          1.0986862,
          0.938491,
          1.0746307,
          1.3396832,
          1.1074936,
          1.1738183,
          1.3464166,
          0.98946404
         ],
         "y": [
          12.612341,
          12.606672,
          12.382702,
          12.127115,
          12.106383,
          12.093176,
          12.607604,
          12.059239,
          12.601224,
          12.388713,
          12.692021,
          12.365867,
          12.157318,
          12.134901,
          12.086376,
          11.926666,
          12.300484,
          12.39954,
          12.277564,
          12.195475,
          11.968332,
          12.65667,
          12.153737,
          12.534178,
          12.300431,
          11.972636,
          12.148989
         ],
         "z": [
          8.649515,
          8.458617,
          8.391296,
          8.094529,
          8.126203,
          8.361933,
          8.738086,
          8.246791,
          8.7814865,
          8.300386,
          8.682928,
          8.351256,
          8.379972,
          8.384101,
          8.015099,
          8.026586,
          8.226039,
          8.123327,
          8.057842,
          8.274426,
          7.9991975,
          8.661493,
          8.260066,
          8.274206,
          8.0675955,
          8.206446,
          8.282712
         ]
        },
        {
         "hoverinfo": "text",
         "marker": {
          "color": "#2ED9FF",
          "opacity": 0.8,
          "size": 2
         },
         "mode": "markers",
         "name": "TRANSFORMER",
         "text": [
          "Text-Free Learning of a Natural Language<br>Interface for Pretrained FaceGenerators",
          "W-Transformers : A Wavelet-based Transformer<br>Framework for UnivariateTime Series Forecasting",
          "Levenshtein OCR",
          "Multi-Granularity Prediction for Scene Text<br>Recognition",
          "Sign Language Detection",
          "Video Vision Transformers for Violence Detection",
          "Self-Supervised Multimodal Fusion Transformer<br>for Passive ActivityRecognition",
          "FasterX: Real-Time Object Detection Based<br>on Edge GPUs for UAVApplications",
          "Treating Motion as Option to Reduce Motion<br>Dependency in UnsupervisedVideo Object Segmentation",
          "Text Growing on Leaf",
          "Zoom Text Detector",
          "Auto-TransRL: Autonomous Composition of Vision<br>Pipelines for RoboticPerception",
          "Shifting Perspective to See Difference: A<br>Novel Multi-View Method forSkeleton based Action<br>Recognition",
          "YOLOv6: A Single-Stage Object Detection Framework<br>for IndustrialApplications",
          "Visual Transformer for Soil Classification",
          "Unsupervised Scene Sketch to Photo Synthesis",
          "Fusion of Satellite Images and Weather Data<br>with Transformer Networksfor Downy Mildew Disease<br>Detection",
          "Spach Transformer: Spatial and Channel-wise<br>Transformer Based on Localand Global Self-attentions<br>for PET Image Denoising",
          "Erato: Cooperative Data Story Editing via<br>Fact Interpolation",
          "Volume Rendering Digest (for NeRF)",
          "SkeletonMAE: Spatial-Temporal Masked Autoencoders<br>for Self-supervisedSkeleton Action Recognition",
          "A Scene-Text Synthesis Engine Achieved Through<br>Learning fromDecomposed Real-World Data",
          "Finger Multimodal Feature Fusion and Recognition<br>Based on ChannelSpatial Attention",
          "PTSEFormer: Progressive Temporal-Spatial<br>Enhanced TransFormer TowardsVideo Object Detection",
          "Scene Text Recognition with Single-Point<br>Decoding Network",
          "Predict-and-Update Network: Audio-Visual<br>Speech Recognition Inspiredby Human Speech Perception",
          "SEFormer: Structure Embedding Transformer<br>for 3D Object Detection",
          "Features Fusion Framework for Multimodal<br>Irregular Time-series Events",
          "Every picture tells a story: Image-grounded<br>controllable stylisticstory generation",
          "MAFormer: A Transformer Network with Multi-scale<br>Attention Fusion forVisual Recognition",
          "Spatial-Temporal Transformer for Video Snapshot<br>Compressive Imaging",
          "Hierarchical Transformer with Spatio-Temporal<br>Context Aggregation forNext Point-of-Interest<br>Recommendation",
          "An Empirical Study of End-to-End Video-Language<br>Transformers withMasked Visual Modeling",
          "VIOLET : End-to-End Video-Language Transformers<br>with Masked Visual-token Modeling",
          "Kinova Gemini: Interactive Robot Grasping<br>with Visual Reasoning andConversational AI"
         ],
         "type": "scatter3d",
         "uid": "19",
         "x": [
          -0.13302645,
          -0.1724599,
          -0.07714227,
          0.0018558997,
          0.025964698,
          -0.0130293695,
          -0.17744404,
          -0.09078217,
          0.17386992,
          -0.11159091,
          -0.16124752,
          -0.047191184,
          0.11981584,
          -0.14919138,
          -0.11173154,
          -0.066024646,
          -0.1539328,
          -0.15945798,
          -0.11734532,
          -0.21490867,
          0.20797743,
          -0.06958363,
          -0.3270384,
          -0.08923243,
          0.0018300333,
          0.06856983,
          -0.20782949,
          -0.15818502,
          -0.06461807,
          -0.1225493,
          -0.107019596,
          -0.09102507,
          0.09149614,
          0.017016115,
          0.0076785353
         ],
         "y": [
          12.838505,
          12.353977,
          12.642809,
          12.617128,
          12.689745,
          12.600809,
          12.311154,
          12.405882,
          12.042255,
          12.799523,
          12.686265,
          12.526266,
          12.331417,
          12.448594,
          12.59625,
          12.78099,
          12.349511,
          12.346473,
          12.827983,
          11.855338,
          12.444077,
          12.834079,
          12.091593,
          12.501198,
          12.593577,
          12.755004,
          12.35607,
          12.303062,
          12.827874,
          12.386601,
          12.311898,
          12.406331,
          12.604695,
          12.583287,
          12.350246
         ],
         "z": [
          8.597036,
          8.506672,
          8.644595,
          8.341454,
          9.352701,
          8.495654,
          8.513742,
          9.408154,
          8.306355,
          8.661518,
          8.61885,
          9.07721,
          8.426047,
          9.35835,
          8.8479395,
          8.572285,
          8.739469,
          8.478118,
          8.581217,
          8.772356,
          8.481338,
          8.588694,
          8604,
          8.423311,
          8.381492,
          8.64732,
          8.510766,
          8.498397,
          8.636524,
          8.428995,
          8.547354,
          8.418706,
          8.36389,
          8.387628,
          9.464796
         ]
        },
        {
         "hoverinfo": "text",
         "marker": {
          "color": "#B10DA1",
          "opacity": 0.8,
          "size": 2
         },
         "mode": "markers",
         "name": "3D",
         "text": [
          "PixTrack: Precise 6DoF Object Pose Tracking<br>using NeRF Templates andFeature-metric Alignment",
          "Histogram Layers for Synthetic Aperture Sonar<br>Imagery",
          "R$^3$LIVE++: A Robust, Real-time, Radiance<br>reconstruction package witha tightly-coupled<br>LiDAR-Inertial-Visual state Estimator",
          "Saliency-based Multiple Region of Interest<br>Detection from a Single360Â° image",
          "Measuring Human Perception to Improve Open<br>Set Recognition",
          "A Secure and Efficient Multi-Object Grasping<br>Detection Approach forRobotic Arms",
          "Detection and Mapping of Specular Surfaces<br>Using Multibounce LidarReturns",
          "3D Textured Shape Recovery with Learned Geometric<br>Priors",
          "Deployment of Aerial Robots during the Flood<br>Disaster in Erftstadt /Blessem in July 2021",
          "SIRA: Relightable Avatars from a Single Image",
          "BiFuse++: Self-supervised and Efficient Bi-projection<br>Fusion for 360Depth Estimation",
          "Facial De-morphing: Extracting Component<br>Faces from a Single Morph",
          "Toward Data-Driven STAP Radar",
          "Multi-Grained Angle Representation for Remote<br>Sensing Object Detection",
          "Deep Learning Assisted Optimization for 3D<br>Reconstruction from Single2D Line Drawings",
          "Domain Engineering for Applied Monocular<br>Reconstruction of ParametricFaces",
          "Applied monocular reconstruction of parametric<br>faces with domainengineering",
          "A neuromorphic approach to image processing<br>and machine vision",
          "Identification of Small Objects in Satellite<br>Image Benchmarks",
          "The Outcome of the 2022 Landslide4Sense Competition:<br>AdvancedLandslide Detection from Multi-Source<br>Satellite Imagery",
          "CAMO-MOT: Combined Appearance-Motion Optimization<br>for 3D Multi-ObjectTracking with Camera-LiDAR<br>Fusion",
          "Reconstructing Action-Conditioned Human-Object<br>Interactions UsingCommonsense Knowledge Priors",
          "Which country is this picture from? New data<br>and methods for DNN-basedcountry recognition",
          "Inferring Implicit 3D Representations from<br>Human Figures on PictorialMaps",
          "Task-wise Sampling Convolutions for Arbitrary-Oriented<br>ObjectDetection in Aerial Images",
          "Learning Canonical Embeddings for Unsupervised<br>Shape Correspondencewith Locally Linear Transformations",
          "Utilizing Post-Hurricane Satellite Imagery<br>to Identify Flooding Damagewith Convolutional<br>Neural Networks",
          "Neuromorphic Visual Odometry with Resonator<br>Networks",
          "MuCaSLAM: CNN-Based Frame Quality Assessment<br>for Mobile Robot withOmnidirectional Visual<br>SLAM",
          "SPCNet: Stepwise Point Cloud Completion Network",
          "Prototype-Aware Heterogeneous Task for Point<br>Cloud Completion",
          "CloudVision: DNN-based Visual Localization<br>of Autonomous Robots usingPrebuilt LiDAR Point<br>Cloud",
          "Pseudo-LiDAR for Visual Odometry"
         ],
         "type": "scatter3d",
         "uid": "20",
         "x": [
          -0.14931329,
          0.5889678,
          -0.09977081,
          -0.043159895,
          0.514354,
          0.35047102,
          -0.034691107,
          -0.06465918,
          0.39989054,
          -0.14085664,
          -0.11776373,
          -0.04000873,
          0.52051026,
          0.30373812,
          -0.016084757,
          -0.08148833,
          -0.08856995,
          0.5967635,
          0.47438312,
          0.31898877,
          -0.112338,
          -0.14584917,
          0.34178376,
          -0.13508575,
          0.37816212,
          0.012806467,
          0.40287772,
          0.053035375,
          0.13889617,
          0.024961626,
          0.035959452,
          -0.01767424,
          -0.08952317
         ],
         "y": [
          11.745906,
          11.853721,
          11.721654,
          11.749998,
          11.899186,
          11.934464,
          11.73352,
          11.470305,
          12.039722,
          11.591413,
          11.802716,
          11.461738,
          11.828849,
          11.899791,
          11.443873,
          11.458849,
          11.471448,
          11.830268,
          11.799688,
          12.032332,
          11.770392,
          11.547215,
          11.912914,
          11.548007,
          11.830944,
          11.458418,
          11.938349,
          11.807362,
          11.786187,
          11.530491,
          11.503748,
          11.7243595,
          11.680581
         ],
         "z": [
          9.352636,
          9.283268,
          9.343922,
          9.297871,
          9.389372,
          9.319123,
          9.091495,
          8.891505,
          9.552429,
          8.711016,
          9.16277,
          8.653255,
          9.642194,
          9.220248,
          8.893336,
          8.731064,
          8.7392025,
          9.23934,
          9.492275,
          9.558235,
          9.125707,
          8.825236,
          9.494877,
          8.813558,
          9.184104,
          9.014186,
          9.541763,
          9.253796,
          8.993788,
          8.945338,
          8.966773,
          9.329281,
          9.348853
         ]
        },
        {
         "hoverinfo": "text",
         "marker": {
          "color": "#C075A6",
          "opacity": 0.8,
          "size": 2
         },
         "mode": "markers",
         "name": "LANGUAGES",
         "text": [
          "Visual Grounding of Inter-lingual Word-Embeddings",
          "Knowledge Based Template Machine Translation<br>In Low-Resource Setting",
          "Improving the Cross-Lingual Generalisation<br>in Visual QuestionAnswering",
          "Adam Mickiewicz University at WMT 2022: NER-Assisted<br>and Quality-AwareNeural Machine Translation",
          "Facilitating Global Team Meetings Between<br>Language-Based Subgroups:When and How Can Machine<br>Translation Help?",
          "Taking a Language Detour: How International<br>Migrants Speaking aMinority Language Seek COVID-Related<br>Information in Their Host Countries",
          "Multilingual Bidirectional Unsupervised Translation<br>ThroughMultilingual Finetuning and Back-Translation",
          "Cross-Lingual and Cross-Domain Crisis Classification<br>for Low-ResourceScenarios",
          "CONCRETE: Improving Cross-lingual Fact-checking<br>with Cross-lingualRetrieval",
          "Informative Language Representation Learning<br>for MassivelyMultilingual Neural Machine Translation",
          "Multilingual ColBERT-X"
         ],
         "type": "scatter3d",
         "uid": "21",
         "x": [
          0.92945015,
          1.0764103,
          0.93635106,
          0.96105385,
          0.95556056,
          0.8899943,
          0.95283145,
          0.8650345,
          0.97315943,
          0.96251893,
          0.9347724
         ],
         "y": [
          13.214193,
          13.151505,
          13.177079,
          13.26567,
          13.322963,
          13.408193,
          13.227983,
          13.42946,
          13.3199625,
          13.23571,
          13.37024
         ],
         "z": [
          7.6895494,
          7.6893315,
          7.7176037,
          7.685533,
          7.67452,
          7.80653,
          7.7073855,
          7.799955,
          7.7328463,
          7.714828,
          7.8005857
         ]
        },
        {
         "hoverinfo": "text",
         "marker": {
          "color": "#FC1CBF",
          "opacity": 0.8,
          "size": 2
         },
         "mode": "markers",
         "name": "SUMMARIES",
         "text": [
          "Applying Transformer-based Text Summarization<br>for Keyphrase Generation",
          "Towards explainable evaluation of language<br>models on the semanticsimilarity of visual concepts",
          "Extractive is not Faithful: An Investigation<br>of Broad UnfaithfulnessProblems in Extractive<br>Summarization",
          "Entity-based SpanCopy for Abstractive Summarization<br>to Improve theFactual Consistency",
          "Investigating Reasons for Disagreement in<br>Natural Language Inference",
          "OneEE: A One-Stage Framework for Fast Overlapping<br>and Nested EventExtraction",
          "Transfer Learning of Lexical Semantic Families<br>for ArgumentativeDiscourse Units Identification",
          "Comparing Methods for Extractive Summarization<br>of Call Centre Dialogue",
          "Monolingual alignment of word senses and<br>definitions inlexicographical resources",
          "Layer or Representation Space: What makes<br>BERT-based EvaluationMetrics Robust?",
          "Reference Resolution and Context Change in<br>Multimodal SituatedDialogue for Exploring Data<br>Visualizations",
          "Distilling the Knowledge of BERT for CTC-based<br>ASR",
          "ChemBERTa-2: Towards Chemical Foundation<br>Models",
          "ArgLegalSumm: Improving Abstractive Summarization<br>of Legal Documentswith Argument Mining",
          "Quantitative Stopword Generation for Sentiment<br>Analysis via Recursiveand Iterative Deletion",
          "CrossDial: An Entertaining Dialogue Dataset<br>of Chinese Crosstalk"
         ],
         "type": "scatter3d",
         "uid": "22",
         "x": [
          1.3426293,
          1.4926409,
          1.3860022,
          1.374674,
          1.4979068,
          1.1443366,
          1.3935494,
          1.3441932,
          1.3324072,
          1.3252825,
          1.2885908,
          1.292188,
          1.4011098,
          1.4722749,
          1.3881892,
          1.6405936
         ],
         "y": [
          13.395467,
          13.309661,
          13.466939,
          13.421248,
          13.260524,
          13.138792,
          13.456388,
          13.3862,
          13.225797,
          13.250501,
          13.249797,
          13.183414,
          13.462412,
          13.596946,
          13.365587,
          13.3926525
         ],
         "z": [
          7.9302564,
          8.082645,
          7.897977,
          7.8679576,
          7.7809677,
          8.214683,
          8.084393,
          7.9205484,
          7.7564616,
          8.077748,
          8.096964,
          8.056575,
          8.28041,
          8.045401,
          8.001305,
          8.31391
         ]
        }
       ],
       "layout": {
        "height": 700,
        "hoverlabel": {
         "align": "left",
         "font": {
          "family": "Courier New",
          "size": 12
         }
        },
        "hovermode": "closest",
        "margin": {
         "b": 10,
         "l": 0,
         "r": 10,
         "t": 60
        },
        "scene": {
         "aspectmode": "auto",
         "aspectratio": {
          "x": 1,
          "y": 1,
          "z": 1
         },
         "camera": {
          "center": {
           "x": 0,
           "y": 0,
           "z": 0
          },
          "eye": {
           "x": -6.344311554198957e-17,
           "y": -1.839097360104874e-17,
           "z": -1.0787592483813333
          },
          "projection": {
           "type": "perspective"
          },
          "up": {
           "x": 0,
           "y": 0,
           "z": 1
          }
         },
         "xaxis": {
          "backgroundcolor": "rgb(200, 200, 230)",
          "gridcolor": "blue",
          "showbackground": false,
          "showgrid": false,
          "showspikes": false,
          "showticklabels": false,
          "title": {
           "text": ""
          },
          "type": "linear"
         },
         "yaxis": {
          "backgroundcolor": "rgb(200, 200, 230)",
          "gridcolor": "blue",
          "showbackground": false,
          "showgrid": false,
          "showspikes": false,
          "showticklabels": false,
          "title": {
           "text": ""
          },
          "type": "linear"
         },
         "zaxis": {
          "backgroundcolor": "rgb(200, 200, 230)",
          "gridcolor": "blue",
          "showbackground": false,
          "showgrid": false,
          "showspikes": false,
          "showticklabels": false,
          "title": {
           "text": ""
          },
          "type": "linear"
         }
        },
        "template": {
         "data": {
          "bar": [
           {
            "error_x": {
             "color": "#2a3f5f"
            },
            "error_y": {
             "color": "#2a3f5f"
            },
            "marker": {
             "line": {
              "color": "#E5ECF6",
              "width": 0.5
             },
             "pattern": {
              "fillmode": "overlay",
              "size": 10,
              "solidity": 0.2
             }
            },
            "type": "bar"
           }
          ],
          "barpolar": [
           {
            "marker": {
             "line": {
              "color": "#E5ECF6",
              "width": 0.5
             },
             "pattern": {
              "fillmode": "overlay",
              "size": 10,
              "solidity": 0.2
             }
            },
            "type": "barpolar"
           }
          ],
          "carpet": [
           {
            "aaxis": {
             "endlinecolor": "#2a3f5f",
             "gridcolor": "white",
             "linecolor": "white",
             "minorgridcolor": "white",
             "startlinecolor": "#2a3f5f"
            },
            "baxis": {
             "endlinecolor": "#2a3f5f",
             "gridcolor": "white",
             "linecolor": "white",
             "minorgridcolor": "white",
             "startlinecolor": "#2a3f5f"
            },
            "type": "carpet"
           }
          ],
          "choropleth": [
           {
            "colorbar": {
             "outlinewidth": 0,
             "ticks": ""
            },
            "type": "choropleth"
           }
          ],
          "contour": [
           {
            "colorbar": {
             "outlinewidth": 0,
             "ticks": ""
            },
            "colorscale": [
             [
              0,
              "#0d0887"
             ],
             [
              0.1111111111111111,
              "#46039f"
             ],
             [
              0.2222222222222222,
              "#7201a8"
             ],
             [
              0.3333333333333333,
              "#9c179e"
             ],
             [
              0.4444444444444444,
              "#bd3786"
             ],
             [
              0.5555555555555556,
              "#d8576b"
             ],
             [
              0.6666666666666666,
              "#ed7953"
             ],
             [
              0.7777777777777778,
              "#fb9f3a"
             ],
             [
              0.8888888888888888,
              "#fdca26"
             ],
             [
              1,
              "#f0f921"
             ]
            ],
            "type": "contour"
           }
          ],
          "contourcarpet": [
           {
            "colorbar": {
             "outlinewidth": 0,
             "ticks": ""
            },
            "type": "contourcarpet"
           }
          ],
          "heatmap": [
           {
            "colorbar": {
             "outlinewidth": 0,
             "ticks": ""
            },
            "colorscale": [
             [
              0,
              "#0d0887"
             ],
             [
              0.1111111111111111,
              "#46039f"
             ],
             [
              0.2222222222222222,
              "#7201a8"
             ],
             [
              0.3333333333333333,
              "#9c179e"
             ],
             [
              0.4444444444444444,
              "#bd3786"
             ],
             [
              0.5555555555555556,
              "#d8576b"
             ],
             [
              0.6666666666666666,
              "#ed7953"
             ],
             [
              0.7777777777777778,
              "#fb9f3a"
             ],
             [
              0.8888888888888888,
              "#fdca26"
             ],
             [
              1,
              "#f0f921"
             ]
            ],
            "type": "heatmap"
           }
          ],
          "heatmapgl": [
           {
            "colorbar": {
             "outlinewidth": 0,
             "ticks": ""
            },
            "colorscale": [
             [
              0,
              "#0d0887"
             ],
             [
              0.1111111111111111,
              "#46039f"
             ],
             [
              0.2222222222222222,
              "#7201a8"
             ],
             [
              0.3333333333333333,
              "#9c179e"
             ],
             [
              0.4444444444444444,
              "#bd3786"
             ],
             [
              0.5555555555555556,
              "#d8576b"
             ],
             [
              0.6666666666666666,
              "#ed7953"
             ],
             [
              0.7777777777777778,
              "#fb9f3a"
             ],
             [
              0.8888888888888888,
              "#fdca26"
             ],
             [
              1,
              "#f0f921"
             ]
            ],
            "type": "heatmapgl"
           }
          ],
          "histogram": [
           {
            "marker": {
             "pattern": {
              "fillmode": "overlay",
              "size": 10,
              "solidity": 0.2
             }
            },
            "type": "histogram"
           }
          ],
          "histogram2d": [
           {
            "colorbar": {
             "outlinewidth": 0,
             "ticks": ""
            },
            "colorscale": [
             [
              0,
              "#0d0887"
             ],
             [
              0.1111111111111111,
              "#46039f"
             ],
             [
              0.2222222222222222,
              "#7201a8"
             ],
             [
              0.3333333333333333,
              "#9c179e"
             ],
             [
              0.4444444444444444,
              "#bd3786"
             ],
             [
              0.5555555555555556,
              "#d8576b"
             ],
             [
              0.6666666666666666,
              "#ed7953"
             ],
             [
              0.7777777777777778,
              "#fb9f3a"
             ],
             [
              0.8888888888888888,
              "#fdca26"
             ],
             [
              1,
              "#f0f921"
             ]
            ],
            "type": "histogram2d"
           }
          ],
          "histogram2dcontour": [
           {
            "colorbar": {
             "outlinewidth": 0,
             "ticks": ""
            },
            "colorscale": [
             [
              0,
              "#0d0887"
             ],
             [
              0.1111111111111111,
              "#46039f"
             ],
             [
              0.2222222222222222,
              "#7201a8"
             ],
             [
              0.3333333333333333,
              "#9c179e"
             ],
             [
              0.4444444444444444,
              "#bd3786"
             ],
             [
              0.5555555555555556,
              "#d8576b"
             ],
             [
              0.6666666666666666,
              "#ed7953"
             ],
             [
              0.7777777777777778,
              "#fb9f3a"
             ],
             [
              0.8888888888888888,
              "#fdca26"
             ],
             [
              1,
              "#f0f921"
             ]
            ],
            "type": "histogram2dcontour"
           }
          ],
          "mesh3d": [
           {
            "colorbar": {
             "outlinewidth": 0,
             "ticks": ""
            },
            "type": "mesh3d"
           }
          ],
          "parcoords": [
           {
            "line": {
             "colorbar": {
              "outlinewidth": 0,
              "ticks": ""
             }
            },
            "type": "parcoords"
           }
          ],
          "pie": [
           {
            "automargin": true,
            "type": "pie"
           }
          ],
          "scatter": [
           {
            "fillpattern": {
             "fillmode": "overlay",
             "size": 10,
             "solidity": 0.2
            },
            "type": "scatter"
           }
          ],
          "scatter3d": [
           {
            "line": {
             "colorbar": {
              "outlinewidth": 0,
              "ticks": ""
             }
            },
            "marker": {
             "colorbar": {
              "outlinewidth": 0,
              "ticks": ""
             }
            },
            "type": "scatter3d"
           }
          ],
          "scattercarpet": [
           {
            "marker": {
             "colorbar": {
              "outlinewidth": 0,
              "ticks": ""
             }
            },
            "type": "scattercarpet"
           }
          ],
          "scattergeo": [
           {
            "marker": {
             "colorbar": {
              "outlinewidth": 0,
              "ticks": ""
             }
            },
            "type": "scattergeo"
           }
          ],
          "scattergl": [
           {
            "marker": {
             "colorbar": {
              "outlinewidth": 0,
              "ticks": ""
             }
            },
            "type": "scattergl"
           }
          ],
          "scattermapbox": [
           {
            "marker": {
             "colorbar": {
              "outlinewidth": 0,
              "ticks": ""
             }
            },
            "type": "scattermapbox"
           }
          ],
          "scatterpolar": [
           {
            "marker": {
             "colorbar": {
              "outlinewidth": 0,
              "ticks": ""
             }
            },
            "type": "scatterpolar"
           }
          ],
          "scatterpolargl": [
           {
            "marker": {
             "colorbar": {
              "outlinewidth": 0,
              "ticks": ""
             }
            },
            "type": "scatterpolargl"
           }
          ],
          "scatterternary": [
           {
            "marker": {
             "colorbar": {
              "outlinewidth": 0,
              "ticks": ""
             }
            },
            "type": "scatterternary"
           }
          ],
          "surface": [
           {
            "colorbar": {
             "outlinewidth": 0,
             "ticks": ""
            },
            "colorscale": [
             [
              0,
              "#0d0887"
             ],
             [
              0.1111111111111111,
              "#46039f"
             ],
             [
              0.2222222222222222,
              "#7201a8"
             ],
             [
              0.3333333333333333,
              "#9c179e"
             ],
             [
              0.4444444444444444,
              "#bd3786"
             ],
             [
              0.5555555555555556,
              "#d8576b"
             ],
             [
              0.6666666666666666,
              "#ed7953"
             ],
             [
              0.7777777777777778,
              "#fb9f3a"
             ],
             [
              0.8888888888888888,
              "#fdca26"
             ],
             [
              1,
              "#f0f921"
             ]
            ],
            "type": "surface"
           }
          ],
          "table": [
           {
            "cells": {
             "fill": {
              "color": "#EBF0F8"
             },
             "line": {
              "color": "white"
             }
            },
            "header": {
             "fill": {
              "color": "#C8D4E3"
             },
             "line": {
              "color": "white"
             }
            },
            "type": "table"
           }
          ]
         },
         "layout": {
          "annotationdefaults": {
           "arrowcolor": "#2a3f5f",
           "arrowhead": 0,
           "arrowwidth": 1
          },
          "autotypenumbers": "strict",
          "coloraxis": {
           "colorbar": {
            "outlinewidth": 0,
            "ticks": ""
           }
          },
          "colorscale": {
           "diverging": [
            [
             0,
             "#8e0152"
            ],
            [
             0.1,
             "#c51b7d"
            ],
            [
             0.2,
             "#de77ae"
            ],
            [
             0.3,
             "#f1b6da"
            ],
            [
             0.4,
             "#fde0ef"
            ],
            [
             0.5,
             "#f7f7f7"
            ],
            [
             0.6,
             "#e6f5d0"
            ],
            [
             0.7,
             "#b8e186"
            ],
            [
             0.8,
             "#7fbc41"
            ],
            [
             0.9,
             "#4d9221"
            ],
            [
             1,
             "#276419"
            ]
           ],
           "sequential": [
            [
             0,
             "#0d0887"
            ],
            [
             0.1111111111111111,
             "#46039f"
            ],
            [
             0.2222222222222222,
             "#7201a8"
            ],
            [
             0.3333333333333333,
             "#9c179e"
            ],
            [
             0.4444444444444444,
             "#bd3786"
            ],
            [
             0.5555555555555556,
             "#d8576b"
            ],
            [
             0.6666666666666666,
             "#ed7953"
            ],
            [
             0.7777777777777778,
             "#fb9f3a"
            ],
            [
             0.8888888888888888,
             "#fdca26"
            ],
            [
             1,
             "#f0f921"
            ]
           ],
           "sequentialminus": [
            [
             0,
             "#0d0887"
            ],
            [
             0.1111111111111111,
             "#46039f"
            ],
            [
             0.2222222222222222,
             "#7201a8"
            ],
            [
             0.3333333333333333,
             "#9c179e"
            ],
            [
             0.4444444444444444,
             "#bd3786"
            ],
            [
             0.5555555555555556,
             "#d8576b"
            ],
            [
             0.6666666666666666,
             "#ed7953"
            ],
            [
             0.7777777777777778,
             "#fb9f3a"
            ],
            [
             0.8888888888888888,
             "#fdca26"
            ],
            [
             1,
             "#f0f921"
            ]
           ]
          },
          "colorway": [
           "#636efa",
           "#EF553B",
           "#00cc96",
           "#ab63fa",
           "#FFA15A",
           "#19d3f3",
           "#FF6692",
           "#B6E880",
           "#FF97FF",
           "#FECB52"
          ],
          "font": {
           "color": "#2a3f5f"
          },
          "geo": {
           "bgcolor": "white",
           "lakecolor": "white",
           "landcolor": "#E5ECF6",
           "showlakes": true,
           "showland": true,
           "subunitcolor": "white"
          },
          "hoverlabel": {
           "align": "left"
          },
          "hovermode": "closest",
          "mapbox": {
           "style": "light"
          },
          "paper_bgcolor": "white",
          "plot_bgcolor": "#E5ECF6",
          "polar": {
           "angularaxis": {
            "gridcolor": "white",
            "linecolor": "white",
            "ticks": ""
           },
           "bgcolor": "#E5ECF6",
           "radialaxis": {
            "gridcolor": "white",
            "linecolor": "white",
            "ticks": ""
           }
          },
          "scene": {
           "xaxis": {
            "backgroundcolor": "#E5ECF6",
            "gridcolor": "white",
            "gridwidth": 2,
            "linecolor": "white",
            "showbackground": true,
            "ticks": "",
            "zerolinecolor": "white"
           },
           "yaxis": {
            "backgroundcolor": "#E5ECF6",
            "gridcolor": "white",
            "gridwidth": 2,
            "linecolor": "white",
            "showbackground": true,
            "ticks": "",
            "zerolinecolor": "white"
           },
           "zaxis": {
            "backgroundcolor": "#E5ECF6",
            "gridcolor": "white",
            "gridwidth": 2,
            "linecolor": "white",
            "showbackground": true,
            "ticks": "",
            "zerolinecolor": "white"
           }
          },
          "shapedefaults": {
           "line": {
            "color": "#2a3f5f"
           }
          },
          "ternary": {
           "aaxis": {
            "gridcolor": "white",
            "linecolor": "white",
            "ticks": ""
           },
           "baxis": {
            "gridcolor": "white",
            "linecolor": "white",
            "ticks": ""
           },
           "bgcolor": "#E5ECF6",
           "caxis": {
            "gridcolor": "white",
            "linecolor": "white",
            "ticks": ""
           }
          },
          "title": {
           "x": 0.05
          },
          "xaxis": {
           "automargin": true,
           "gridcolor": "white",
           "linecolor": "white",
           "ticks": "",
           "title": {
            "standoff": 15
           },
           "zerolinecolor": "white",
           "zerolinewidth": 2
          },
          "yaxis": {
           "automargin": true,
           "gridcolor": "white",
           "linecolor": "white",
           "ticks": "",
           "title": {
            "standoff": 15
           },
           "zerolinecolor": "white",
           "zerolinewidth": 2
          }
         }
        },
        "title": {
         "font": {
          "family": "Courier New",
          "size": 40
         },
         "pad": {
          "b": 0,
          "l": 300,
          "r": 0,
          "t": 40
         },
         "text": "Clustering"
        },
        "width": 1100
       }
      },
      "image/png": "[encoded data removed]",
      "text/html": [
       "<div>                            <div id=\"140138a3-489b-45f4-89df-702f7f10bb4f\" class=\"plotly-graph-div\" style=\"height:700px; width:1100px;\"></div>            <script type=\"text/javascript\">                require([\"plotly\"], function(Plotly) {                    window.PLOTLYENV=window.PLOTLYENV || {};                                    if (document.getElementById(\"140138a3-489b-45f4-89df-702f7f10bb4f\")) {                    Plotly.newPlot(                        \"140138a3-489b-45f4-89df-702f7f10bb4f\",                        [{\"hoverinfo\":\"text\",\"marker\":{\"color\":\"#AA0DFE\",\"opacity\":0.8,\"size\":2},\"mode\":\"markers\",\"name\":\"PRIVACY\",\"text\":[\"Reconstruction Attacks on Aggressive Relaxations<br>of DifferentialPrivacy\",\"Bayesian and Frequentist Semantics for Common<br>Variations ofDifferential Privacy: Applications<br>to the 2020 Census\",\"On the utility and protection of optimization<br>with differentialprivacy and classic regularization<br>techniques\",\"A Crypto-Assisted Approach for Publishing<br>Graph Statistics with NodeLocal Differential Privacy\",\"Forward-Mode Automatic Differentiation of<br>Compiled Programs\",\"On the Risks of Collecting Multidimensional<br>Data Under LocalDifferential Privacy\",\"Data Provenance via Differential Auditing\",\"Learning Differential Operators for Interpretable<br>Time Series Modeling\",\"Randomized Privacy Budget Differential Privacy\",\"R$^2$DP: A Universal and Automated Approach<br>to Optimizing theRandomization Mechanisms of<br>Differential Privacy for Utility Metrics with<br>NoKnown Optimal Distributions\",\"Age-Dependent Differential Privacy\",\"Differential Privacy on Dynamic Data\",\"LDP-FPMiner: FP-Tree Based Frequent Itemset<br>Mining with LocalDifferential Privacy\"],\"uid\":\"0\",\"x\":[4.2504253,4.2236047,4.1991334,4.188424,4.046975,4.197979,4.192786,4.1669974,4.206916,4.174921,4.210341,4.1972866,3.9706447],\"y\":[12.30236,12.358695,12.345356,12.349598,12.250394,12.349986,12.398711,12.375179,12.36462,12.3439,12.369959,12.371496,12.261588],\"z\":[10.228607,10.178231,10.157757,10.1405525,10.046563,10.140794,10.160503,10.168921,10.175443,10.154906,10.17018,10.169465,9.800715],\"type\":\"scatter3d\"},{\"hoverinfo\":\"text\",\"marker\":{\"color\":\"#3283FE\",\"opacity\":0.8,\"size\":2},\"mode\":\"markers\",\"name\":\"GRAPHS\",\"text\":[\"Packing $K_r$s in bounded degree graphs\",\"Epic Fail: Emulators can tolerate polynomially<br>many edge faults forfree\",\"Counting Subgraphs in Somewhere Dense Graphs\",\"Routing permutations on spectral expanders<br>via matchings\",\"On List Coloring with Separation of the Complete<br>Graph and Set SystemIntersections\",\"Planted matching problems on random hypergraphs\",\"Four Algorithms on the Swapped Dragonfly\",\"On Plane Subgraphs of Complete Topological<br>Drawings\",\"\\u00c3\\u2022ptimal Vertex Fault-Tolerant Spanners in<br>\\u00c3\\u2022ptimal Time: Sequential,Distributed and Parallel\",\"Separators in Continuous Petri Nets\",\"On the Second Kahn--Kalai Conjecture\",\"Well-Separation and Hyperplane Transversals<br>in High Dimensions\",\"Solving the Maximum Popular Matching Problem<br>with Matroid Constraints\",\"Nearest-Neighbor Decompositions of Drawings\",\"Induced Cycles and Paths Are Harder Than<br>You Think\",\"Recognizing Geometric Intersection Graphs<br>Stabbed by a Line\"],\"uid\":\"1\",\"x\":[3.1389108,3.0922236,3.1491163,3.0979726,3.132791,3.1154032,3.057259,3.0831542,2.9381635,2.823079,3.1553247,2.8141298,2.8186326,3.0990698,3.1323833,3.0723984],\"y\":[10.988199,11.076818,10.981497,11.038942,10.995413,11.029112,11.166403,11.042611,11.150835,11.029497,10.982339,10.969745,11.222181,11.006674,10.997081,11.056057],\"z\":[8.416984,8.394284,8.404873,8.449936,8.413886,8.413876,8.443848,8.390681,8.482172,8.741575,8.396882,8.707729,8.786787,8.428684,8.418883,8.407588],\"type\":\"scatter3d\"},{\"hoverinfo\":\"text\",\"marker\":{\"color\":\"#85660D\",\"opacity\":0.8,\"size\":2},\"mode\":\"markers\",\"name\":\"NUMERICAL\",\"text\":[\"A structure-preserving variational discretization<br>scheme for the Cahn-Hilliard Navier-Stokes<br>system\",\"High-order numerical evaluation of volume<br>potentials via polynomialdensity interpolation\",\"Eigenvalue Mapping-based Semi-implicit Discretization<br>of theGeneralized Super-Twisting Algorithm\",\"A geometrically intrinsic Lagrangian-Eulerian<br>scheme for 2D ShallowWater Equations with<br>variable topography and discontinuous data\",\"On the Convergence of Randomized and Greedy<br>Relaxation Schemes forSolving Nonsingular Linear<br>Systems of Equations\",\"Double stabilizations and convergence analysis<br>of a second-orderlinear numerical scheme<br>for the nonlocal Cahn-Hilliard equation\",\"Analysis of the local discontinuous Galerkin<br>method with generalizedfluxes for 1D nonlinear<br>convection-diffusion systems\",\"Wavenumber-explicit stability and convergence<br>analysis of hp finiteelement discretizations<br>of Helmholtz problems in piecewise smooth media\",\"Convergence analysis of a block preconditioned<br>steepest descenteigensolver with implicit<br>deflation\",\"Quadratic Constraints for Local Stability<br>Analysis of QuadraticSystems\",\"Inverse modeling of nonisothermal multiphase<br>poromechanics usingphysics-informed neural<br>networks\",\"MRF-PINN: A Multi-Receptive-Field convolutional<br>physics-informedneural network for solving<br>partial differential equations\",\"Numerical integration rules with improved<br>accuracy close tosingularities\",\"Robust Numerical Methods for Singularly Perturbed<br>DifferentialEquations--Supplements\",\"Remarks on boundary layers in singularly<br>perturbed Caputo fractionalboundary value problems\",\"Error Estimates and Physics Informed Augmentation<br>of Neural Networksfor Thermally Coupled<br>Incompressible Navier Stokes Equations\",\"Solving Elliptic Problems with Singular Sources<br>using SingularitySplitting Deep Ritz Method\",\"Convergence analysis of an implicit finite<br>difference method for theinertial Landau-Lifshitz-Gilbert<br>equation\",\"An augmented fully-mixed formulation for<br>the quasistatic Navier--Stokes--Biot model\",\"Compact schemes for variable coefficient<br>convection-diffusionequations\",\"Numerical investigation and factor analysis<br>of the spatial-temporalmulti-species competition<br>problem\",\"Second order, unconditionally stable, linear<br>ensemble algorithms forthe magnetohydrodynamics<br>equations\",\"A Fourth-Order Embedded Boundary Finite Volume<br>Method for the UnsteadyStokes Equations with<br>Complex Geometries\",\"Efficient solution of parameter identification<br>problems with $H^1$regularization\",\"Mixed approximation of nonlinear acoustic<br>equations: Well-posednessand a priori error analysis\",\"Quadratic Gradient: Uniting Gradient Algorithm<br>and Newton Method asOne\",\"Spherical Coordinates from Persistent Cohomology\",\"Neural network approximation of coarse-scale<br>surrogates in numericalhomogenization\",\"Circumventing volumetric locking in explicit<br>material point methods: Asimple, efficient,<br>and general approach\",\"Mortaring for linear elasticity using low<br>order finite elements\",\"Convergence and error estimates of a penalization<br>finite volume methodfor the compressible<br>Navier-Stokes system\",\"Towards non-linear quadrature formulae\",\"The mpEDMD Algorithm for Data-Driven Computations<br>of Measure-Preserving Dynamical Systems\",\"A Unified Trapezoidal Quadrature Method for<br>Singular and HypersingularBoundary Integral<br>Operators on Curved Surfaces\",\"Simulation of Heat Conduction in Complex<br>Domains of Multi-materialComposites using a Meshless<br>Method\",\"Fast geometric trim fitting using partial<br>incremental sorting andaccumulation\",\"Evaluation of the Region of Attractions of<br>Higher DimensionalHyperbolic Systems using the<br>Extended Dynamic Mode Decomposition\",\"Exponential convergence of a generalized<br>FEM for heterogeneousreaction-diffusion equations\",\"New degrees of freedom for differential forms<br>on cubical meshes\",\"A new T-compatibility condition and its application<br>to thediscretization of the damped time-harmonic<br>Galbrun's equation\",\"Performance optimization and analysis of<br>the unstructuredDiscontinuous Galerkin solver on<br>multi-core and many-core architectures\",\"Minimization of differential equations and<br>algebraic values of$E$-functions\",\"Removing membrane locking in quadratic NURBS-based<br>discretizations oflinear plane Kirchhoff<br>rods: CAS elements\",\"Numerical analysis of growth-mediated autochemotactic<br>patternformation in self-propelling<br>bacteria\",\"A multi-scale framework for neural network<br>enhanced methods to thesolution of partial differential<br>equations\",\"Smoothers Based on Nonoverlapping Domain<br>Decomposition Methods for$H(\\\\mathbf{curl})$ Problems:<br>A Numerical Study\",\"Structure and approximation properties of<br>Laplacian-like matrices\",\"Hybrid mixed discontinuous Galerkin finite<br>element method forincompressible wormhole propagation<br>problem\",\"Hybrid mixed discontinuous Galerkin finite<br>element method forincompressible miscible displacement<br>problem\",\"Locally-verifiable sufficient conditions<br>for exactness of thehierarchical B-spline discrete<br>de Rham complex in $\\\\mathbb{R}^n$\",\"Homogenization of discrete diffusion models<br>by asymptotic expansion\",\"Homogenization of discrete mesoscale model<br>of concrete for coupledmass transport and mechanics<br>by asymptotic expansion\"],\"uid\":\"2\",\"x\":[2.115377,2.218878,2.2455425,2.1432042,2.4208238,2.2176468,2.0352151,2.0740104,2.3277462,2.540783,2.0111585,2.0267184,2.3755345,2.2327724,2.0680766,2.0262432,2.2455862,2.2053995,2.0078697,2.0951834,1.9972361,2.0776353,2.1386619,2.255146,2.1268473,2.5196204,2.138511,1.9634912,2.1102483,2.1814344,2.1498902,2.4181917,2.1143863,2.2236342,2.0197015,2.4223588,2.1547616,2.0392442,2.2311351,2.1398773,1.9661804,2.3237154,2.203538,2.0349605,2.000878,2.1374347,2.4584029,1.9975657,1.9992342,2.145774,1.962728,1.9935066],\"y\":[10.519735,10.554517,10.567301,10.542559,10.775562,10.539819,10.394052,10.465216,10.690607,10.982336,10.790455,10.778515,10.643764,10.529775,10.478113,10.801766,10.697706,10.53786,10.466628,10.419427,10.656078,10.463517,10.522038,10.711961,10.471734,10.924006,10.540125,10.761692,10.679889,10.529342,10.536577,10.703761,10.926386,10.521193,10.689097,10.656815,10.754712,10.463768,10.564428,10.467604,10.394132,10.763675,10.449032,10.449278,10.761365,10.626006,10.917174,10.436214,10.439918,10.519684,10.505669,10.559193],\"z\":[11.426308,11.392565,11.584157,11.259555,11.29157,11.55044,11.571248,11.588315,11.499247,11.240144,10.927458,10.939861,11.412655,11.496402,11.526006,10.948241,11.223161,11.55999,11.50138,11.590027,11.38792,11.551279,11.441539,11.249776,11.584444,11.229828,11.384339,10.941071,11.352766,11.511864,11.44016,11.383237,11.329173,11.466006,11.28444,11.411919,11.435966,11.530176,11.381866,11.596332,11.501553,11.178033,11.659815,11.549131,10.964715,11.368824,11.131956,11.5021305,11.505077,11.452946,11.455594,11.425365],\"type\":\"scatter3d\"},{\"hoverinfo\":\"text\",\"marker\":{\"color\":\"#782AB6\",\"opacity\":0.8,\"size\":2},\"mode\":\"markers\",\"name\":\"GRAPH\",\"text\":[\"Simpler is better: Multilevel Abstraction<br>with Graph ConvolutionalRecurrent Neural Network<br>Cells for Traffic Prediction\",\"Hardware-Software Co-Design of BIKE with<br>HLS-Generated Accelerators\",\"Hardware Accelerator and Neural Network Co-Optimization<br>for Ultra-Low-Power Audio Processing<br>Devices\",\"Knowledge-Driven Program Synthesis via Adaptive<br>Replacement Mutationand Auto-constructed<br>Subprogram Archives\",\"Beyond Double Ascent via Recurrent Neural<br>Tangent Kernel in SequentialRecommendation\",\"Geolocation of Cultural Heritage using Multi-View<br>Knowledge GraphEmbedding\",\"Hierarchical Graph Pooling is an Effective<br>Citywide Traffic ConditionPrediction Model\",\"nVFNet-RDC: Replay and Non-Local Distillation<br>Collaboration forContinual Object Detection\",\"Security Analysis of the EDHOC protocol\",\"OblivGM: Oblivious Attributed Subgraph Matching<br>as a Cloud Service\",\"Peer to Peer Learning Platform Optimized<br>With Machine Learning\",\"A simple approach for quantizing neural networks\",\"Higher-order Clustering and Pooling for Graph<br>Neural Networks\",\"TAG: Learning Circuit Spatial Embedding From<br>Layouts\",\"A Greedy Algorithm for Building Compact Binary<br>Activated NeuralNetworks\",\"Bispectral Neural Networks\",\"A Survey of Neural Trees\",\"AST-GIN: Attribute-Augmented Spatial-Temporal<br>Graph Informer Networkfor Electric Vehicle<br>Charging Station Availability Forecasting\",\"Geometric multimodal representation learning\",\"Combining Sequential and Aggregated Data<br>for Churn Prediction inCasual Freemium Games\",\"Remote Work Optimization with Robust Multi-channel<br>Graph NeuralNetworks\",\"A New Heterogeneous Graph Representation<br>in a Social Media Platform:Steemit\",\"Parallel and Streaming Wavelet Neural Networks<br>for Classification andRegression under Apache<br>Spark\",\"Knowledge-enhanced Iterative Instruction<br>Generation and Reasoning forKnowledge Base Question<br>Answering\",\"VGStore: A Multimodal Extension to SPARQL<br>for Querying RDF Scene Graph\",\"Democratizing Domain-Specific Computing\",\"Grouping-matrix based Graph Pooling with<br>Adaptive Number of Clusters\",\"Hardware Acceleration of Sampling Algorithms<br>in Sample and AggregateGraph Neural Networks\",\"Defending Against Backdoor Attack on Graph<br>Nerual Network byExplainability\",\"CP-AGCN: Pytorch-based Attention Informed<br>Graph Convolutional Networkfor Identifying Infants<br>at Risk of Cerebral Palsy\",\"A Subexponential Quantum Algorithm for the<br>Semdirect DiscreteLogarithm Problem\",\"Neuromorphic computing using wavelength-division<br>multiplexing\",\"A learning theory for quantum photonic processors<br>and beyond\",\"Graph Neural Networks for Low-Energy Event<br>Classification &Reconstruction in IceCube\",\"On the Sparse DAG Structure Learning Based<br>on Adaptive Lasso\",\"TAPA: A Scalable Task-Parallel Dataflow Programming<br>Framework forModern FPGAs with Co-Optimization<br>of HLS and Physical Design\",\"Graph-PHPA: Graph-based Proactive Horizontal<br>Pod Autoscaling forMicroservices using LSTM-GNN\",\"Rethinking Symmetric Matrix Factorization:<br>A More General and BetterClustering Perspective\",\"Semi-Supervised Clustering via Dynamic Graph<br>Structure Learning\",\"Rethinking The Memory Staleness Problem In<br>Dynamics GNN\",\"ProjB: An Improved Bilinear Biased ProjE<br>model for Knowledge GraphCompletion\",\"Continual Learning: Fast and Slow\",\"DualNet: Continual Learning, Fast and Slow\",\"Token Multiplicity in Reversing Petri Nets<br>Under the Individual TokenInterpretation\",\"EnergonAI: An Inference System for 10-100<br>Billion ParameterTransformer Models\",\"A Multi-FPGA High Performance Computing System<br>for 3D FFT-basedNumerical Simulations\",\"Factor Graph Accelerator for LiDAR-Inertial<br>Odometry\",\"Being Automated or Not? Risk Identification<br>of Occupations with GraphNeural Networks\",\"4Ward: a Relayering Strategy for Efficient<br>Training of ArbitrarilyComplex Directed Acyclic<br>Graphs\",\"Orthogonal layers of parallelism in large-scale<br>eigenvaluecomputations\",\"HAGCN : Network Decentralization Attention<br>Based Heterogeneity-AwareSpatiotemporal Graph<br>Convolution Network for Traffic Signal Forecasting\",\"Private Simultaneous Messages Based on Quadratic<br>Residues\",\"A Prufer-Sequence Based Representation of<br>Large Graphs for StructuralEncoding of Logic Networks\",\"The Approximate Degree of DNF and CNF Formulas\",\"Scalable Adversarial Online Continual Learning\",\"Reinforced Continual Learning for Graphs\",\"Recurrent Bilinear Optimization for Binary<br>Neural Networks\",\"Neural Networks for Chess\",\"MMKGR: Multi-hop Multi-modal Knowledge Graph<br>Reasoning\",\"Towards Accurate Binary Neural Networks via<br>Modeling ContextualDependencies\",\"Disconnected Emerging Knowledge Graph Oriented<br>Inductive LinkPrediction\",\"Hypergraph convolutional neural network-based<br>clustering technique\",\"SaleNet: A low-power end-to-end CNN accelerator<br>for sustainedattention level evaluation<br>using EEG\",\"Tree-Based Learning in RNNs for Power Consumption<br>Forecasting\",\"Semi-supervised Training for Knowledge Base<br>Graph Self-attentionNetworks on Link Prediction\",\"HammingMesh: A Network Topology for Large-Scale<br>Deep Learning\",\"Graph Fourier transforms on directed product<br>graphs\"],\"uid\":\"3\",\"x\":[2.5477004,2.3219457,2.2411346,2.4379609,2.3985407,2.6397824,2.867662,2.0781846,2.4888299,2.7117558,2.4082644,1.7758944,2.810678,2.5653446,2.1539743,1.9901657,1.998419,2.5979605,2.6868525,2.0801473,2.8321397,2.8464775,2.2804604,2.6206257,2.7340243,2.177343,2.813939,2.2777967,2.3694098,2.348193,2.4606886,2.147836,2.1681592,2.382684,2.7204697,2.28739,2.892381,2.7033768,2.7318833,2.4864287,2.5828261,2.3471382,2.3277085,2.2857943,2.2044213,2.3346124,2.6579676,2.675525,2.508953,2.3492324,2.5982838,2.5131922,2.760452,2.4768572,2.2368379,2.7296572,2.2159984,2.257047,2.6142454,2.0803814,2.5991929,2.6573832,2.1271508,2.071865,2.469096,2.3053682,2.736209],\"y\":[11.710813,11.648873,11.683156,12.047504,11.711726,11.9352255,11.783391,11.915964,11.352592,11.602973,12.102731,11.889147,11.661204,12.252357,11.66568,11.755503,12.133393,11.784031,11.943775,11.905559,11.915965,11.871981,11.896646,11.966977,11.657135,11.610864,11.643143,11.720072,11.743859,11.814797,12.047875,11.65274,11.521941,11.691271,11.612526,11.54733,11.744158,11.648793,11.619349,11.739101,11.953516,11.951445,12.027905,11.76959,11.573185,11.504453,11.748206,12.079889,11.8560505,11.303382,11.712376,11.414112,11.614758,11.330977,12.014031,11.645679,11.627497,11.76204,11.916687,11.731173,11.918575,11.661158,11.710431,12.07432,11.916934,11.950307,11.702771],\"z\":[8.193743,9.199228,9.103293,7.83657,8.520261,7.94748,8.429244,8.398845,9.540645,8.592221,8.675153,8.642512,8.353413,8.404114,8.581108,8.605846,8.52334,8.112029,8.3959255,8.26465,8.420837,8.257533,8.58416,7.8765483,8.280504,9.008995,8.3527,8.640448,8.339467,8.128196,7.818449,9.038665,9.720821,8.234291,8.280251,9.188862,8.636678,8.227043,8.26032,8.131696,7.89462,8.578904,8.646306,9.15318,9.112859,9.244907,8.397045,8.296187,8.471233,9.475976,8.149508,9.523569,8.289983,9.561931,8.528395,8.304421,8.576067,8.694088,7.9642076,8.584145,7.9348207,8.240457,8.875198,8.398353,8.146412,8.6846695,8.261546],\"type\":\"scatter3d\"},{\"hoverinfo\":\"text\",\"marker\":{\"color\":\"#565656\",\"opacity\":0.8,\"size\":2},\"mode\":\"markers\",\"name\":\"FEDERATED\",\"text\":[\"Trustless Cross-chain Communication for Zendoo<br>Sidechains\",\"A Framework for Evaluating Privacy-Utility<br>Trade-off in VerticalFederated Learning\",\"FADE: Enabling Large-Scale Federated Adversarial<br>Training on Resource-Constrained Edge Devices\",\"Multisecret-sharing scheme with two-level<br>security and itsapplications in Blockchain\",\"Federated Transfer Learning with Multimodal<br>Data\",\"Modular Federated Learning\",\"Cerberus: Exploring Federated Prediction<br>of Security Events\",\"A multi-chain synchronization protocol that<br>leverage zero knowledgeproof to minimize communication<br>trust base\",\"Predictive GAN-powered Multi-Objective Optimization<br>for HybridFederated Split Learning\",\"Faster federated optimization under second-order<br>similarity\",\"Full Kullback-Leibler-Divergence Loss for<br>Hyperparameter-free LabelDistribution Learning\",\"Federated Zero-Shot Learning for Visual Recognition\",\"Boost Decentralized Federated Learning in<br>Vehicular Networks byDiversifying Data Sources\",\"Communication Efficient Distributed Learning<br>over Wireless Channels\",\"Suppressing Noise from Built Environment<br>Datasets to ReduceCommunication Rounds for Convergence<br>of Federated Learning\",\"Federated XGBoost on Sample-Wise Non-IID<br>Data\",\"FedAR+: A Federated Learning Approach to<br>Appliance Recognition withMislabeled Data in Residential<br>Buildings\"],\"uid\":\"4\",\"x\":[3.0951445,3.5105405,3.516588,3.2298837,3.489778,3.5166886,3.401669,3.2280946,3.4740193,3.5391884,3.5240664,3.4092212,3.5022392,3.128423,3.3987231,3.5054307,3.4430528],\"y\":[12.581279,12.492973,12.431356,12.524517,12.506915,12.483605,12.643518,12.5392475,12.4173155,12.452653,12.377362,12.583482,12.497286,12.238882,12.59872,12.48184,12.538452],\"z\":[9.184546,9.134422,9.049307,9.307187,9.071493,9.086376,9.001948,9.274358,9.130588,9.096783,9.070798,9.044309,9.073554,9.377407,9.026918,9.077242,9.068549],\"type\":\"scatter3d\"},{\"hoverinfo\":\"text\",\"marker\":{\"color\":\"#1C8356\",\"opacity\":0.8,\"size\":2},\"mode\":\"markers\",\"name\":\"MALWARE\",\"text\":[\"A Survey of Recent Advances in Deep Learning<br>Models for DetectingMalware in Desktop and<br>Mobile Platforms\",\"MalDetConv: Automated Behaviour-based Malware<br>Detection FrameworkBased on Natural Language<br>Processing and Deep Learning Techniques\",\"VulCurator: A Vulnerability-Fixing Commit<br>Detector\",\"Avast-CTU Public CAPE Dataset\",\"Avgust: Automating Usage-Based Test Generation<br>from Videos of AppExecutions\",\"Instance Attack:An Explanation-based Vulnerability<br>Analysis FrameworkAgainst DNNs for Malware<br>Detection\",\"An Adaptive Black-box Defense against Trojan<br>Attacks (TrojDef)\",\"PhishClone: Measuring the Efficacy of Cloning<br>Evasion Attacks\",\"Phishing URL Detection: A Network-based Approach<br>Robust to Evasion\",\"Illegal But Not Malware: An Underground Economy<br>App Detection SystemBased on Usage Scenario\"],\"uid\":\"5\",\"x\":[0.7374835,0.71311116,0.79610646,0.800576,0.6994206,0.8885864,0.9117246,0.88883257,0.87709296,0.81363565],\"y\":[13.137358,13.19035,13.185422,13.170333,13.16565,13.001508,13.137485,13.193114,13.164581,13.319372],\"z\":[9.568537,9.58653,9.604018,9.582852,9.728343,9.557654,9.525518,9.347781,9.386327,9.412595],\"type\":\"scatter3d\"},{\"hoverinfo\":\"text\",\"marker\":{\"color\":\"#16FF32\",\"opacity\":0.8,\"size\":2},\"mode\":\"markers\",\"name\":\"JAMMING\",\"text\":[\"Assessing Active Distribution Network Flexibility:<br>On the Effects ofNonlinearities and Nonconvexities\",\"Resource Allocation for URLLC and eMBB Traffic<br>in Uplink WirelessNetworks\",\"Architecture-Algorithmic Trade-offs in Multi-path<br>Channel Estimationfor mmWAVE Systems\",\"Impact of Mobility on Downlink Cell-Free<br>Massive MIMO Systems\",\"Coexistence of Pulsed Radar and Communications:<br>InterferenceSuppression and Multi-path Combining\",\"Dynamic optical path provisioning for alien<br>access links:architecture, demonstration, and<br>challenges\",\"Jamming Modulation: An Active Anti-Jamming<br>Scheme\",\"Power Allocation for Joint Communication<br>and Sensing in Cell-FreeMassive MIMO\",\"Power Allocation for Space-Terrestrial Cooperation<br>Systems withStatistical CSI\"],\"uid\":\"6\",\"x\":[3.0776978,2.8552403,2.7053595,2.6702442,2.882683,2.8649645,2.6565826,2.752666,2.859857],\"y\":[12.415129,12.215547,12.255381,12.28736,12.176684,12.3992405,12.272872,12.21818,12.201447],\"z\":[9.939948,9.795987,9.758849,9.757457,9.955012,9.703583,9.765756,9.810248,9.765006],\"type\":\"scatter3d\"},{\"hoverinfo\":\"text\",\"marker\":{\"color\":\"#F7E1A0\",\"opacity\":0.8,\"size\":2},\"mode\":\"markers\",\"name\":\"CONTROL\",\"text\":[\"Optimal Communication and Control Strategies<br>for a Multi-Agent Systemin the Presence of<br>an Adversary\",\"A Survey on Large-Population Systems and<br>Scalable Multi-AgentReinforcement Learning\",\"SE(3)-DiffusionFields: Learning cost functions<br>for joint grasp andmotion optimization through<br>diffusion\",\"Optimised Design and Performance Comparison<br>of Soft RoboticManipulators\",\"Double Q-Learning for Citizen Relocation<br>During Natural Hazards\",\"Predict+Optimize for Packing and Covering<br>LPs with Unknown Parametersin Constraints\",\"Constructive Equivariant Observer Design<br>for Inertial Velocity-AidedAttitude\",\"Reward Delay Attacks on Deep Reinforcement<br>Learning\",\"Tube-Based Zonotopic Data-Driven Predictive<br>Control\",\"On the Near-Optimality of Local Policies<br>in Large Cooperative Multi-Agent Reinforcement<br>Learning\",\"Energy Optimization of Wind Turbines via<br>a Neural Control Policy Basedon Reinforcement Learning<br>Markov Chain Monte Carlo Algorithm\",\"Scheduling Operator Assistance for Shared<br>Autonomy in Multi-RobotTeams\",\"Distilling Deep RL Models Into Interpretable<br>Neuro-Fuzzy Systems\",\"On Differential Privacy and Traffic State<br>Estimation Problem forConnected Vehicles\",\"Traffic State Estimation for Connected Vehicles<br>using the Second-OrderAw-Rascle-Zhang Traffic<br>Model\",\"Respiratory Aware Routing for Cyclists\",\"Accurate Cooperative Sensor Fusion by Parameterized<br>CovarianceGeneration for Sensing and<br>Localization Pipelines in CAVs\",\"Trading Strategies: Earning More in Investment\",\"Cooperative trajectory planning algorithm<br>of USV-UAV with hull dynamicconstraints\",\"Adaptive Passivity-Based Pose Tracking Control<br>of Cable-DrivenParallel Robots for Multiple<br>Attitude Parameterizations\",\"Efficient Trajectory Planning and Control<br>for USV with Vessel Dynamicsand Differential Flatness\",\"A Predictive Chance Constraint Rebalancing<br>Approach to Mobility-on-Demand Services\",\"Concept-modulated model-based offline reinforcement<br>learning for rapidgeneralization\",\"Fault Signature Identification for BLDC motor<br>Drive System -AStatistical Signal Fusion Approach\",\"Obtaining Robust Control and Navigation Policies<br>for Multi-RobotNavigation via Deep Reinforcement<br>Learning\",\"Autonomous Cooking with Digital Twin Methodology\",\"Physics-based Digital Twins for Autonomous<br>Thermal Food Processing:Efficient, Non-intrusive<br>Reduced-order Modeling\",\"Optimizing Demonstrated Robot Manipulation<br>Skills for Temporal LogicConstraints\",\"From Human Walking to Bipedal Robot Locomotion:<br>Reflex InspiredCompensation on Planned and<br>Unplanned Downsteps\",\"A Deep Reinforcement Learning Strategy for<br>UAV Autonomous Landing on aPlatform\",\"DC-MRTA: Decentralized Multi-Robot Task Allocation<br>and Navigation inComplex Environments\",\"Adaptive Complexity Model Predictive Control\",\"Traffic State Estimation for Connected Vehicles<br>using the Second-OrderAw-Rascle-Zhang Traffic<br>Model\",\"A Zeroth-Order Momentum Method for Risk-Averse<br>Online Convex Games\",\"Bioinspired Smooth Neuromorphic Control for<br>Robotic Arms\",\"Multi-skill Mobile Manipulation for Object<br>Rearrangement\",\"Low Regret Binary Sampling Method for Efficient<br>Global Optimization ofUnivariate Functions\",\"Risk Aware Belief-dependent Constrained POMDP<br>Planning\",\"Multi-agent Deep Reinforcement Learning for<br>Charge-sustaining Controlof Multi-mode Hybrid<br>Vehicles\",\"Priority Based Synchronization for Faster<br>Learning in Games\",\"Finite-Time Error Bounds for Greedy-GQ\",\"A Combined Inverse Kinematics Algorithm Using<br>FABRIK with Optimization\",\"Passive Realizations of Series Elastic Actuation:<br>Passivity andEffects of Plant and Controller<br>Dynamics on Haptic Rendering Performance\",\"Mimose: An Input-Aware Checkpointing Planner<br>for Efficient Training onGPU\",\"Fast Adaptive Regression-based Model Predictive<br>Control\",\"Autonomous Passage Planning for a Polar Vessel\",\"Market Model 3.0: A New Ecosystem for Demand-side<br>FlexibilityAggregators in Denmark\",\"Compatibility checking of multiple control<br>barrier functions for inputconstrained systems\",\"The Simulator-in-the-Loop approach for vehicle<br>dynamics control\",\"Adaptive Machine Learning for Cooperative<br>Manipulators\",\"Carbon-Neutralized Task Scheduling for Green<br>Computing Networks\",\"White-Box Adversarial Policies in Deep Reinforcement<br>Learning\",\"Reinforcement learning-based optimised control<br>for tracking ofnonlinear systems with adversarial<br>attacks\",\"Improving Assistive Robotics with Deep Reinforcement<br>Learning\",\"A New Approach to Training Multiple Cooperative<br>Agents for AutonomousDriving\",\"Adaptive Visual Servo Control for Autonomous<br>Robots\",\"Cooperative Predictive Cruise Control: A<br>Bargaining Game Approach\",\"Granular Compensation, Information, and Carbon<br>Pricing Promote DERDeployment\",\"Prediction Based Decision Making for Autonomous<br>Highway Driving\",\"Resolving Infeasibility of Linear Systems:<br>A Parameterized Approach\",\"Online Decision Making for Trading Wind Energy\",\"A new collision avoidance model with random<br>batch resolution strategy\",\"Analysis of the Effect of Time Delay for<br>Unmanned Aerial Vehicles withApplications to Vision<br>Based Navigation\",\"Lattice-based shape tracking and servoing<br>of elastic objects\",\"Natural Policy Gradients In Reinforcement<br>Learning Explained\",\"Indoor Path Planning for Multiple Unmanned<br>Aerial Vehicles viaCurriculum Learning\",\"A negative imaginary approach to hybrid integrator-gain<br>system control\",\"Free material optimization of thermal conductivity<br>tensors withasymmetric components\",\"Model Predictive Control Design of a 3-DOF<br>Robot Arm Based onRecognition of Spatial Coordinates\",\"Variational Inference for Model-Free and<br>Model-Based ReinforcementLearning\",\"Spatial motion planning with Pythagorean<br>Hodograph curves\",\"Extension of a Linear Controller Scheme to<br>Non-Linear Systems and itsApplication on Inverted<br>Pendulum\",\"A General Controller Scheme for Stabilization<br>& Disturbance Rejectionwith Application to<br>Non-Linear Systems and its Implementation on 2<br>DOFHelicopter\",\"Data-Assisted Vision-Based Hybrid Control<br>for Robust Stabilizationwith Obstacle Avoidance<br>via Learning of Perception Maps\",\"Autonomous Delivery of Multiple Packages<br>Using Single Drone in UrbanAirspace\",\"Learning to Deceive in Multi-Agent Hidden<br>Role Games\",\"A Scalable Data-Driven Technique for Joint<br>Evacuation Routing andScheduling Problems\",\"An interpretative and adaptive MPC for nonlinear<br>systems\",\"Model-Free Deep Reinforcement Learning in<br>Software-Defined Networks\",\"A Hybrid Tracking Control Strategy for an<br>Unmanned Underwater VehicleAided with Bioinspired<br>Neural Dynamics\",\"A Novel Knowledge-Based Genetic Algorithm<br>for Robot Path Planning inComplex Environments\",\"Reinforcement Learning with Prior Policy<br>Guidance for Motion Planningof Dual-Arm Free-Floating<br>Space Robot\",\"Online Evasive Strategy for Aerial Survey<br>using Sierpinski curve\",\"Sharp bounds on the price of bandit feedback<br>for several models ofmistake-bounded online<br>learning\",\"A repeated unknown game: Decentralized task<br>offloading in vehicularfog computing\",\"The Folded Pneumatic Artificial Muscle (foldPAM):<br>TowardsProgrammability and Control via<br>End Geometry\"],\"uid\":\"7\",\"x\":[3.145334,2.9942358,3.1961339,2.2774,2.7464564,2.4906824,1.9098217,3.1784654,2.3829043,3.116264,2.941196,3.048988,2.7778049,1.6837752,1.718673,1.6715019,1.8997966,2.9341393,2.5701659,2.1110036,2.4794815,2.5984187,2.0737264,1.9635786,2.8662229,2.4570515,2.2366688,2.2927365,2.4316897,2.4215586,2.9897919,2.3947983,1.6951767,3.3371203,2.2605927,2.923316,3.0847034,2.4990332,3.0014534,3.2407792,3.1118932,2.354586,2.0575924,2.3527389,2.3424687,2.5372229,3.0459268,2.3146522,2.0351534,2.2367086,3.3360522,2.8707063,2.464241,2.7511544,2.962007,2.1781607,2.6601179,3.4098213,2.302002,2.3758204,3.0372913,2.9984372,2.155329,2.1197994,2.8799796,2.8945107,2.355664,2.3089993,2.2057712,2.945955,2.4985814,2.3207974,2.3607018,1.9431657,2.991746,2.9977374,2.7780244,2.3703368,3.0251262,2.4434953,2.581913,2.6053264,2.5475593,3.413802,3.1998656,2.2283375],\"y\":[11.988972,11.9875145,11.968266,12.4245615,12.299165,12.036463,11.870319,11.754104,11.783515,11.848073,12.273603,12.420604,12.324634,12.152251,12.054826,12.296865,12.137261,12.217135,12.358029,11.8927555,12.299127,12.090018,12.50171,12.202752,12.407839,12.673818,12.528264,12.573853,12.391823,12.485594,12.497991,12.079787,12.061503,11.727716,12.3416195,12.558098,11.476493,12.188458,12.313179,12.076248,11.612777,12.160807,11.705789,12.541637,11.955735,12.408493,12.391191,11.729361,12.335519,12.151684,12.143109,12.216468,11.931926,12.3391,12.419006,12.167202,12.457388,12.1123495,12.49333,11.7245865,12.2709875,12.033811,12.225896,12.31957,12.190598,12.4967785,11.835906,12.56116,12.1549015,11.715484,12.350911,11.713217,11.776377,12.082742,12.518052,12.22077,12.343878,11.886125,11.907002,12.2428465,12.428893,12.296768,12.388029,11.650431,12.064385,12.33352],\"z\":[10.314604,10.496717,10.311159,11.178358,10.868445,11.0049925,11.138968,10.780229,11.29735,10.466543,10.577536,10.7145195,10.811099,10.949987,10.978667,10.880164,10.966744,10.364938,11.093032,11.221178,11.171381,10.86322,10.684867,10.973379,10.800698,10.79042,11.001142,10.850822,11.108176,10.772883,10.784965,11.139176,10.985106,10.693812,11.179362,10.762919,10.620773,10.870003,10.414205,10.405284,10.838207,11.1609125,11.244431,10.535125,11.196155,11.108875,10.268207,11.34314,10.894511,11.186643,10.29745,10.590926,11.155466,10.83867,10.564603,11.173212,10.834043,10.26581,10.745988,11.2509,10.338102,10.512393,11.150408,11.2637615,10.858713,10.886428,11.241649,10.983185,11.216138,10.715382,11.137981,11.347523,11.302391,11.014999,10.791571,10.449316,10.886868,11.134416,10.805105,11.188665,10.9603405,10.976714,10.9457245,10.764579,10.281856,11.220233],\"type\":\"scatter3d\"},{\"hoverinfo\":\"text\",\"marker\":{\"color\":\"#E2E2E2\",\"opacity\":0.8,\"size\":2},\"mode\":\"markers\",\"name\":\"COVERAGE\",\"text\":[\"Black-Box Audits for Group Distribution Shifts\",\"Conformal Methods for Quantifying Uncertainty<br>in Spatiotemporal Data:A Survey\",\"Same Coverage, Less Bloat: Accelerating Binary-only<br>Fuzzing withCoverage-preserving Coverage-guided<br>Tracing\",\"Causal discovery for time series with latent<br>confounders\",\"Large Scale Enrichment and Statistical Cyber<br>Characterization ofNetwork Traffic\",\"Quantifying Aleatoric and Epistemic Uncertainty<br>in Machine Learning:Are Conditional Entropy<br>and Mutual Information Appropriate Measures?\",\"TickTock: Detecting Microphone Status in<br>Laptops LeveragingElectromagnetic Leakage of Clock<br>Signals\",\"SAGE: Software-based Attestation for GPU<br>Execution\",\"Quantitative probing: Validating causal models<br>using quantitativedomain knowledge\",\"Difficulty-Net: Learning to Predict Difficulty<br>for Long-TailedRecognition\",\"Building up Cyber Resilience by Better Grasping<br>Cyber Risk Via a NewAlgorithm for Modelling<br>Heavy-Tailed Data\",\"An IoT-Enriched Event Log for Process Mining<br>in Smart Factories\",\"Minimum-entropy causal inference and its<br>application in brain networkanalysis\",\"Bayesian Statistical Model Checking for Multi-agent<br>Systems usingHyperPCTL*\",\"CausalRCA: Causal Inference based Precise<br>Fine-grained Root CauseLocalization for Microservice<br>Applications\",\"FIRED: a fine-grained robust performance<br>diagnosis framework for cloudapplications\",\"A Robust Learning Methodology for Uncertainty-aware<br>Scientific MachineLearning models\",\"ProcessorFuzz: Guiding Processor Fuzzing<br>using Control and StatusRegisters\",\"\\\"Is your explanation stable?\\\": A Robustness<br>Evaluation Framework forFeature Attribution\",\"Conditional Independence Testing via Latent<br>Representation Learning\"],\"uid\":\"8\",\"x\":[1.6185428,1.7569546,1.9541467,1.843302,1.8343136,1.7447139,2.0161257,1.8005412,1.7187924,1.3633116,1.5345968,1.7070187,1.818823,1.8550109,1.6994679,1.6944778,1.7752655,1.97924,1.9466708,1.8438205],\"y\":[12.891229,12.880459,12.703364,13.204795,12.971892,12.964531,12.730761,12.47194,13.054451,12.383597,12.536008,12.78079,13.053859,12.937892,13.040426,12.72311,12.927819,12.704206,12.965961,13.196387],\"z\":[9.149383,9.838807,9.778591,9.643433,9.365892,9.736645,9.754546,9.690852,9.550253,9.013344,9.221629,9.354201,9.452445,9.753386,9.42975,9.678069,9.693832,9.806016,9.49359,9.683203],\"type\":\"scatter3d\"},{\"hoverinfo\":\"text\",\"marker\":{\"color\":\"#1CBE4F\",\"opacity\":0.8,\"size\":2},\"mode\":\"markers\",\"name\":\"SOCIAL\",\"text\":[\"The Users Aren't Alright: Dangerous Mental<br>Illness Behaviors andRecommendations\",\"Participant Perceptions of a Robotic Coach<br>Conducting PositivePsychology Exercises: A Systematic<br>Analysis\",\"Taking Advice from (Dis)Similar Machines:<br>The Impact of Human-MachineSimilarity on Machine-Assisted<br>Decision-Making\",\"Ethical and Social Considerations in Automatic<br>Expert Identificationand People Recommendation<br>in Organizational Knowledge Management Systems\",\"Towards Responsible Medical Diagnostics Recommendation<br>Systems\",\"Known by the company we keep: `Triadic influence'<br>as a proxy forcompatibility in social<br>relationships\",\"Reconstructing signed relations from interaction<br>data\",\"PERFECT: A Hyperbolic Embedding for Joint<br>User and Community Alignment\",\"KT-BT: A Framework for Knowledge Transfer<br>Through Behavior Trees inMulti-Robot Systems\",\"Matching Consumer Fairness Objectives & Strategies<br>for RecSys\",\"Getting Users Smart Quick about Security:<br>Results from 90 Minutes ofUsing a Persuasive Toolkit<br>for Facilitating Information Security ProblemSolving<br>by Non-Professionals\",\"Guidelines to Develop Trustworthy Conversational<br>Agents for Children\",\"Is it Fun?: Understanding Enjoyment in Non-Game<br>HCI Research\",\"Recommender Systems and Algorithmic Hate\",\"Trust in Language Grounding: a new AI challenge<br>for human-robot teams\",\"When Robotics Meets Wireless Communications:<br>An Introductory Tutorial\",\"BiRank vs PageRank: Using SNA on Company<br>Register Data for Fiscal RiskPrediction\",\"The Best Decisions Are Not the Best Advice:<br>Making Adherence-AwareRecommendations\",\"A Brief History of Recommender Systems\",\"\\\"iCub, We Forgive You!\\\" Investigating Trust<br>in a Game Scenario withKids\",\"IEEE Trust, Acceptance and Social Cues in<br>Human-Robot Interaction --SCRITA 2022 Workshop\",\"FairSNA: Algorithmic Fairness in Social Network<br>Analysis\",\"IoT Book Bot\",\"Older adults acceptance of SARs: The link<br>between anticipated andactual interaction\",\"IEEE Trust, Acceptance and Social Cues in<br>Human-Robot Interaction --SCRITA 2022 Workshop\",\"Robotic Exercise Trainer: How Failures and<br>T-HRI Levels Affect UserAcceptance and Trust\",\"IEEE Trust, Acceptance and Social Cues in<br>Human-Robot Interaction --SCRITA 2022 Workshop\",\"Cross-Network Social User Embedding with<br>Hybrid Differential PrivacyGuarantees\",\"Modeling Opinion Dynamics: Ranking Algorithms<br>on HeterogeneousPopulations\"],\"uid\":\"9\",\"x\":[2.9183772,2.9986193,2.8899152,2.9102483,2.7027206,2.9590344,2.9559727,2.9838078,3.0151987,2.6698115,3.0031474,2.8617806,2.818763,2.8247097,2.9083598,2.9965806,2.7021751,2.9355993,2.675618,2.9510212,2.9920638,2.6984472,2.9622574,2.949654,2.9697402,2.986362,2.9892418,2.9848738,2.9794266],\"y\":[13.856217,14.125371,13.834468,13.820911,13.686833,13.555642,13.729259,13.569154,14.026241,13.4488325,14.029692,14.197905,14.184341,13.775282,14.120471,13.972099,13.370195,13.663726,13.662305,14.145572,14.084557,13.412397,13.954903,14.105995,14.099856,14.112997,14.09026,13.542162,13.510004],\"z\":[8.674881,8.912716,8.71039,8.6717615,8.668096,8.514775,8.564456,8.477049,8.939442,8.408876,8.901648,8.786745,8.868459,8.643974,8.919709,9.111082,8.45525,8.70615,8.651098,8.843075,8.891987,8.420982,9.183509,8.866958,8.891483,8.906961,8.898345,8.536976,8.549471],\"type\":\"scatter3d\"},{\"hoverinfo\":\"text\",\"marker\":{\"color\":\"#C4451C\",\"opacity\":0.8,\"size\":2},\"mode\":\"markers\",\"name\":\"GAN\",\"text\":[\"Lightweight Long-Range Generative Adversarial<br>Networks\",\"Generalized One-shot Domain Adaption of Generative<br>AdversarialNetworks\",\"Supervised GAN Watermarking for Intellectual<br>Property Protection\",\"Improved Sensor-Based Animal Behavior Classification<br>Performancethrough Conditional Generative<br>Adversarial Network\",\"CGAN-ECT: Tomography Image Reconstruction<br>from Electrical CapacitanceMeasurements Using<br>CGANs\",\"Generative Adversarial Super-Resolution at<br>the Edge with KnowledgeDistillation\",\"Can GAN-induced Attribute Manipulations Impact<br>Face Recognition?\",\"DC-Art-GAN: Stable Procedural Content Generation<br>using DC-GANs forDigital Art\",\"Studying Bias in GANs through the Lens of<br>Race\",\"Bag of Tricks for FGSM Adversarial Training\",\"Facial Expression Translation using Landmark<br>Guided GANs\",\"Dynamics of Fourier Modes in Torus Generative<br>Adversarial Networks\",\"Exploiting Pre-trained Feature Networks for<br>Generative AdversarialNetworks in Audio-domain<br>Loop Generation\",\"DSE-GAN: Dynamic Semantic Evolution Generative<br>Adversarial Network forText-to-Image Generation\"],\"uid\":\"10\",\"x\":[1.1024656,1.0014172,1.0793078,1.3203341,1.1648422,1.3123933,0.9584792,1.0362756,1.0649499,1.4184881,0.8281477,1.09784,1.0320191,0.9551197],\"y\":[11.333479,11.337861,11.389928,11.447572,11.342457,11.483982,11.29318,11.317793,11.376199,11.564519,11.27822,11.288772,11.305042,11.351122],\"z\":[8.057638,8.022601,8.150856,8.133908,8.196393,8.242949,8.037012,8.060612,8.057078,8.285249,8.068875,8.068146,8.029444,8.069285],\"type\":\"scatter3d\"},{\"hoverinfo\":\"text\",\"marker\":{\"color\":\"#DEA0FD\",\"opacity\":0.8,\"size\":2},\"mode\":\"markers\",\"name\":\"ARCHIVE\",\"text\":[\"Training Scale-Invariant Neural Networks<br>on the Sphere Can Happen inThree Regimes\",\"The (Un)Scalability of Heuristic Approximators<br>for NP-Hard SearchProblems\",\"Impact of dataset size and long-term ECoG-based<br>BCI usage on deeplearning decoders performance\",\"Network Intrusion Detection with Limited<br>Labeled Data\",\"Effects of Archive Size on Computation Time<br>and Solution Quality forMulti-Objective Optimization\",\"Impact of Colour Variation on Robustness<br>of Deep Neural Networks\",\"Impact of Scaled Image on Robustness of Deep<br>Neural Networks\",\"Deep Learning for Medical Imaging From Diagnosis<br>Prediction to itsCounterfactual Explanation\",\"Magnitude-image based data-consistent deep<br>learning method for MRIsuper resolution\",\"Improving the Accuracy and Robustness of<br>CNNs Using a Deep CCA NeuralData Regularizer\",\"Robustness and invariance properties of image<br>classifiers\",\"Unrestricted Adversarial Samples Based on<br>Non-semantic FeatureClusters Substitution\",\"USLN: A statistically guided lightweight<br>network for underwater imageenhancement via dual-statistic<br>white balance and multi-color space<br>stretch\",\"Impact of Scaled Image on Robustness of Deep<br>Neural Networks\",\"ScaleFace: Uncertainty-aware Deep Metric<br>Learning\",\"A Principled Evaluation Protocol for Comparative<br>Investigation of theEffectiveness of DNN<br>Classification Models on Similar-but-non-identicalDatasets\",\"Concatenated Classic and Neural (CCN) Codes:<br>ConcatenatedAE\",\"Data Augmentation for Deep Receivers\"],\"uid\":\"11\",\"x\":[1.214656,1.2322919,1.2402238,1.0939475,1.3579977,1.1047133,1.0926884,0.9741389,0.9079118,1.1294783,1.178992,1.146836,1.1011026,1.1125059,0.92889595,0.99648315,1.2806966,1.165555],\"y\":[11.783346,11.781638,11.916366,12.073368,11.879779,12.00004,11.943328,12.134756,11.861595,11.870941,12.222998,12.281634,12.024973,11.915809,11.941533,12.206214,11.754744,11.970132],\"z\":[9.569888,9.612745,9.375917,9.223554,9.482123,9.449302,9.46522,9.350562,9.429698,9.417479,9.565996,9.612892,9.347417,9.462804,9.472402,9.468386,9.232626,9.194031],\"type\":\"scatter3d\"},{\"hoverinfo\":\"text\",\"marker\":{\"color\":\"#FE00FA\",\"opacity\":0.8,\"size\":2},\"mode\":\"markers\",\"name\":\"MUSIC\",\"text\":[\"Accented Speech Recognition under the Indian<br>context\",\"ESSYS* Sharing #UC: An Emotion-driven Audiovisual<br>Installation\",\"AI Illustrator: Translating Raw Descriptions<br>into Images by Prompt-based Cross-Modal Generation\",\"AudioLM: a Language Modeling Approach to<br>Audio Generation\",\"Benchmarking Multimodal Variational Autoencoders:<br>GeBiD Dataset andToolkit\",\"Improving Choral Music Separation through<br>Expressive Synthesized Datafrom Sampled Instruments\",\"The Role of Voice Persona in Expressive Communication:An<br>Argument forRelevance in Speech<br>Synthesis Design\",\"Read it to me: An emotionally aware Speech<br>Narration Application\",\"Instrument Separation of Symbolic Music by<br>Explicitly Guided DiffusionModel\",\"Make Acoustic and Visual Cues Matter: CH-SIMS<br>v2.0 Dataset and AV-Mixup Consistent Module\",\"Multi-Modal Experience Inspired AI Creation\",\"Bridging Music and Text with Crowdsourced<br>Music Comments: A Sequence-to-Sequence Framework<br>for Thematic Music Comments Generation\",\"Multi-Figurative Language Generation\",\"Deceiving Audio Design in Augmented Environments<br>: A Systematic Reviewof Audio Effects in<br>Augmented Reality\"],\"uid\":\"12\",\"x\":[1.0702242,1.1223378,1.1886206,1.0152993,1.2772211,1.1914425,1.1054132,1.1646543,1.2718443,1.2152302,1.2405926,1.1523098,1.1276839,0.8753642],\"y\":[13.9428425,14.005287,14.012142,13.988406,13.77936,14.048367,13.98902,13.997714,13.976619,13.879137,13.99117,14.001423,13.964916,13.944842],\"z\":[8.531238,8.663932,8.690841,8.590118,8.690601,8.520229,8.60817,8.677769,8.564568,8.764776,8.743247,8.641451,8.61226,8.712122],\"type\":\"scatter3d\"},{\"hoverinfo\":\"text\",\"marker\":{\"color\":\"#325A9B\",\"opacity\":0.8,\"size\":2},\"mode\":\"markers\",\"name\":\"MISINFORMATION\",\"text\":[\"Fact-Saboteurs: A Taxonomy of Evidence Manipulation<br>Attacks againstFact-Verification Systems\",\"MetaPriv: Acting in Favor of Privacy on Social<br>Media Platforms\",\"Machine Learning-based Automatic Annotation<br>and Detection of COVID-19Fake News\",\"Social Media Engagement and Cryptocurrency<br>Performance\",\"Increasing Adverse Drug Events extraction<br>robustness on social media:case study on negation<br>and speculation\",\"Depression Symptoms Modelling from Social<br>Media Text: An ActiveLearning Approach\",\"Impact analysis of recovery cases due to<br>COVID19 using LSTM deeplearning model\",\"\\\"Dummy Grandpa, do you know anything?\\\": Identifying<br>and CharacterizingAd hominem Fallacy<br>Usage in the Wild\",\"Stop the [Image] Steal: The Role and Dynamics<br>of Visual Content in the2020 U.S. Election<br>Misinformation Campaign\",\"On the Horizon: Interactive and Compositional<br>Deepfakes\",\"One year of COVID-19 vaccine misinformation<br>on Twitter\",\"Interpretable Fake News Detection with Topic<br>and Deep VariationalModels\"],\"uid\":\"13\",\"x\":[0.5025542,0.6438517,0.6015632,0.7883417,0.6724824,0.780509,0.67069465,0.57247704,0.5471578,0.6288183,0.6173776,0.54313767],\"y\":[13.801337,13.50804,13.569705,13.665683,13.685504,13.709127,13.372204,13.801976,13.569036,13.78981,13.581778,13.546415],\"z\":[8.812205,8.874424,8.747856,8.789866,8.683274,8.617598,8.863121,8.72635,8.763286,8.7147255,8.8025055,8.7501],\"type\":\"scatter3d\"},{\"hoverinfo\":\"text\",\"marker\":{\"color\":\"#FEAF16\",\"opacity\":0.8,\"size\":2},\"mode\":\"markers\",\"name\":\"SHADOW\",\"text\":[\"TF-GridNet: Making Time-Frequency Domain<br>Models Great Again forMonaural Speaker Separation\",\"Representing Camera Response Function by<br>a Single Latent Variable andFully Connected Neural<br>Network\",\"Information Maximization for Extreme Pose<br>Face Recognition\",\"T$^2$LR-Net: An Unrolling Reconstruction<br>Network Learning TransformedTensor Low-Rank prior<br>for Dynamic MR Imaging\",\"Learning-based and unrolled motion-compensated<br>reconstruction forcardiac MR CINE imaging\",\"Convolutional Neural Network (CNN) to reduce<br>construction loss in JPEGcompression\",\"Learned Image Compression with Generalized<br>Octave Convolution andCross-Resolution Parameter<br>Estimation\",\"A Self-Similar Sine-Cosine Fractal Architecture<br>for MultiportInterferometers\",\"Video Restoration with a Deep Plug-and-Play<br>Prior\",\"Segment Augmentation and Differentiable Ranking<br>for Logo Retrieval\",\"Optimal design of photonic nanojets under<br>uncertainty\",\"Multimodal contrastive learning for remote<br>sensing tasks\",\"CNSNet: A Cleanness-Navigated-Shadow Network<br>for Shadow Removal\",\"Design of the topology for contrastive visual-textual<br>alignment\",\"Low-rank nonnegative tensor approximation<br>via alternating projectionsand sketching\",\"TFN: An Interpretable Neural Network with<br>Time-Frequency TransformEmbedded for Intelligent<br>Fault Diagnosis\",\"A CNC approach for Directional Total Variation\",\"A Variational Approach for Joint Image Recovery<br>and FeaturesExtraction Based on Spatially<br>Varying Generalised Gaussian Models\",\"Semantic Segmentation in Learned Compressed<br>Domain\"],\"uid\":\"14\",\"x\":[0.72019255,0.5852107,0.66953415,0.7955338,0.81857705,0.6729501,0.71332544,0.8759742,0.7239575,0.56768745,0.83247787,0.6373232,0.7435228,0.71011746,0.8787943,0.7281797,0.82525283,0.7671038,0.6459064],\"y\":[11.198787,11.451974,11.472617,11.272693,11.559929,11.499593,11.489195,11.233476,11.192537,11.778222,11.140488,11.789197,12.070625,11.596276,11.242956,11.253101,11.018364,11.070687,11.717284],\"z\":[8.96497,8.900837,8.892587,9.0449505,9.0499935,9.055422,8.899366,9.07084,9.086268,8.515301,9.149679,8.833775,8.757805,8.79242,9.007031,9.065861,9.094257,9.092752,8.497313],\"type\":\"scatter3d\"},{\"hoverinfo\":\"text\",\"marker\":{\"color\":\"#F8A19F\",\"opacity\":0.8,\"size\":2},\"mode\":\"markers\",\"name\":\"ANSWERING\",\"text\":[\"Semantic Interactive Learning for Text Classification:<br>A ConstructiveApproach for Contextual<br>Interactions\",\"Contextualizing Large-Scale Domain Knowledge<br>for Conceptual Modelingand Simulation\",\"Cognitive Assistance for Inquiry-Based Modeling\",\"Gather -- a better way to codehack online\",\"Impact of 4ir technology and its impact on<br>the current deployment\",\"Interactive Question Answering Systems: Literature<br>Review\",\"An Empirical Study of Automation in Software<br>Security Patch Management\",\"Learning to Predict Requires Integrated Information\"],\"uid\":\"15\",\"x\":[2.0564024,2.0400681,2.0102637,2.2679124,2.330619,2.1525738,2.4939911,2.0853057],\"y\":[14.08843,14.119208,14.157959,13.956555,13.964486,14.094221,13.87917,14.103348],\"z\":[8.709785,8.936303,8.996833,8.865242,9.167408,8.7742195,9.29375,8.810353],\"type\":\"scatter3d\"},{\"hoverinfo\":\"text\",\"marker\":{\"color\":\"#90AD1C\",\"opacity\":0.8,\"size\":2},\"mode\":\"markers\",\"name\":\"SOFTWARE\",\"text\":[\"FAT Forensics: A Python Toolbox for Implementing<br>and DeployingFairness, Accountability and<br>Transparency Algorithms in Predictive Systems\",\"Analyzing and Calibrating Risk Assessment<br>by Software Developers\",\"Data Leakage in Notebooks: Static Detection<br>and Better Processes\",\"SZZ in the time of Pull Requests\",\"A Review on the Process of Automated Software<br>Testing\",\"Reflections on Software Failure Analysis\",\"Towards Understanding Third-party Library<br>Dependency in C/C++Ecosystem\",\"Jeopardy: An Invertible Functional Programming<br>Language\",\"From Legal Contracts to Legal Calculi: the<br>code-driven normativity\",\"Pacta sunt servanda: legal contracts in Stipula\",\"Automatic Code Documentation Generation Using<br>GPT-3\",\"Programming Autonomous Machines\",\"Object-Oriented Requirements: a Unified Framework<br>for Specifications,Scenarios and Tests\",\"Aspects of Modelling Requirements in Very-Large<br>Agile SystemsEngineering\",\"A Formal Theory of Choreographic Programming\",\"Detecting unjustified assumptions in subclasses<br>via EO representation\",\"An Exploratory Study on the Predominant Programming<br>Paradigms inPython Code\",\"Detecting unanticipated mutual recursion<br>using Elegant Objectsrepresentation of object-oriented<br>programs\",\"Exploring the Verifiability of Code Generated<br>by GitHub Copilot\",\"A repository of automatic GUI test patterns<br>in Android applications:Specification and Analysis<br>using Alloy modeling language\",\"The Broken Windows Theory Applies to Technical<br>Debt\",\"Model-based Analysis and Specification of<br>Functional Requirements andTests for Complex Automotive<br>Systems\"],\"uid\":\"16\",\"x\":[2.2114856,2.4807227,2.366272,2.226384,2.45028,2.4750159,2.1046362,2.3329792,2.1588292,2.1006496,2.22898,2.4311976,2.172329,2.2615318,2.128445,1.9974971,2.175181,2.0423765,2.3123097,2.291177,2.4173129,2.2735655],\"y\":[13.671678,13.824657,13.670375,13.755488,13.841957,13.855062,13.615927,13.864329,13.814864,13.723139,13.907453,14.049208,13.781622,13.7542715,13.757844,13.8345175,13.857602,13.850324,14.011452,13.741074,13.773297,13.685258],\"z\":[9.491798,9.638393,9.483675,9.68699,9.566427,9.464554,9.5965185,9.761794,9.804271,9.794934,9.613061,9.540961,10.0228815,9.957171,9.986538,9.973869,9.736207,9.940019,9.617294,9.641506,9.434497,9.985493],\"type\":\"scatter3d\"},{\"hoverinfo\":\"text\",\"marker\":{\"color\":\"#F6222E\",\"opacity\":0.8,\"size\":2},\"mode\":\"markers\",\"name\":\"PICKING\",\"text\":[\"RGB-X Classification for Electronics Sorting\",\"A multi view multi stage and multi window<br>framework for pulmonaryartery segmentation from<br>CT scans\",\"Deep Multi-Scale Representation Learning<br>with Attention for AutomaticModulation Classification\",\"MSSPN: Automatic First Arrival Picking using<br>Multi-Stage SegmentationPicking Network\",\"Handcrafted Feature Selection Techniques<br>for Pattern Recognition: ASurvey\",\"Boundary Guided Semantic Learning for Real-time<br>COVID-19 LungInfection Segmentation System\",\"SIAN: Style-Guided Instance-Adaptive Normalization<br>for Multi-OrganHistopathology Image Synthesis\",\"A Multitask Deep Learning Model for Parsing<br>Bridge Elements andSegmenting Defect in Bridge<br>Inspection Images\"],\"uid\":\"17\",\"x\":[0.44343042,0.55144256,0.5925823,0.4936601,0.26226988,0.65391046,0.6782477,0.55239856],\"y\":[12.098804,12.261689,12.278221,12.233579,12.139683,12.212041,12.333509,12.242185],\"z\":[8.89944,8.697401,8.408783,8.541698,8.701766,8.62549,8.606409,8.686004],\"type\":\"scatter3d\"},{\"hoverinfo\":\"text\",\"marker\":{\"color\":\"#1CFFCE\",\"opacity\":0.8,\"size\":2},\"mode\":\"markers\",\"name\":\"SUPERVISED\",\"text\":[\"A Novel Semi-supervised Meta Learning Method<br>for Subject-transferBrain-computer Interface\",\"Measuring the Interpretability of Unsupervised<br>Representations viaQuantized Reverse Probing\",\"Not All Instances Contribute Equally: Instance-adaptive<br>ClassRepresentation Learning for<br>Few-Shot Visual Recognition\",\"A Weakly Supervised Learning Framework for<br>Salient Object Detectionvia Hybrid Labels\",\"Semi-supervised Crowd Counting via Density<br>Agency\",\"SUNet: Scale-aware Unified Network for Panoptic<br>Segmentation\",\"Self-supervised multimodal neuroimaging yields<br>predictiverepresentations for a spectrum<br>of Alzheimer's phenotypes\",\"Improving Self-supervised Learning for Out-of-distribution<br>Task viaAuxiliary Classifier\",\"Single-Stage Broad Multi-Instance Multi-Label<br>Learning (BMIML) withDiverse Inter-Correlations<br>and its application to medical image classification\",\"Robust and Efficient Imbalanced Positive-Unlabeled<br>Learning with Self-supervision\",\"MARTI-4: new model of human brain, considering<br>neocortex and basalganglia -- learns to play<br>Atari game by reinforcement learning on a single<br>CPU\",\"Zero-shot Aspect-level Sentiment Classification<br>via ExplicitUtilization of Aspect-to-Document<br>Sentiment Composition\",\"Transformer-CNN Cohort: Semi-supervised Semantic<br>Segmentation by theBest of Both Students\",\"A Benchmark for Weakly Semi-Supervised Abnormality<br>Localization inChest X-Rays\",\"Semi-Supervised Domain Adaptation by Similarity<br>based Pseudo-labelInjection\",\"Unsupervised Domain Adaptation via Style-Aware<br>Self-intermediateDomain\",\"RLIP: Relational Language-Image Pre-training<br>for Human-ObjectInteraction Detection\",\"ASTra: A Novel Algorithm-Level Approach to<br>Imbalanced Classification\",\"SCL-RAI: Span-based Contrastive Learning<br>with Retrieval AugmentedInference for Unlabeled<br>Entity Problem in NER\",\"Consistent Teacher Provides Better Supervision<br>in Semi-supervisedObject Detection\",\"Autonomous Cross Domain Adaptation under<br>Extreme Label Scarcity\",\"Transfer Learning of an Ensemble of DNNs<br>for SSVEP BCI Spellerswithout User-Specific Training\",\"Meta-Learning with Less Forgetting on Large-Scale<br>Non-Stationary TaskDistributions\",\"Equivariant Self-Supervision for Musical<br>Tempo Estimation\",\"STAD: Self-Training with Ambiguous Data for<br>Low-Resource RelationExtraction\",\"Noise-Robust Bidirectional Learning with<br>Dynamic Sample Reweighting\",\"Semi-Supervised Semantic Segmentation with<br>Cross Teacher Training\"],\"uid\":\"18\",\"x\":[1.0360777,1.0012226,1.0205003,1.0937253,1.0997313,0.78916496,0.87009823,1.1645967,0.87378,1.2336626,1.0237758,1.0447826,0.95136046,1.0529848,1.105617,0.88331,0.90379983,1.2776636,1.1128249,1.0986862,0.938491,1.0746307,1.3396832,1.1074936,1.1738183,1.3464166,0.98946404],\"y\":[12.612341,12.606672,12.382702,12.127115,12.106383,12.093176,12.607604,12.059239,12.601224,12.388713,12.692021,12.365867,12.157318,12.134901,12.086376,11.926666,12.300484,12.39954,12.277564,12.195475,11.968332,12.65667,12.153737,12.534178,12.300431,11.972636,12.148989],\"z\":[8.649515,8.458617,8.391296,8.094529,8.126203,8.361933,8.738086,8.246791,8.7814865,8.300386,8.682928,8.351256,8.379972,8.384101,8.015099,8.026586,8.226039,8.123327,8.057842,8.274426,7.9991975,8.661493,8.260066,8.274206,8.0675955,8.206446,8.282712],\"type\":\"scatter3d\"},{\"hoverinfo\":\"text\",\"marker\":{\"color\":\"#2ED9FF\",\"opacity\":0.8,\"size\":2},\"mode\":\"markers\",\"name\":\"TRANSFORMER\",\"text\":[\"Text-Free Learning of a Natural Language<br>Interface for Pretrained FaceGenerators\",\"W-Transformers : A Wavelet-based Transformer<br>Framework for UnivariateTime Series Forecasting\",\"Levenshtein OCR\",\"Multi-Granularity Prediction for Scene Text<br>Recognition\",\"Sign Language Detection\",\"Video Vision Transformers for Violence Detection\",\"Self-Supervised Multimodal Fusion Transformer<br>for Passive ActivityRecognition\",\"FasterX: Real-Time Object Detection Based<br>on Edge GPUs for UAVApplications\",\"Treating Motion as Option to Reduce Motion<br>Dependency in UnsupervisedVideo Object Segmentation\",\"Text Growing on Leaf\",\"Zoom Text Detector\",\"Auto-TransRL: Autonomous Composition of Vision<br>Pipelines for RoboticPerception\",\"Shifting Perspective to See Difference: A<br>Novel Multi-View Method forSkeleton based Action<br>Recognition\",\"YOLOv6: A Single-Stage Object Detection Framework<br>for IndustrialApplications\",\"Visual Transformer for Soil Classification\",\"Unsupervised Scene Sketch to Photo Synthesis\",\"Fusion of Satellite Images and Weather Data<br>with Transformer Networksfor Downy Mildew Disease<br>Detection\",\"Spach Transformer: Spatial and Channel-wise<br>Transformer Based on Localand Global Self-attentions<br>for PET Image Denoising\",\"Erato: Cooperative Data Story Editing via<br>Fact Interpolation\",\"Volume Rendering Digest (for NeRF)\",\"SkeletonMAE: Spatial-Temporal Masked Autoencoders<br>for Self-supervisedSkeleton Action Recognition\",\"A Scene-Text Synthesis Engine Achieved Through<br>Learning fromDecomposed Real-World Data\",\"Finger Multimodal Feature Fusion and Recognition<br>Based on ChannelSpatial Attention\",\"PTSEFormer: Progressive Temporal-Spatial<br>Enhanced TransFormer TowardsVideo Object Detection\",\"Scene Text Recognition with Single-Point<br>Decoding Network\",\"Predict-and-Update Network: Audio-Visual<br>Speech Recognition Inspiredby Human Speech Perception\",\"SEFormer: Structure Embedding Transformer<br>for 3D Object Detection\",\"Features Fusion Framework for Multimodal<br>Irregular Time-series Events\",\"Every picture tells a story: Image-grounded<br>controllable stylisticstory generation\",\"MAFormer: A Transformer Network with Multi-scale<br>Attention Fusion forVisual Recognition\",\"Spatial-Temporal Transformer for Video Snapshot<br>Compressive Imaging\",\"Hierarchical Transformer with Spatio-Temporal<br>Context Aggregation forNext Point-of-Interest<br>Recommendation\",\"An Empirical Study of End-to-End Video-Language<br>Transformers withMasked Visual Modeling\",\"VIOLET : End-to-End Video-Language Transformers<br>with Masked Visual-token Modeling\",\"Kinova Gemini: Interactive Robot Grasping<br>with Visual Reasoning andConversational AI\"],\"uid\":\"19\",\"x\":[-0.13302645,-0.1724599,-0.07714227,0.0018558997,0.025964698,-0.0130293695,-0.17744404,-0.09078217,0.17386992,-0.11159091,-0.16124752,-0.047191184,0.11981584,-0.14919138,-0.11173154,-0.066024646,-0.1539328,-0.15945798,-0.11734532,-0.21490867,0.20797743,-0.06958363,-0.3270384,-0.08923243,0.0018300333,0.06856983,-0.20782949,-0.15818502,-0.06461807,-0.1225493,-0.107019596,-0.09102507,0.09149614,0.017016115,0.0076785353],\"y\":[12.838505,12.353977,12.642809,12.617128,12.689745,12.600809,12.311154,12.405882,12.042255,12.799523,12.686265,12.526266,12.331417,12.448594,12.59625,12.78099,12.349511,12.346473,12.827983,11.855338,12.444077,12.834079,12.091593,12.501198,12.593577,12.755004,12.35607,12.303062,12.827874,12.386601,12.311898,12.406331,12.604695,12.583287,12.350246],\"z\":[8.597036,8.506672,8.644595,8.341454,9.352701,8.495654,8.513742,9.408154,8.306355,8.661518,8.61885,9.07721,8.426047,9.35835,8.8479395,8.572285,8.739469,8.478118,8.581217,8.772356,8.481338,8.588694,8604.0,8.423311,8.381492,8.64732,8.510766,8.498397,8.636524,8.428995,8.547354,8.418706,8.36389,8.387628,9.464796],\"type\":\"scatter3d\"},{\"hoverinfo\":\"text\",\"marker\":{\"color\":\"#B10DA1\",\"opacity\":0.8,\"size\":2},\"mode\":\"markers\",\"name\":\"3D\",\"text\":[\"PixTrack: Precise 6DoF Object Pose Tracking<br>using NeRF Templates andFeature-metric Alignment\",\"Histogram Layers for Synthetic Aperture Sonar<br>Imagery\",\"R$^3$LIVE++: A Robust, Real-time, Radiance<br>reconstruction package witha tightly-coupled<br>LiDAR-Inertial-Visual state Estimator\",\"Saliency-based Multiple Region of Interest<br>Detection from a Single360\\u00c2\\u00b0 image\",\"Measuring Human Perception to Improve Open<br>Set Recognition\",\"A Secure and Efficient Multi-Object Grasping<br>Detection Approach forRobotic Arms\",\"Detection and Mapping of Specular Surfaces<br>Using Multibounce LidarReturns\",\"3D Textured Shape Recovery with Learned Geometric<br>Priors\",\"Deployment of Aerial Robots during the Flood<br>Disaster in Erftstadt /Blessem in July 2021\",\"SIRA: Relightable Avatars from a Single Image\",\"BiFuse++: Self-supervised and Efficient Bi-projection<br>Fusion for 360Depth Estimation\",\"Facial De-morphing: Extracting Component<br>Faces from a Single Morph\",\"Toward Data-Driven STAP Radar\",\"Multi-Grained Angle Representation for Remote<br>Sensing Object Detection\",\"Deep Learning Assisted Optimization for 3D<br>Reconstruction from Single2D Line Drawings\",\"Domain Engineering for Applied Monocular<br>Reconstruction of ParametricFaces\",\"Applied monocular reconstruction of parametric<br>faces with domainengineering\",\"A neuromorphic approach to image processing<br>and machine vision\",\"Identification of Small Objects in Satellite<br>Image Benchmarks\",\"The Outcome of the 2022 Landslide4Sense Competition:<br>AdvancedLandslide Detection from Multi-Source<br>Satellite Imagery\",\"CAMO-MOT: Combined Appearance-Motion Optimization<br>for 3D Multi-ObjectTracking with Camera-LiDAR<br>Fusion\",\"Reconstructing Action-Conditioned Human-Object<br>Interactions UsingCommonsense Knowledge Priors\",\"Which country is this picture from? New data<br>and methods for DNN-basedcountry recognition\",\"Inferring Implicit 3D Representations from<br>Human Figures on PictorialMaps\",\"Task-wise Sampling Convolutions for Arbitrary-Oriented<br>ObjectDetection in Aerial Images\",\"Learning Canonical Embeddings for Unsupervised<br>Shape Correspondencewith Locally Linear Transformations\",\"Utilizing Post-Hurricane Satellite Imagery<br>to Identify Flooding Damagewith Convolutional<br>Neural Networks\",\"Neuromorphic Visual Odometry with Resonator<br>Networks\",\"MuCaSLAM: CNN-Based Frame Quality Assessment<br>for Mobile Robot withOmnidirectional Visual<br>SLAM\",\"SPCNet: Stepwise Point Cloud Completion Network\",\"Prototype-Aware Heterogeneous Task for Point<br>Cloud Completion\",\"CloudVision: DNN-based Visual Localization<br>of Autonomous Robots usingPrebuilt LiDAR Point<br>Cloud\",\"Pseudo-LiDAR for Visual Odometry\"],\"uid\":\"20\",\"x\":[-0.14931329,0.5889678,-0.09977081,-0.043159895,0.514354,0.35047102,-0.034691107,-0.06465918,0.39989054,-0.14085664,-0.11776373,-0.04000873,0.52051026,0.30373812,-0.016084757,-0.08148833,-0.08856995,0.5967635,0.47438312,0.31898877,-0.112338,-0.14584917,0.34178376,-0.13508575,0.37816212,0.012806467,0.40287772,0.053035375,0.13889617,0.024961626,0.035959452,-0.01767424,-0.08952317],\"y\":[11.745906,11.853721,11.721654,11.749998,11.899186,11.934464,11.73352,11.470305,12.039722,11.591413,11.802716,11.461738,11.828849,11.899791,11.443873,11.458849,11.471448,11.830268,11.799688,12.032332,11.770392,11.547215,11.912914,11.548007,11.830944,11.458418,11.938349,11.807362,11.786187,11.530491,11.503748,11.7243595,11.680581],\"z\":[9.352636,9.283268,9.343922,9.297871,9.389372,9.319123,9.091495,8.891505,9.552429,8.711016,9.16277,8.653255,9.642194,9.220248,8.893336,8.731064,8.7392025,9.23934,9.492275,9.558235,9.125707,8.825236,9.494877,8.813558,9.184104,9.014186,9.541763,9.253796,8.993788,8.945338,8.966773,9.329281,9.348853],\"type\":\"scatter3d\"},{\"hoverinfo\":\"text\",\"marker\":{\"color\":\"#C075A6\",\"opacity\":0.8,\"size\":2},\"mode\":\"markers\",\"name\":\"LANGUAGES\",\"text\":[\"Visual Grounding of Inter-lingual Word-Embeddings\",\"Knowledge Based Template Machine Translation<br>In Low-Resource Setting\",\"Improving the Cross-Lingual Generalisation<br>in Visual QuestionAnswering\",\"Adam Mickiewicz University at WMT 2022: NER-Assisted<br>and Quality-AwareNeural Machine Translation\",\"Facilitating Global Team Meetings Between<br>Language-Based Subgroups:When and How Can Machine<br>Translation Help?\",\"Taking a Language Detour: How International<br>Migrants Speaking aMinority Language Seek COVID-Related<br>Information in Their Host Countries\",\"Multilingual Bidirectional Unsupervised Translation<br>ThroughMultilingual Finetuning and Back-Translation\",\"Cross-Lingual and Cross-Domain Crisis Classification<br>for Low-ResourceScenarios\",\"CONCRETE: Improving Cross-lingual Fact-checking<br>with Cross-lingualRetrieval\",\"Informative Language Representation Learning<br>for MassivelyMultilingual Neural Machine Translation\",\"Multilingual ColBERT-X\"],\"uid\":\"21\",\"x\":[0.92945015,1.0764103,0.93635106,0.96105385,0.95556056,0.8899943,0.95283145,0.8650345,0.97315943,0.96251893,0.9347724],\"y\":[13.214193,13.151505,13.177079,13.26567,13.322963,13.408193,13.227983,13.42946,13.3199625,13.23571,13.37024],\"z\":[7.6895494,7.6893315,7.7176037,7.685533,7.67452,7.80653,7.7073855,7.799955,7.7328463,7.714828,7.8005857],\"type\":\"scatter3d\"},{\"hoverinfo\":\"text\",\"marker\":{\"color\":\"#FC1CBF\",\"opacity\":0.8,\"size\":2},\"mode\":\"markers\",\"name\":\"SUMMARIES\",\"text\":[\"Applying Transformer-based Text Summarization<br>for Keyphrase Generation\",\"Towards explainable evaluation of language<br>models on the semanticsimilarity of visual concepts\",\"Extractive is not Faithful: An Investigation<br>of Broad UnfaithfulnessProblems in Extractive<br>Summarization\",\"Entity-based SpanCopy for Abstractive Summarization<br>to Improve theFactual Consistency\",\"Investigating Reasons for Disagreement in<br>Natural Language Inference\",\"OneEE: A One-Stage Framework for Fast Overlapping<br>and Nested EventExtraction\",\"Transfer Learning of Lexical Semantic Families<br>for ArgumentativeDiscourse Units Identification\",\"Comparing Methods for Extractive Summarization<br>of Call Centre Dialogue\",\"Monolingual alignment of word senses and<br>definitions inlexicographical resources\",\"Layer or Representation Space: What makes<br>BERT-based EvaluationMetrics Robust?\",\"Reference Resolution and Context Change in<br>Multimodal SituatedDialogue for Exploring Data<br>Visualizations\",\"Distilling the Knowledge of BERT for CTC-based<br>ASR\",\"ChemBERTa-2: Towards Chemical Foundation<br>Models\",\"ArgLegalSumm: Improving Abstractive Summarization<br>of Legal Documentswith Argument Mining\",\"Quantitative Stopword Generation for Sentiment<br>Analysis via Recursiveand Iterative Deletion\",\"CrossDial: An Entertaining Dialogue Dataset<br>of Chinese Crosstalk\"],\"uid\":\"22\",\"x\":[1.3426293,1.4926409,1.3860022,1.374674,1.4979068,1.1443366,1.3935494,1.3441932,1.3324072,1.3252825,1.2885908,1.292188,1.4011098,1.4722749,1.3881892,1.6405936],\"y\":[13.395467,13.309661,13.466939,13.421248,13.260524,13.138792,13.456388,13.3862,13.225797,13.250501,13.249797,13.183414,13.462412,13.596946,13.365587,13.3926525],\"z\":[7.9302564,8.082645,7.897977,7.8679576,7.7809677,8.214683,8.084393,7.9205484,7.7564616,8.077748,8.096964,8.056575,8.28041,8.045401,8.001305,8.31391],\"type\":\"scatter3d\"}],                        {\"template\":{\"data\":{\"histogram2dcontour\":[{\"type\":\"histogram2dcontour\",\"colorbar\":{\"outlinewidth\":0,\"ticks\":\"\"},\"colorscale\":[[0.0,\"#0d0887\"],[0.1111111111111111,\"#46039f\"],[0.2222222222222222,\"#7201a8\"],[0.3333333333333333,\"#9c179e\"],[0.4444444444444444,\"#bd3786\"],[0.5555555555555556,\"#d8576b\"],[0.6666666666666666,\"#ed7953\"],[0.7777777777777778,\"#fb9f3a\"],[0.8888888888888888,\"#fdca26\"],[1.0,\"#f0f921\"]]}],\"choropleth\":[{\"type\":\"choropleth\",\"colorbar\":{\"outlinewidth\":0,\"ticks\":\"\"}}],\"histogram2d\":[{\"type\":\"histogram2d\",\"colorbar\":{\"outlinewidth\":0,\"ticks\":\"\"},\"colorscale\":[[0.0,\"#0d0887\"],[0.1111111111111111,\"#46039f\"],[0.2222222222222222,\"#7201a8\"],[0.3333333333333333,\"#9c179e\"],[0.4444444444444444,\"#bd3786\"],[0.5555555555555556,\"#d8576b\"],[0.6666666666666666,\"#ed7953\"],[0.7777777777777778,\"#fb9f3a\"],[0.8888888888888888,\"#fdca26\"],[1.0,\"#f0f921\"]]}],\"heatmap\":[{\"type\":\"heatmap\",\"colorbar\":{\"outlinewidth\":0,\"ticks\":\"\"},\"colorscale\":[[0.0,\"#0d0887\"],[0.1111111111111111,\"#46039f\"],[0.2222222222222222,\"#7201a8\"],[0.3333333333333333,\"#9c179e\"],[0.4444444444444444,\"#bd3786\"],[0.5555555555555556,\"#d8576b\"],[0.6666666666666666,\"#ed7953\"],[0.7777777777777778,\"#fb9f3a\"],[0.8888888888888888,\"#fdca26\"],[1.0,\"#f0f921\"]]}],\"heatmapgl\":[{\"type\":\"heatmapgl\",\"colorbar\":{\"outlinewidth\":0,\"ticks\":\"\"},\"colorscale\":[[0.0,\"#0d0887\"],[0.1111111111111111,\"#46039f\"],[0.2222222222222222,\"#7201a8\"],[0.3333333333333333,\"#9c179e\"],[0.4444444444444444,\"#bd3786\"],[0.5555555555555556,\"#d8576b\"],[0.6666666666666666,\"#ed7953\"],[0.7777777777777778,\"#fb9f3a\"],[0.8888888888888888,\"#fdca26\"],[1.0,\"#f0f921\"]]}],\"contourcarpet\":[{\"type\":\"contourcarpet\",\"colorbar\":{\"outlinewidth\":0,\"ticks\":\"\"}}],\"contour\":[{\"type\":\"contour\",\"colorbar\":{\"outlinewidth\":0,\"ticks\":\"\"},\"colorscale\":[[0.0,\"#0d0887\"],[0.1111111111111111,\"#46039f\"],[0.2222222222222222,\"#7201a8\"],[0.3333333333333333,\"#9c179e\"],[0.4444444444444444,\"#bd3786\"],[0.5555555555555556,\"#d8576b\"],[0.6666666666666666,\"#ed7953\"],[0.7777777777777778,\"#fb9f3a\"],[0.8888888888888888,\"#fdca26\"],[1.0,\"#f0f921\"]]}],\"surface\":[{\"type\":\"surface\",\"colorbar\":{\"outlinewidth\":0,\"ticks\":\"\"},\"colorscale\":[[0.0,\"#0d0887\"],[0.1111111111111111,\"#46039f\"],[0.2222222222222222,\"#7201a8\"],[0.3333333333333333,\"#9c179e\"],[0.4444444444444444,\"#bd3786\"],[0.5555555555555556,\"#d8576b\"],[0.6666666666666666,\"#ed7953\"],[0.7777777777777778,\"#fb9f3a\"],[0.8888888888888888,\"#fdca26\"],[1.0,\"#f0f921\"]]}],\"mesh3d\":[{\"type\":\"mesh3d\",\"colorbar\":{\"outlinewidth\":0,\"ticks\":\"\"}}],\"scatter\":[{\"fillpattern\":{\"fillmode\":\"overlay\",\"size\":10,\"solidity\":0.2},\"type\":\"scatter\"}],\"parcoords\":[{\"type\":\"parcoords\",\"line\":{\"colorbar\":{\"outlinewidth\":0,\"ticks\":\"\"}}}],\"scatterpolargl\":[{\"type\":\"scatterpolargl\",\"marker\":{\"colorbar\":{\"outlinewidth\":0,\"ticks\":\"\"}}}],\"bar\":[{\"error_x\":{\"color\":\"#2a3f5f\"},\"error_y\":{\"color\":\"#2a3f5f\"},\"marker\":{\"line\":{\"color\":\"#E5ECF6\",\"width\":0.5},\"pattern\":{\"fillmode\":\"overlay\",\"size\":10,\"solidity\":0.2}},\"type\":\"bar\"}],\"scattergeo\":[{\"type\":\"scattergeo\",\"marker\":{\"colorbar\":{\"outlinewidth\":0,\"ticks\":\"\"}}}],\"scatterpolar\":[{\"type\":\"scatterpolar\",\"marker\":{\"colorbar\":{\"outlinewidth\":0,\"ticks\":\"\"}}}],\"histogram\":[{\"marker\":{\"pattern\":{\"fillmode\":\"overlay\",\"size\":10,\"solidity\":0.2}},\"type\":\"histogram\"}],\"scattergl\":[{\"type\":\"scattergl\",\"marker\":{\"colorbar\":{\"outlinewidth\":0,\"ticks\":\"\"}}}],\"scatter3d\":[{\"type\":\"scatter3d\",\"line\":{\"colorbar\":{\"outlinewidth\":0,\"ticks\":\"\"}},\"marker\":{\"colorbar\":{\"outlinewidth\":0,\"ticks\":\"\"}}}],\"scattermapbox\":[{\"type\":\"scattermapbox\",\"marker\":{\"colorbar\":{\"outlinewidth\":0,\"ticks\":\"\"}}}],\"scatterternary\":[{\"type\":\"scatterternary\",\"marker\":{\"colorbar\":{\"outlinewidth\":0,\"ticks\":\"\"}}}],\"scattercarpet\":[{\"type\":\"scattercarpet\",\"marker\":{\"colorbar\":{\"outlinewidth\":0,\"ticks\":\"\"}}}],\"carpet\":[{\"aaxis\":{\"endlinecolor\":\"#2a3f5f\",\"gridcolor\":\"white\",\"linecolor\":\"white\",\"minorgridcolor\":\"white\",\"startlinecolor\":\"#2a3f5f\"},\"baxis\":{\"endlinecolor\":\"#2a3f5f\",\"gridcolor\":\"white\",\"linecolor\":\"white\",\"minorgridcolor\":\"white\",\"startlinecolor\":\"#2a3f5f\"},\"type\":\"carpet\"}],\"table\":[{\"cells\":{\"fill\":{\"color\":\"#EBF0F8\"},\"line\":{\"color\":\"white\"}},\"header\":{\"fill\":{\"color\":\"#C8D4E3\"},\"line\":{\"color\":\"white\"}},\"type\":\"table\"}],\"barpolar\":[{\"marker\":{\"line\":{\"color\":\"#E5ECF6\",\"width\":0.5},\"pattern\":{\"fillmode\":\"overlay\",\"size\":10,\"solidity\":0.2}},\"type\":\"barpolar\"}],\"pie\":[{\"automargin\":true,\"type\":\"pie\"}]},\"layout\":{\"autotypenumbers\":\"strict\",\"colorway\":[\"#636efa\",\"#EF553B\",\"#00cc96\",\"#ab63fa\",\"#FFA15A\",\"#19d3f3\",\"#FF6692\",\"#B6E880\",\"#FF97FF\",\"#FECB52\"],\"font\":{\"color\":\"#2a3f5f\"},\"hovermode\":\"closest\",\"hoverlabel\":{\"align\":\"left\"},\"paper_bgcolor\":\"white\",\"plot_bgcolor\":\"#E5ECF6\",\"polar\":{\"bgcolor\":\"#E5ECF6\",\"angularaxis\":{\"gridcolor\":\"white\",\"linecolor\":\"white\",\"ticks\":\"\"},\"radialaxis\":{\"gridcolor\":\"white\",\"linecolor\":\"white\",\"ticks\":\"\"}},\"ternary\":{\"bgcolor\":\"#E5ECF6\",\"aaxis\":{\"gridcolor\":\"white\",\"linecolor\":\"white\",\"ticks\":\"\"},\"baxis\":{\"gridcolor\":\"white\",\"linecolor\":\"white\",\"ticks\":\"\"},\"caxis\":{\"gridcolor\":\"white\",\"linecolor\":\"white\",\"ticks\":\"\"}},\"coloraxis\":{\"colorbar\":{\"outlinewidth\":0,\"ticks\":\"\"}},\"colorscale\":{\"sequential\":[[0.0,\"#0d0887\"],[0.1111111111111111,\"#46039f\"],[0.2222222222222222,\"#7201a8\"],[0.3333333333333333,\"#9c179e\"],[0.4444444444444444,\"#bd3786\"],[0.5555555555555556,\"#d8576b\"],[0.6666666666666666,\"#ed7953\"],[0.7777777777777778,\"#fb9f3a\"],[0.8888888888888888,\"#fdca26\"],[1.0,\"#f0f921\"]],\"sequentialminus\":[[0.0,\"#0d0887\"],[0.1111111111111111,\"#46039f\"],[0.2222222222222222,\"#7201a8\"],[0.3333333333333333,\"#9c179e\"],[0.4444444444444444,\"#bd3786\"],[0.5555555555555556,\"#d8576b\"],[0.6666666666666666,\"#ed7953\"],[0.7777777777777778,\"#fb9f3a\"],[0.8888888888888888,\"#fdca26\"],[1.0,\"#f0f921\"]],\"diverging\":[[0,\"#8e0152\"],[0.1,\"#c51b7d\"],[0.2,\"#de77ae\"],[0.3,\"#f1b6da\"],[0.4,\"#fde0ef\"],[0.5,\"#f7f7f7\"],[0.6,\"#e6f5d0\"],[0.7,\"#b8e186\"],[0.8,\"#7fbc41\"],[0.9,\"#4d9221\"],[1,\"#276419\"]]},\"xaxis\":{\"gridcolor\":\"white\",\"linecolor\":\"white\",\"ticks\":\"\",\"title\":{\"standoff\":15},\"zerolinecolor\":\"white\",\"automargin\":true,\"zerolinewidth\":2},\"yaxis\":{\"gridcolor\":\"white\",\"linecolor\":\"white\",\"ticks\":\"\",\"title\":{\"standoff\":15},\"zerolinecolor\":\"white\",\"automargin\":true,\"zerolinewidth\":2},\"scene\":{\"xaxis\":{\"backgroundcolor\":\"#E5ECF6\",\"gridcolor\":\"white\",\"linecolor\":\"white\",\"showbackground\":true,\"ticks\":\"\",\"zerolinecolor\":\"white\",\"gridwidth\":2},\"yaxis\":{\"backgroundcolor\":\"#E5ECF6\",\"gridcolor\":\"white\",\"linecolor\":\"white\",\"showbackground\":true,\"ticks\":\"\",\"zerolinecolor\":\"white\",\"gridwidth\":2},\"zaxis\":{\"backgroundcolor\":\"#E5ECF6\",\"gridcolor\":\"white\",\"linecolor\":\"white\",\"showbackground\":true,\"ticks\":\"\",\"zerolinecolor\":\"white\",\"gridwidth\":2}},\"shapedefaults\":{\"line\":{\"color\":\"#2a3f5f\"}},\"annotationdefaults\":{\"arrowcolor\":\"#2a3f5f\",\"arrowhead\":0,\"arrowwidth\":1},\"geo\":{\"bgcolor\":\"white\",\"landcolor\":\"#E5ECF6\",\"subunitcolor\":\"white\",\"showland\":true,\"showlakes\":true,\"lakecolor\":\"white\"},\"title\":{\"x\":0.05},\"mapbox\":{\"style\":\"light\"}}},\"title\":{\"font\":{\"family\":\"Courier New\",\"size\":40},\"pad\":{\"l\":300,\"r\":0,\"b\":0,\"t\":40},\"text\":\"Clustering\"},\"hoverlabel\":{\"font\":{\"size\":12,\"family\":\"Courier New\"},\"align\":\"left\"},\"scene\":{\"xaxis\":{\"title\":{\"text\":\"\"},\"backgroundcolor\":\"rgb(200, 200, 230)\",\"gridcolor\":\"blue\",\"showbackground\":false,\"showspikes\":false,\"showgrid\":false,\"showticklabels\":false},\"yaxis\":{\"title\":{\"text\":\"\"},\"backgroundcolor\":\"rgb(200, 200, 230)\",\"gridcolor\":\"blue\",\"showbackground\":false,\"showspikes\":false,\"showgrid\":false,\"showticklabels\":false},\"zaxis\":{\"title\":{\"text\":\"\"},\"backgroundcolor\":\"rgb(200, 200, 230)\",\"gridcolor\":\"blue\",\"showbackground\":false,\"showspikes\":false,\"showgrid\":false,\"showticklabels\":false}},\"margin\":{\"r\":10,\"l\":0,\"b\":10,\"t\":60},\"hovermode\":\"closest\",\"height\":700,\"width\":1100},                        {\"responsive\": true}                    ).then(function(){\n",
       "                            \n",
       "var gd = document.getElementById('140138a3-489b-45f4-89df-702f7f10bb4f');\n",
       "var x = new MutationObserver(function (mutations, observer) {{\n",
       "        var display = window.getComputedStyle(gd).display;\n",
       "        if (!display || display === 'none') {{\n",
       "            console.log([gd, 'removed!']);\n",
       "            Plotly.purge(gd);\n",
       "            observer.disconnect();\n",
       "        }}\n",
       "}});\n",
       "\n",
       "// Listen for the removal of the full notebook cells\n",
       "var notebookContainer = gd.closest('#notebook-container');\n",
       "if (notebookContainer) {{\n",
       "    x.observe(notebookContainer, {childList: true});\n",
       "}}\n",
       "\n",
       "// Listen for the clearing of the current output cell\n",
       "var outputEl = gd.closest('.output');\n",
       "if (outputEl) {{\n",
       "    x.observe(outputEl, {childList: true});\n",
       "}}\n",
       "\n",
       "                        })                };                });            </script>        </div>"
      ]
     },
     "metadata": {},
     "output_type": "display_data"
    }
   ],
   "source": [
    "import plotly.graph_objects as go\n",
    "import plotly.express as px\n",
    "import webbrowser\n",
    "import numpy as np\n",
    "\n",
    "fig = go.Figure()\n",
    "\n",
    "# Configuración de la visualización de los vectores\n",
    "fig.update_layout(\n",
    "    title=dict(\n",
    "            text='Clustering',\n",
    "            font=dict(\n",
    "                    family='Courier New',\n",
    "                    size=40),\n",
    "            pad=dict(l=300, r=0, b=0,t=40)),\n",
    "    hoverlabel=dict(\n",
    "                align='left',\n",
    "                font_size=12,\n",
    "                font_family=\"Courier New\"),\n",
    "    scene = dict(\n",
    "            xaxis = dict(\n",
    "                title=\"\",                             # Etiqueta del eje\n",
    "                backgroundcolor=\"rgb(200, 200, 230)\", # Color de fondo\n",
    "                gridcolor=\"blue\",                     # Color de lineas del eje de coordenadas en el plano\n",
    "                showbackground=False,                 # Mostrar fondo \n",
    "                showspikes=False,                     # Mostrar lineas del eje de coordenadas en el espacio\n",
    "                showgrid=False,                       # Mostrar lineas del eje de coordenadas en el plano\n",
    "                showticklabels=False),                # Mostrar etiquetas del eje (recta numérica)\n",
    "            yaxis = dict(\n",
    "                title=\"\",\n",
    "                backgroundcolor=\"rgb(200, 200, 230)\",\n",
    "                gridcolor=\"blue\",\n",
    "                showbackground=False,\n",
    "                showspikes=False,\n",
    "                showgrid=False,\n",
    "                showticklabels=False),\n",
    "            zaxis = dict(\n",
    "                title=\"\",\n",
    "                backgroundcolor=\"rgb(200, 200, 230)\",\n",
    "                gridcolor=\"blue\",\n",
    "                showbackground=False,\n",
    "                showspikes=False,\n",
    "                showgrid=False,\n",
    "                showticklabels=False)),\n",
    "    hovermode='closest',\n",
    "    height=700,\n",
    "    width=1100,\n",
    "    margin=dict(r=10, l=0,b=10, t=60)\n",
    ")\n",
    "\n",
    "\n",
    "# Añadimos cada uno de los clusteres\n",
    "\n",
    "for uid, i in enumerate(centroids_3d['labels']):\n",
    "    fig.add_trace(go.Scatter3d(\n",
    "        x=result_3d.loc[result_3d.labels == i, :].x,   # Coordenadas x\n",
    "        y=result_3d.loc[result_3d.labels == i, :].y,   # Coordenadas y\n",
    "        z=result_3d.loc[result_3d.labels == i, :].z,   # Coordenadas z\n",
    "        text =result_3d.loc[result_3d.labels == i, :].titulos,   # Texto que se muestra al pasar el cursor\n",
    "        #text=titulo,                   # Texto que se muestra al pasar el cursor\n",
    "        hoverinfo='text',               # Listado de información a mostrar al pasar el cursor\n",
    "        name=centroids_3d['word'][i],   # Nombre del grupo\n",
    "        uid=str(uid),            # Identificador del cluster\n",
    "        mode='markers',\n",
    "        marker=dict(\n",
    "            size=2,                   # tamaño del punto\n",
    "            #color=df['labels'],      # subconjuntos en los cuales se divide el total de los datos\n",
    "            color=px.colors.qualitative.Alphabet[int(i)],    # color de los subconjuntos\n",
    "            opacity=0.8              # opacidad\n",
    "            )\n",
    "    ))\n",
    "\n",
    "\n",
    "# Conficuración click action\n",
    "scatter3d = fig.data\n",
    "\n",
    "fig.layout.hovermode = 'closest'\n",
    "\n",
    "def do_click(trace, points, state):\n",
    "    print('points.point_inds')\n",
    "    if points.point_inds:\n",
    "        ind = points.point_inds[0]\n",
    "        #url = df.link.iloc[ind]\n",
    "        url = 'https://google.com'\n",
    "        webbrowser.open_new_tab(url)\n",
    "\n",
    "for scatter_ in scatter3d:\n",
    "    scatter_.on_click(do_click)\n",
    "\n",
    "#fig\n",
    "\n",
    "    \n",
    "fig.show()\n"
   ]
  },
  {
   "cell_type": "code",
   "execution_count": null,
   "id": "5e0c887e-da31-44fe-bd38-e9ae1227cfec",
   "metadata": {},
   "outputs": [],
   "source": []
  },
  {
   "cell_type": "code",
   "execution_count": 6,
   "id": "4da59865",
   "metadata": {},
   "outputs": [
    {
     "data": {
      "application/vnd.plotly.v1+json": {
       "config": {
        "plotlyServerURL": "https://plot.ly"
       },
       "data": [
        {
         "marker": {
          "size": 20
         },
         "mode": "markers",
         "type": "scatter3d",
         "uid": "4cb94818-5f28-4f96-96a3-300f381d35e4",
         "x": [
          1,
          2,
          3
         ],
         "y": [
          1,
          3,
          2
         ],
         "z": [
          2,
          3,
          2
         ]
        }
       ],
       "layout": {
        "autosize": true,
        "hovermode": "closest",
        "scene": {
         "aspectmode": "auto",
         "aspectratio": {
          "x": 1.2599210498948732,
          "y": 1.2599210498948732,
          "z": 0.6299605249474366
         },
         "camera": {
          "center": {
           "x": 0,
           "y": 0,
           "z": 0
          },
          "eye": {
           "x": -0.8226371049175263,
           "y": 0.17397437667021648,
           "z": -0.12129756713623147
          },
          "projection": {
           "type": "perspective"
          },
          "up": {
           "x": 0,
           "y": 0,
           "z": 1
          }
         }
        },
        "template": {
         "data": {
          "bar": [
           {
            "error_x": {
             "color": "#2a3f5f"
            },
            "error_y": {
             "color": "#2a3f5f"
            },
            "marker": {
             "line": {
              "color": "#E5ECF6",
              "width": 0.5
             },
             "pattern": {
              "fillmode": "overlay",
              "size": 10,
              "solidity": 0.2
             }
            },
            "type": "bar"
           }
          ],
          "barpolar": [
           {
            "marker": {
             "line": {
              "color": "#E5ECF6",
              "width": 0.5
             },
             "pattern": {
              "fillmode": "overlay",
              "size": 10,
              "solidity": 0.2
             }
            },
            "type": "barpolar"
           }
          ],
          "carpet": [
           {
            "aaxis": {
             "endlinecolor": "#2a3f5f",
             "gridcolor": "white",
             "linecolor": "white",
             "minorgridcolor": "white",
             "startlinecolor": "#2a3f5f"
            },
            "baxis": {
             "endlinecolor": "#2a3f5f",
             "gridcolor": "white",
             "linecolor": "white",
             "minorgridcolor": "white",
             "startlinecolor": "#2a3f5f"
            },
            "type": "carpet"
           }
          ],
          "choropleth": [
           {
            "colorbar": {
             "outlinewidth": 0,
             "ticks": ""
            },
            "type": "choropleth"
           }
          ],
          "contour": [
           {
            "colorbar": {
             "outlinewidth": 0,
             "ticks": ""
            },
            "colorscale": [
             [
              0,
              "#0d0887"
             ],
             [
              0.1111111111111111,
              "#46039f"
             ],
             [
              0.2222222222222222,
              "#7201a8"
             ],
             [
              0.3333333333333333,
              "#9c179e"
             ],
             [
              0.4444444444444444,
              "#bd3786"
             ],
             [
              0.5555555555555556,
              "#d8576b"
             ],
             [
              0.6666666666666666,
              "#ed7953"
             ],
             [
              0.7777777777777778,
              "#fb9f3a"
             ],
             [
              0.8888888888888888,
              "#fdca26"
             ],
             [
              1,
              "#f0f921"
             ]
            ],
            "type": "contour"
           }
          ],
          "contourcarpet": [
           {
            "colorbar": {
             "outlinewidth": 0,
             "ticks": ""
            },
            "type": "contourcarpet"
           }
          ],
          "heatmap": [
           {
            "colorbar": {
             "outlinewidth": 0,
             "ticks": ""
            },
            "colorscale": [
             [
              0,
              "#0d0887"
             ],
             [
              0.1111111111111111,
              "#46039f"
             ],
             [
              0.2222222222222222,
              "#7201a8"
             ],
             [
              0.3333333333333333,
              "#9c179e"
             ],
             [
              0.4444444444444444,
              "#bd3786"
             ],
             [
              0.5555555555555556,
              "#d8576b"
             ],
             [
              0.6666666666666666,
              "#ed7953"
             ],
             [
              0.7777777777777778,
              "#fb9f3a"
             ],
             [
              0.8888888888888888,
              "#fdca26"
             ],
             [
              1,
              "#f0f921"
             ]
            ],
            "type": "heatmap"
           }
          ],
          "heatmapgl": [
           {
            "colorbar": {
             "outlinewidth": 0,
             "ticks": ""
            },
            "colorscale": [
             [
              0,
              "#0d0887"
             ],
             [
              0.1111111111111111,
              "#46039f"
             ],
             [
              0.2222222222222222,
              "#7201a8"
             ],
             [
              0.3333333333333333,
              "#9c179e"
             ],
             [
              0.4444444444444444,
              "#bd3786"
             ],
             [
              0.5555555555555556,
              "#d8576b"
             ],
             [
              0.6666666666666666,
              "#ed7953"
             ],
             [
              0.7777777777777778,
              "#fb9f3a"
             ],
             [
              0.8888888888888888,
              "#fdca26"
             ],
             [
              1,
              "#f0f921"
             ]
            ],
            "type": "heatmapgl"
           }
          ],
          "histogram": [
           {
            "marker": {
             "pattern": {
              "fillmode": "overlay",
              "size": 10,
              "solidity": 0.2
             }
            },
            "type": "histogram"
           }
          ],
          "histogram2d": [
           {
            "colorbar": {
             "outlinewidth": 0,
             "ticks": ""
            },
            "colorscale": [
             [
              0,
              "#0d0887"
             ],
             [
              0.1111111111111111,
              "#46039f"
             ],
             [
              0.2222222222222222,
              "#7201a8"
             ],
             [
              0.3333333333333333,
              "#9c179e"
             ],
             [
              0.4444444444444444,
              "#bd3786"
             ],
             [
              0.5555555555555556,
              "#d8576b"
             ],
             [
              0.6666666666666666,
              "#ed7953"
             ],
             [
              0.7777777777777778,
              "#fb9f3a"
             ],
             [
              0.8888888888888888,
              "#fdca26"
             ],
             [
              1,
              "#f0f921"
             ]
            ],
            "type": "histogram2d"
           }
          ],
          "histogram2dcontour": [
           {
            "colorbar": {
             "outlinewidth": 0,
             "ticks": ""
            },
            "colorscale": [
             [
              0,
              "#0d0887"
             ],
             [
              0.1111111111111111,
              "#46039f"
             ],
             [
              0.2222222222222222,
              "#7201a8"
             ],
             [
              0.3333333333333333,
              "#9c179e"
             ],
             [
              0.4444444444444444,
              "#bd3786"
             ],
             [
              0.5555555555555556,
              "#d8576b"
             ],
             [
              0.6666666666666666,
              "#ed7953"
             ],
             [
              0.7777777777777778,
              "#fb9f3a"
             ],
             [
              0.8888888888888888,
              "#fdca26"
             ],
             [
              1,
              "#f0f921"
             ]
            ],
            "type": "histogram2dcontour"
           }
          ],
          "mesh3d": [
           {
            "colorbar": {
             "outlinewidth": 0,
             "ticks": ""
            },
            "type": "mesh3d"
           }
          ],
          "parcoords": [
           {
            "line": {
             "colorbar": {
              "outlinewidth": 0,
              "ticks": ""
             }
            },
            "type": "parcoords"
           }
          ],
          "pie": [
           {
            "automargin": true,
            "type": "pie"
           }
          ],
          "scatter": [
           {
            "fillpattern": {
             "fillmode": "overlay",
             "size": 10,
             "solidity": 0.2
            },
            "type": "scatter"
           }
          ],
          "scatter3d": [
           {
            "line": {
             "colorbar": {
              "outlinewidth": 0,
              "ticks": ""
             }
            },
            "marker": {
             "colorbar": {
              "outlinewidth": 0,
              "ticks": ""
             }
            },
            "type": "scatter3d"
           }
          ],
          "scattercarpet": [
           {
            "marker": {
             "colorbar": {
              "outlinewidth": 0,
              "ticks": ""
             }
            },
            "type": "scattercarpet"
           }
          ],
          "scattergeo": [
           {
            "marker": {
             "colorbar": {
              "outlinewidth": 0,
              "ticks": ""
             }
            },
            "type": "scattergeo"
           }
          ],
          "scattergl": [
           {
            "marker": {
             "colorbar": {
              "outlinewidth": 0,
              "ticks": ""
             }
            },
            "type": "scattergl"
           }
          ],
          "scattermapbox": [
           {
            "marker": {
             "colorbar": {
              "outlinewidth": 0,
              "ticks": ""
             }
            },
            "type": "scattermapbox"
           }
          ],
          "scatterpolar": [
           {
            "marker": {
             "colorbar": {
              "outlinewidth": 0,
              "ticks": ""
             }
            },
            "type": "scatterpolar"
           }
          ],
          "scatterpolargl": [
           {
            "marker": {
             "colorbar": {
              "outlinewidth": 0,
              "ticks": ""
             }
            },
            "type": "scatterpolargl"
           }
          ],
          "scatterternary": [
           {
            "marker": {
             "colorbar": {
              "outlinewidth": 0,
              "ticks": ""
             }
            },
            "type": "scatterternary"
           }
          ],
          "surface": [
           {
            "colorbar": {
             "outlinewidth": 0,
             "ticks": ""
            },
            "colorscale": [
             [
              0,
              "#0d0887"
             ],
             [
              0.1111111111111111,
              "#46039f"
             ],
             [
              0.2222222222222222,
              "#7201a8"
             ],
             [
              0.3333333333333333,
              "#9c179e"
             ],
             [
              0.4444444444444444,
              "#bd3786"
             ],
             [
              0.5555555555555556,
              "#d8576b"
             ],
             [
              0.6666666666666666,
              "#ed7953"
             ],
             [
              0.7777777777777778,
              "#fb9f3a"
             ],
             [
              0.8888888888888888,
              "#fdca26"
             ],
             [
              1,
              "#f0f921"
             ]
            ],
            "type": "surface"
           }
          ],
          "table": [
           {
            "cells": {
             "fill": {
              "color": "#EBF0F8"
             },
             "line": {
              "color": "white"
             }
            },
            "header": {
             "fill": {
              "color": "#C8D4E3"
             },
             "line": {
              "color": "white"
             }
            },
            "type": "table"
           }
          ]
         },
         "layout": {
          "annotationdefaults": {
           "arrowcolor": "#2a3f5f",
           "arrowhead": 0,
           "arrowwidth": 1
          },
          "autotypenumbers": "strict",
          "coloraxis": {
           "colorbar": {
            "outlinewidth": 0,
            "ticks": ""
           }
          },
          "colorscale": {
           "diverging": [
            [
             0,
             "#8e0152"
            ],
            [
             0.1,
             "#c51b7d"
            ],
            [
             0.2,
             "#de77ae"
            ],
            [
             0.3,
             "#f1b6da"
            ],
            [
             0.4,
             "#fde0ef"
            ],
            [
             0.5,
             "#f7f7f7"
            ],
            [
             0.6,
             "#e6f5d0"
            ],
            [
             0.7,
             "#b8e186"
            ],
            [
             0.8,
             "#7fbc41"
            ],
            [
             0.9,
             "#4d9221"
            ],
            [
             1,
             "#276419"
            ]
           ],
           "sequential": [
            [
             0,
             "#0d0887"
            ],
            [
             0.1111111111111111,
             "#46039f"
            ],
            [
             0.2222222222222222,
             "#7201a8"
            ],
            [
             0.3333333333333333,
             "#9c179e"
            ],
            [
             0.4444444444444444,
             "#bd3786"
            ],
            [
             0.5555555555555556,
             "#d8576b"
            ],
            [
             0.6666666666666666,
             "#ed7953"
            ],
            [
             0.7777777777777778,
             "#fb9f3a"
            ],
            [
             0.8888888888888888,
             "#fdca26"
            ],
            [
             1,
             "#f0f921"
            ]
           ],
           "sequentialminus": [
            [
             0,
             "#0d0887"
            ],
            [
             0.1111111111111111,
             "#46039f"
            ],
            [
             0.2222222222222222,
             "#7201a8"
            ],
            [
             0.3333333333333333,
             "#9c179e"
            ],
            [
             0.4444444444444444,
             "#bd3786"
            ],
            [
             0.5555555555555556,
             "#d8576b"
            ],
            [
             0.6666666666666666,
             "#ed7953"
            ],
            [
             0.7777777777777778,
             "#fb9f3a"
            ],
            [
             0.8888888888888888,
             "#fdca26"
            ],
            [
             1,
             "#f0f921"
            ]
           ]
          },
          "colorway": [
           "#636efa",
           "#EF553B",
           "#00cc96",
           "#ab63fa",
           "#FFA15A",
           "#19d3f3",
           "#FF6692",
           "#B6E880",
           "#FF97FF",
           "#FECB52"
          ],
          "font": {
           "color": "#2a3f5f"
          },
          "geo": {
           "bgcolor": "white",
           "lakecolor": "white",
           "landcolor": "#E5ECF6",
           "showlakes": true,
           "showland": true,
           "subunitcolor": "white"
          },
          "hoverlabel": {
           "align": "left"
          },
          "hovermode": "closest",
          "mapbox": {
           "style": "light"
          },
          "paper_bgcolor": "white",
          "plot_bgcolor": "#E5ECF6",
          "polar": {
           "angularaxis": {
            "gridcolor": "white",
            "linecolor": "white",
            "ticks": ""
           },
           "bgcolor": "#E5ECF6",
           "radialaxis": {
            "gridcolor": "white",
            "linecolor": "white",
            "ticks": ""
           }
          },
          "scene": {
           "xaxis": {
            "backgroundcolor": "#E5ECF6",
            "gridcolor": "white",
            "gridwidth": 2,
            "linecolor": "white",
            "showbackground": true,
            "ticks": "",
            "zerolinecolor": "white"
           },
           "yaxis": {
            "backgroundcolor": "#E5ECF6",
            "gridcolor": "white",
            "gridwidth": 2,
            "linecolor": "white",
            "showbackground": true,
            "ticks": "",
            "zerolinecolor": "white"
           },
           "zaxis": {
            "backgroundcolor": "#E5ECF6",
            "gridcolor": "white",
            "gridwidth": 2,
            "linecolor": "white",
            "showbackground": true,
            "ticks": "",
            "zerolinecolor": "white"
           }
          },
          "shapedefaults": {
           "line": {
            "color": "#2a3f5f"
           }
          },
          "ternary": {
           "aaxis": {
            "gridcolor": "white",
            "linecolor": "white",
            "ticks": ""
           },
           "baxis": {
            "gridcolor": "white",
            "linecolor": "white",
            "ticks": ""
           },
           "bgcolor": "#E5ECF6",
           "caxis": {
            "gridcolor": "white",
            "linecolor": "white",
            "ticks": ""
           }
          },
          "title": {
           "x": 0.05
          },
          "xaxis": {
           "automargin": true,
           "gridcolor": "white",
           "linecolor": "white",
           "ticks": "",
           "title": {
            "standoff": 15
           },
           "zerolinecolor": "white",
           "zerolinewidth": 2
          },
          "yaxis": {
           "automargin": true,
           "gridcolor": "white",
           "linecolor": "white",
           "ticks": "",
           "title": {
            "standoff": 15
           },
           "zerolinecolor": "white",
           "zerolinewidth": 2
          }
         }
        }
       }
      },
      "image/png": "[encoded data removed]",
      "text/html": [
       "<div>                            <div id=\"3233c6e1-7b22-4c84-a966-a392d2a3d036\" class=\"plotly-graph-div\" style=\"height:525px; width:100%;\"></div>            <script type=\"text/javascript\">                require([\"plotly\"], function(Plotly) {                    window.PLOTLYENV=window.PLOTLYENV || {};                                    if (document.getElementById(\"3233c6e1-7b22-4c84-a966-a392d2a3d036\")) {                    Plotly.newPlot(                        \"3233c6e1-7b22-4c84-a966-a392d2a3d036\",                        [{\"marker\":{\"size\":20},\"mode\":\"markers\",\"x\":[1,2,3],\"y\":[1,3,2],\"z\":[2,3,2],\"type\":\"scatter3d\",\"uid\":\"4cb94818-5f28-4f96-96a3-300f381d35e4\"}],                        {\"template\":{\"data\":{\"barpolar\":[{\"marker\":{\"line\":{\"color\":\"#E5ECF6\",\"width\":0.5},\"pattern\":{\"fillmode\":\"overlay\",\"size\":10,\"solidity\":0.2}},\"type\":\"barpolar\"}],\"bar\":[{\"error_x\":{\"color\":\"#2a3f5f\"},\"error_y\":{\"color\":\"#2a3f5f\"},\"marker\":{\"line\":{\"color\":\"#E5ECF6\",\"width\":0.5},\"pattern\":{\"fillmode\":\"overlay\",\"size\":10,\"solidity\":0.2}},\"type\":\"bar\"}],\"carpet\":[{\"aaxis\":{\"endlinecolor\":\"#2a3f5f\",\"gridcolor\":\"white\",\"linecolor\":\"white\",\"minorgridcolor\":\"white\",\"startlinecolor\":\"#2a3f5f\"},\"baxis\":{\"endlinecolor\":\"#2a3f5f\",\"gridcolor\":\"white\",\"linecolor\":\"white\",\"minorgridcolor\":\"white\",\"startlinecolor\":\"#2a3f5f\"},\"type\":\"carpet\"}],\"choropleth\":[{\"colorbar\":{\"outlinewidth\":0,\"ticks\":\"\"},\"type\":\"choropleth\"}],\"contourcarpet\":[{\"colorbar\":{\"outlinewidth\":0,\"ticks\":\"\"},\"type\":\"contourcarpet\"}],\"contour\":[{\"colorbar\":{\"outlinewidth\":0,\"ticks\":\"\"},\"colorscale\":[[0.0,\"#0d0887\"],[0.1111111111111111,\"#46039f\"],[0.2222222222222222,\"#7201a8\"],[0.3333333333333333,\"#9c179e\"],[0.4444444444444444,\"#bd3786\"],[0.5555555555555556,\"#d8576b\"],[0.6666666666666666,\"#ed7953\"],[0.7777777777777778,\"#fb9f3a\"],[0.8888888888888888,\"#fdca26\"],[1.0,\"#f0f921\"]],\"type\":\"contour\"}],\"heatmapgl\":[{\"colorbar\":{\"outlinewidth\":0,\"ticks\":\"\"},\"colorscale\":[[0.0,\"#0d0887\"],[0.1111111111111111,\"#46039f\"],[0.2222222222222222,\"#7201a8\"],[0.3333333333333333,\"#9c179e\"],[0.4444444444444444,\"#bd3786\"],[0.5555555555555556,\"#d8576b\"],[0.6666666666666666,\"#ed7953\"],[0.7777777777777778,\"#fb9f3a\"],[0.8888888888888888,\"#fdca26\"],[1.0,\"#f0f921\"]],\"type\":\"heatmapgl\"}],\"heatmap\":[{\"colorbar\":{\"outlinewidth\":0,\"ticks\":\"\"},\"colorscale\":[[0.0,\"#0d0887\"],[0.1111111111111111,\"#46039f\"],[0.2222222222222222,\"#7201a8\"],[0.3333333333333333,\"#9c179e\"],[0.4444444444444444,\"#bd3786\"],[0.5555555555555556,\"#d8576b\"],[0.6666666666666666,\"#ed7953\"],[0.7777777777777778,\"#fb9f3a\"],[0.8888888888888888,\"#fdca26\"],[1.0,\"#f0f921\"]],\"type\":\"heatmap\"}],\"histogram2dcontour\":[{\"colorbar\":{\"outlinewidth\":0,\"ticks\":\"\"},\"colorscale\":[[0.0,\"#0d0887\"],[0.1111111111111111,\"#46039f\"],[0.2222222222222222,\"#7201a8\"],[0.3333333333333333,\"#9c179e\"],[0.4444444444444444,\"#bd3786\"],[0.5555555555555556,\"#d8576b\"],[0.6666666666666666,\"#ed7953\"],[0.7777777777777778,\"#fb9f3a\"],[0.8888888888888888,\"#fdca26\"],[1.0,\"#f0f921\"]],\"type\":\"histogram2dcontour\"}],\"histogram2d\":[{\"colorbar\":{\"outlinewidth\":0,\"ticks\":\"\"},\"colorscale\":[[0.0,\"#0d0887\"],[0.1111111111111111,\"#46039f\"],[0.2222222222222222,\"#7201a8\"],[0.3333333333333333,\"#9c179e\"],[0.4444444444444444,\"#bd3786\"],[0.5555555555555556,\"#d8576b\"],[0.6666666666666666,\"#ed7953\"],[0.7777777777777778,\"#fb9f3a\"],[0.8888888888888888,\"#fdca26\"],[1.0,\"#f0f921\"]],\"type\":\"histogram2d\"}],\"histogram\":[{\"marker\":{\"pattern\":{\"fillmode\":\"overlay\",\"size\":10,\"solidity\":0.2}},\"type\":\"histogram\"}],\"mesh3d\":[{\"colorbar\":{\"outlinewidth\":0,\"ticks\":\"\"},\"type\":\"mesh3d\"}],\"parcoords\":[{\"line\":{\"colorbar\":{\"outlinewidth\":0,\"ticks\":\"\"}},\"type\":\"parcoords\"}],\"pie\":[{\"automargin\":true,\"type\":\"pie\"}],\"scatter3d\":[{\"line\":{\"colorbar\":{\"outlinewidth\":0,\"ticks\":\"\"}},\"marker\":{\"colorbar\":{\"outlinewidth\":0,\"ticks\":\"\"}},\"type\":\"scatter3d\"}],\"scattercarpet\":[{\"marker\":{\"colorbar\":{\"outlinewidth\":0,\"ticks\":\"\"}},\"type\":\"scattercarpet\"}],\"scattergeo\":[{\"marker\":{\"colorbar\":{\"outlinewidth\":0,\"ticks\":\"\"}},\"type\":\"scattergeo\"}],\"scattergl\":[{\"marker\":{\"colorbar\":{\"outlinewidth\":0,\"ticks\":\"\"}},\"type\":\"scattergl\"}],\"scattermapbox\":[{\"marker\":{\"colorbar\":{\"outlinewidth\":0,\"ticks\":\"\"}},\"type\":\"scattermapbox\"}],\"scatterpolargl\":[{\"marker\":{\"colorbar\":{\"outlinewidth\":0,\"ticks\":\"\"}},\"type\":\"scatterpolargl\"}],\"scatterpolar\":[{\"marker\":{\"colorbar\":{\"outlinewidth\":0,\"ticks\":\"\"}},\"type\":\"scatterpolar\"}],\"scatter\":[{\"fillpattern\":{\"fillmode\":\"overlay\",\"size\":10,\"solidity\":0.2},\"type\":\"scatter\"}],\"scatterternary\":[{\"marker\":{\"colorbar\":{\"outlinewidth\":0,\"ticks\":\"\"}},\"type\":\"scatterternary\"}],\"surface\":[{\"colorbar\":{\"outlinewidth\":0,\"ticks\":\"\"},\"colorscale\":[[0.0,\"#0d0887\"],[0.1111111111111111,\"#46039f\"],[0.2222222222222222,\"#7201a8\"],[0.3333333333333333,\"#9c179e\"],[0.4444444444444444,\"#bd3786\"],[0.5555555555555556,\"#d8576b\"],[0.6666666666666666,\"#ed7953\"],[0.7777777777777778,\"#fb9f3a\"],[0.8888888888888888,\"#fdca26\"],[1.0,\"#f0f921\"]],\"type\":\"surface\"}],\"table\":[{\"cells\":{\"fill\":{\"color\":\"#EBF0F8\"},\"line\":{\"color\":\"white\"}},\"header\":{\"fill\":{\"color\":\"#C8D4E3\"},\"line\":{\"color\":\"white\"}},\"type\":\"table\"}]},\"layout\":{\"annotationdefaults\":{\"arrowcolor\":\"#2a3f5f\",\"arrowhead\":0,\"arrowwidth\":1},\"autotypenumbers\":\"strict\",\"coloraxis\":{\"colorbar\":{\"outlinewidth\":0,\"ticks\":\"\"}},\"colorscale\":{\"diverging\":[[0,\"#8e0152\"],[0.1,\"#c51b7d\"],[0.2,\"#de77ae\"],[0.3,\"#f1b6da\"],[0.4,\"#fde0ef\"],[0.5,\"#f7f7f7\"],[0.6,\"#e6f5d0\"],[0.7,\"#b8e186\"],[0.8,\"#7fbc41\"],[0.9,\"#4d9221\"],[1,\"#276419\"]],\"sequential\":[[0.0,\"#0d0887\"],[0.1111111111111111,\"#46039f\"],[0.2222222222222222,\"#7201a8\"],[0.3333333333333333,\"#9c179e\"],[0.4444444444444444,\"#bd3786\"],[0.5555555555555556,\"#d8576b\"],[0.6666666666666666,\"#ed7953\"],[0.7777777777777778,\"#fb9f3a\"],[0.8888888888888888,\"#fdca26\"],[1.0,\"#f0f921\"]],\"sequentialminus\":[[0.0,\"#0d0887\"],[0.1111111111111111,\"#46039f\"],[0.2222222222222222,\"#7201a8\"],[0.3333333333333333,\"#9c179e\"],[0.4444444444444444,\"#bd3786\"],[0.5555555555555556,\"#d8576b\"],[0.6666666666666666,\"#ed7953\"],[0.7777777777777778,\"#fb9f3a\"],[0.8888888888888888,\"#fdca26\"],[1.0,\"#f0f921\"]]},\"colorway\":[\"#636efa\",\"#EF553B\",\"#00cc96\",\"#ab63fa\",\"#FFA15A\",\"#19d3f3\",\"#FF6692\",\"#B6E880\",\"#FF97FF\",\"#FECB52\"],\"font\":{\"color\":\"#2a3f5f\"},\"geo\":{\"bgcolor\":\"white\",\"lakecolor\":\"white\",\"landcolor\":\"#E5ECF6\",\"showlakes\":true,\"showland\":true,\"subunitcolor\":\"white\"},\"hoverlabel\":{\"align\":\"left\"},\"hovermode\":\"closest\",\"mapbox\":{\"style\":\"light\"},\"paper_bgcolor\":\"white\",\"plot_bgcolor\":\"#E5ECF6\",\"polar\":{\"angularaxis\":{\"gridcolor\":\"white\",\"linecolor\":\"white\",\"ticks\":\"\"},\"bgcolor\":\"#E5ECF6\",\"radialaxis\":{\"gridcolor\":\"white\",\"linecolor\":\"white\",\"ticks\":\"\"}},\"scene\":{\"xaxis\":{\"backgroundcolor\":\"#E5ECF6\",\"gridcolor\":\"white\",\"gridwidth\":2,\"linecolor\":\"white\",\"showbackground\":true,\"ticks\":\"\",\"zerolinecolor\":\"white\"},\"yaxis\":{\"backgroundcolor\":\"#E5ECF6\",\"gridcolor\":\"white\",\"gridwidth\":2,\"linecolor\":\"white\",\"showbackground\":true,\"ticks\":\"\",\"zerolinecolor\":\"white\"},\"zaxis\":{\"backgroundcolor\":\"#E5ECF6\",\"gridcolor\":\"white\",\"gridwidth\":2,\"linecolor\":\"white\",\"showbackground\":true,\"ticks\":\"\",\"zerolinecolor\":\"white\"}},\"shapedefaults\":{\"line\":{\"color\":\"#2a3f5f\"}},\"ternary\":{\"aaxis\":{\"gridcolor\":\"white\",\"linecolor\":\"white\",\"ticks\":\"\"},\"baxis\":{\"gridcolor\":\"white\",\"linecolor\":\"white\",\"ticks\":\"\"},\"bgcolor\":\"#E5ECF6\",\"caxis\":{\"gridcolor\":\"white\",\"linecolor\":\"white\",\"ticks\":\"\"}},\"title\":{\"x\":0.05},\"xaxis\":{\"automargin\":true,\"gridcolor\":\"white\",\"linecolor\":\"white\",\"ticks\":\"\",\"title\":{\"standoff\":15},\"zerolinecolor\":\"white\",\"zerolinewidth\":2},\"yaxis\":{\"automargin\":true,\"gridcolor\":\"white\",\"linecolor\":\"white\",\"ticks\":\"\",\"title\":{\"standoff\":15},\"zerolinecolor\":\"white\",\"zerolinewidth\":2}}},\"hovermode\":\"closest\"},                        {\"responsive\": true}                    ).then(function(){\n",
       "                            \n",
       "var gd = document.getElementById('3233c6e1-7b22-4c84-a966-a392d2a3d036');\n",
       "var x = new MutationObserver(function (mutations, observer) {{\n",
       "        var display = window.getComputedStyle(gd).display;\n",
       "        if (!display || display === 'none') {{\n",
       "            console.log([gd, 'removed!']);\n",
       "            Plotly.purge(gd);\n",
       "            observer.disconnect();\n",
       "        }}\n",
       "}});\n",
       "\n",
       "// Listen for the removal of the full notebook cells\n",
       "var notebookContainer = gd.closest('#notebook-container');\n",
       "if (notebookContainer) {{\n",
       "    x.observe(notebookContainer, {childList: true});\n",
       "}}\n",
       "\n",
       "// Listen for the clearing of the current output cell\n",
       "var outputEl = gd.closest('.output');\n",
       "if (outputEl) {{\n",
       "    x.observe(outputEl, {childList: true});\n",
       "}}\n",
       "\n",
       "                        })                };                });            </script>        </div>"
      ]
     },
     "metadata": {},
     "output_type": "display_data"
    }
   ],
   "source": [
    "import webbrowser\n",
    "import pandas as pd\n",
    "import plotly.graph_objs as go\n",
    "\n",
    "df = pd.DataFrame({'x': [1, 2, 3],\n",
    "                   'y': [1, 3, 2],\n",
    "                   'z': [2, 3, 2],\n",
    "                   'link': ['https://google.com', 'https://bing.com', 'https://duckduckgo.com']})\n",
    "\n",
    "fig = go.FigureWidget([go.Scatter3d(x=df.x, y=df.y, z=df.z, mode='markers', marker={'size': 20})])\n",
    "\n",
    "scatter = fig.data[0]\n",
    "\n",
    "#print(fig.data)\n",
    "\n",
    "fig.layout.hovermode = 'closest'\n",
    "\n",
    "\n",
    "def do_click(trace, points, state):\n",
    "    print(points.point_inds)\n",
    "    if points.point_inds:\n",
    "        ind = points.point_inds[0]\n",
    "        url = df.link.iloc[ind]\n",
    "        #url = \"<a href='https://www.youtube.com'>https://www.youtube.com</a>\"\n",
    "        #url = 'https://www.youtube.com'\n",
    "        #print(str(url))\n",
    "        webbrowser.open_new_tab(url)\n",
    "        \n",
    "scatter.on_click(do_click)\n",
    "\n",
    "\n",
    "fig.show()"
   ]
  },
  {
   "cell_type": "code",
   "execution_count": 7,
   "id": "5bcc6479",
   "metadata": {},
   "outputs": [
    {
     "data": {
      "application/vnd.plotly.v1+json": {
       "config": {
        "plotlyServerURL": "https://plot.ly"
       },
       "data": [
        {
         "hovertemplate": "species=setosa<br>sepal_length=%{x}<br>sepal_width=%{y}<br>petal_width=%{z}<extra></extra>",
         "legendgroup": "setosa",
         "marker": {
          "color": "#636efa",
          "symbol": "circle"
         },
         "mode": "markers",
         "name": "setosa",
         "scene": "scene",
         "showlegend": true,
         "type": "scatter3d",
         "x": [
          5.1,
          4.9,
          4.7,
          4.6,
          5,
          5.4,
          4.6,
          5,
          4.4,
          4.9,
          5.4,
          4.8,
          4.8,
          4.3,
          5.8,
          5.7,
          5.4,
          5.1,
          5.7,
          5.1,
          5.4,
          5.1,
          4.6,
          5.1,
          4.8,
          5,
          5,
          5.2,
          5.2,
          4.7,
          4.8,
          5.4,
          5.2,
          5.5,
          4.9,
          5,
          5.5,
          4.9,
          4.4,
          5.1,
          5,
          4.5,
          4.4,
          5,
          5.1,
          4.8,
          5.1,
          4.6,
          5.3,
          5
         ],
         "y": [
          3.5,
          3,
          3.2,
          3.1,
          3.6,
          3.9,
          3.4,
          3.4,
          2.9,
          3.1,
          3.7,
          3.4,
          3,
          3,
          4,
          4.4,
          3.9,
          3.5,
          3.8,
          3.8,
          3.4,
          3.7,
          3.6,
          3.3,
          3.4,
          3,
          3.4,
          3.5,
          3.4,
          3.2,
          3.1,
          3.4,
          4.1,
          4.2,
          3.1,
          3.2,
          3.5,
          3.1,
          3,
          3.4,
          3.5,
          2.3,
          3.2,
          3.5,
          3.8,
          3,
          3.8,
          3.2,
          3.7,
          3.3
         ],
         "z": [
          0.2,
          0.2,
          0.2,
          0.2,
          0.2,
          0.4,
          0.3,
          0.2,
          0.2,
          0.1,
          0.2,
          0.2,
          0.1,
          0.1,
          0.2,
          0.4,
          0.4,
          0.3,
          0.3,
          0.3,
          0.2,
          0.4,
          0.2,
          0.5,
          0.2,
          0.2,
          0.4,
          0.2,
          0.2,
          0.2,
          0.2,
          0.4,
          0.1,
          0.2,
          0.1,
          0.2,
          0.2,
          0.1,
          0.2,
          0.2,
          0.3,
          0.3,
          0.2,
          0.6,
          0.4,
          0.3,
          0.2,
          0.2,
          0.2,
          0.2
         ]
        },
        {
         "hovertemplate": "species=versicolor<br>sepal_length=%{x}<br>sepal_width=%{y}<br>petal_width=%{z}<extra></extra>",
         "legendgroup": "versicolor",
         "marker": {
          "color": "#EF553B",
          "symbol": "circle"
         },
         "mode": "markers",
         "name": "versicolor",
         "scene": "scene",
         "showlegend": true,
         "type": "scatter3d",
         "x": [
          7,
          6.4,
          6.9,
          5.5,
          6.5,
          5.7,
          6.3,
          4.9,
          6.6,
          5.2,
          5,
          5.9,
          6,
          6.1,
          5.6,
          6.7,
          5.6,
          5.8,
          6.2,
          5.6,
          5.9,
          6.1,
          6.3,
          6.1,
          6.4,
          6.6,
          6.8,
          6.7,
          6,
          5.7,
          5.5,
          5.5,
          5.8,
          6,
          5.4,
          6,
          6.7,
          6.3,
          5.6,
          5.5,
          5.5,
          6.1,
          5.8,
          5,
          5.6,
          5.7,
          5.7,
          6.2,
          5.1,
          5.7
         ],
         "y": [
          3.2,
          3.2,
          3.1,
          2.3,
          2.8,
          2.8,
          3.3,
          2.4,
          2.9,
          2.7,
          2,
          3,
          2.2,
          2.9,
          2.9,
          3.1,
          3,
          2.7,
          2.2,
          2.5,
          3.2,
          2.8,
          2.5,
          2.8,
          2.9,
          3,
          2.8,
          3,
          2.9,
          2.6,
          2.4,
          2.4,
          2.7,
          2.7,
          3,
          3.4,
          3.1,
          2.3,
          3,
          2.5,
          2.6,
          3,
          2.6,
          2.3,
          2.7,
          3,
          2.9,
          2.9,
          2.5,
          2.8
         ],
         "z": [
          1.4,
          1.5,
          1.5,
          1.3,
          1.5,
          1.3,
          1.6,
          1,
          1.3,
          1.4,
          1,
          1.5,
          1,
          1.4,
          1.3,
          1.4,
          1.5,
          1,
          1.5,
          1.1,
          1.8,
          1.3,
          1.5,
          1.2,
          1.3,
          1.4,
          1.4,
          1.7,
          1.5,
          1,
          1.1,
          1,
          1.2,
          1.6,
          1.5,
          1.6,
          1.5,
          1.3,
          1.3,
          1.3,
          1.2,
          1.4,
          1.2,
          1,
          1.3,
          1.2,
          1.3,
          1.3,
          1.1,
          1.3
         ]
        },
        {
         "hovertemplate": "species=virginica<br>sepal_length=%{x}<br>sepal_width=%{y}<br>petal_width=%{z}<extra></extra>",
         "legendgroup": "virginica",
         "marker": {
          "color": "#00cc96",
          "symbol": "circle"
         },
         "mode": "markers",
         "name": "virginica",
         "scene": "scene",
         "showlegend": true,
         "type": "scatter3d",
         "x": [
          6.3,
          5.8,
          7.1,
          6.3,
          6.5,
          7.6,
          4.9,
          7.3,
          6.7,
          7.2,
          6.5,
          6.4,
          6.8,
          5.7,
          5.8,
          6.4,
          6.5,
          7.7,
          7.7,
          6,
          6.9,
          5.6,
          7.7,
          6.3,
          6.7,
          7.2,
          6.2,
          6.1,
          6.4,
          7.2,
          7.4,
          7.9,
          6.4,
          6.3,
          6.1,
          7.7,
          6.3,
          6.4,
          6,
          6.9,
          6.7,
          6.9,
          5.8,
          6.8,
          6.7,
          6.7,
          6.3,
          6.5,
          6.2,
          5.9
         ],
         "y": [
          3.3,
          2.7,
          3,
          2.9,
          3,
          3,
          2.5,
          2.9,
          2.5,
          3.6,
          3.2,
          2.7,
          3,
          2.5,
          2.8,
          3.2,
          3,
          3.8,
          2.6,
          2.2,
          3.2,
          2.8,
          2.8,
          2.7,
          3.3,
          3.2,
          2.8,
          3,
          2.8,
          3,
          2.8,
          3.8,
          2.8,
          2.8,
          2.6,
          3,
          3.4,
          3.1,
          3,
          3.1,
          3.1,
          3.1,
          2.7,
          3.2,
          3.3,
          3,
          2.5,
          3,
          3.4,
          3
         ],
         "z": [
          2.5,
          1.9,
          2.1,
          1.8,
          2.2,
          2.1,
          1.7,
          1.8,
          1.8,
          2.5,
          2,
          1.9,
          2.1,
          2,
          2.4,
          2.3,
          1.8,
          2.2,
          2.3,
          1.5,
          2.3,
          2,
          2,
          1.8,
          2.1,
          1.8,
          1.8,
          1.8,
          2.1,
          1.6,
          1.9,
          2,
          2.2,
          1.5,
          1.4,
          2.3,
          2.4,
          1.8,
          1.8,
          2.1,
          2.4,
          2.3,
          1.9,
          2.3,
          2.5,
          2.3,
          1.9,
          2,
          2.3,
          1.8
         ]
        }
       ],
       "layout": {
        "autosize": true,
        "legend": {
         "title": {
          "text": "species"
         },
         "tracegroupgap": 0
        },
        "margin": {
         "t": 60
        },
        "scene": {
         "aspectmode": "auto",
         "aspectratio": {
          "x": 1.3103706971044486,
          "y": 0.8735804647362989,
          "z": 0.8735804647362988
         },
         "domain": {
          "x": [
           0,
           1
          ],
          "y": [
           0,
           1
          ]
         },
         "xaxis": {
          "title": {
           "text": "sepal_length"
          },
          "type": "linear"
         },
         "yaxis": {
          "title": {
           "text": "sepal_width"
          },
          "type": "linear"
         },
         "zaxis": {
          "title": {
           "text": "petal_width"
          },
          "type": "linear"
         }
        },
        "template": {
         "data": {
          "bar": [
           {
            "error_x": {
             "color": "#2a3f5f"
            },
            "error_y": {
             "color": "#2a3f5f"
            },
            "marker": {
             "line": {
              "color": "#E5ECF6",
              "width": 0.5
             },
             "pattern": {
              "fillmode": "overlay",
              "size": 10,
              "solidity": 0.2
             }
            },
            "type": "bar"
           }
          ],
          "barpolar": [
           {
            "marker": {
             "line": {
              "color": "#E5ECF6",
              "width": 0.5
             },
             "pattern": {
              "fillmode": "overlay",
              "size": 10,
              "solidity": 0.2
             }
            },
            "type": "barpolar"
           }
          ],
          "carpet": [
           {
            "aaxis": {
             "endlinecolor": "#2a3f5f",
             "gridcolor": "white",
             "linecolor": "white",
             "minorgridcolor": "white",
             "startlinecolor": "#2a3f5f"
            },
            "baxis": {
             "endlinecolor": "#2a3f5f",
             "gridcolor": "white",
             "linecolor": "white",
             "minorgridcolor": "white",
             "startlinecolor": "#2a3f5f"
            },
            "type": "carpet"
           }
          ],
          "choropleth": [
           {
            "colorbar": {
             "outlinewidth": 0,
             "ticks": ""
            },
            "type": "choropleth"
           }
          ],
          "contour": [
           {
            "colorbar": {
             "outlinewidth": 0,
             "ticks": ""
            },
            "colorscale": [
             [
              0,
              "#0d0887"
             ],
             [
              0.1111111111111111,
              "#46039f"
             ],
             [
              0.2222222222222222,
              "#7201a8"
             ],
             [
              0.3333333333333333,
              "#9c179e"
             ],
             [
              0.4444444444444444,
              "#bd3786"
             ],
             [
              0.5555555555555556,
              "#d8576b"
             ],
             [
              0.6666666666666666,
              "#ed7953"
             ],
             [
              0.7777777777777778,
              "#fb9f3a"
             ],
             [
              0.8888888888888888,
              "#fdca26"
             ],
             [
              1,
              "#f0f921"
             ]
            ],
            "type": "contour"
           }
          ],
          "contourcarpet": [
           {
            "colorbar": {
             "outlinewidth": 0,
             "ticks": ""
            },
            "type": "contourcarpet"
           }
          ],
          "heatmap": [
           {
            "colorbar": {
             "outlinewidth": 0,
             "ticks": ""
            },
            "colorscale": [
             [
              0,
              "#0d0887"
             ],
             [
              0.1111111111111111,
              "#46039f"
             ],
             [
              0.2222222222222222,
              "#7201a8"
             ],
             [
              0.3333333333333333,
              "#9c179e"
             ],
             [
              0.4444444444444444,
              "#bd3786"
             ],
             [
              0.5555555555555556,
              "#d8576b"
             ],
             [
              0.6666666666666666,
              "#ed7953"
             ],
             [
              0.7777777777777778,
              "#fb9f3a"
             ],
             [
              0.8888888888888888,
              "#fdca26"
             ],
             [
              1,
              "#f0f921"
             ]
            ],
            "type": "heatmap"
           }
          ],
          "heatmapgl": [
           {
            "colorbar": {
             "outlinewidth": 0,
             "ticks": ""
            },
            "colorscale": [
             [
              0,
              "#0d0887"
             ],
             [
              0.1111111111111111,
              "#46039f"
             ],
             [
              0.2222222222222222,
              "#7201a8"
             ],
             [
              0.3333333333333333,
              "#9c179e"
             ],
             [
              0.4444444444444444,
              "#bd3786"
             ],
             [
              0.5555555555555556,
              "#d8576b"
             ],
             [
              0.6666666666666666,
              "#ed7953"
             ],
             [
              0.7777777777777778,
              "#fb9f3a"
             ],
             [
              0.8888888888888888,
              "#fdca26"
             ],
             [
              1,
              "#f0f921"
             ]
            ],
            "type": "heatmapgl"
           }
          ],
          "histogram": [
           {
            "marker": {
             "pattern": {
              "fillmode": "overlay",
              "size": 10,
              "solidity": 0.2
             }
            },
            "type": "histogram"
           }
          ],
          "histogram2d": [
           {
            "colorbar": {
             "outlinewidth": 0,
             "ticks": ""
            },
            "colorscale": [
             [
              0,
              "#0d0887"
             ],
             [
              0.1111111111111111,
              "#46039f"
             ],
             [
              0.2222222222222222,
              "#7201a8"
             ],
             [
              0.3333333333333333,
              "#9c179e"
             ],
             [
              0.4444444444444444,
              "#bd3786"
             ],
             [
              0.5555555555555556,
              "#d8576b"
             ],
             [
              0.6666666666666666,
              "#ed7953"
             ],
             [
              0.7777777777777778,
              "#fb9f3a"
             ],
             [
              0.8888888888888888,
              "#fdca26"
             ],
             [
              1,
              "#f0f921"
             ]
            ],
            "type": "histogram2d"
           }
          ],
          "histogram2dcontour": [
           {
            "colorbar": {
             "outlinewidth": 0,
             "ticks": ""
            },
            "colorscale": [
             [
              0,
              "#0d0887"
             ],
             [
              0.1111111111111111,
              "#46039f"
             ],
             [
              0.2222222222222222,
              "#7201a8"
             ],
             [
              0.3333333333333333,
              "#9c179e"
             ],
             [
              0.4444444444444444,
              "#bd3786"
             ],
             [
              0.5555555555555556,
              "#d8576b"
             ],
             [
              0.6666666666666666,
              "#ed7953"
             ],
             [
              0.7777777777777778,
              "#fb9f3a"
             ],
             [
              0.8888888888888888,
              "#fdca26"
             ],
             [
              1,
              "#f0f921"
             ]
            ],
            "type": "histogram2dcontour"
           }
          ],
          "mesh3d": [
           {
            "colorbar": {
             "outlinewidth": 0,
             "ticks": ""
            },
            "type": "mesh3d"
           }
          ],
          "parcoords": [
           {
            "line": {
             "colorbar": {
              "outlinewidth": 0,
              "ticks": ""
             }
            },
            "type": "parcoords"
           }
          ],
          "pie": [
           {
            "automargin": true,
            "type": "pie"
           }
          ],
          "scatter": [
           {
            "fillpattern": {
             "fillmode": "overlay",
             "size": 10,
             "solidity": 0.2
            },
            "type": "scatter"
           }
          ],
          "scatter3d": [
           {
            "line": {
             "colorbar": {
              "outlinewidth": 0,
              "ticks": ""
             }
            },
            "marker": {
             "colorbar": {
              "outlinewidth": 0,
              "ticks": ""
             }
            },
            "type": "scatter3d"
           }
          ],
          "scattercarpet": [
           {
            "marker": {
             "colorbar": {
              "outlinewidth": 0,
              "ticks": ""
             }
            },
            "type": "scattercarpet"
           }
          ],
          "scattergeo": [
           {
            "marker": {
             "colorbar": {
              "outlinewidth": 0,
              "ticks": ""
             }
            },
            "type": "scattergeo"
           }
          ],
          "scattergl": [
           {
            "marker": {
             "colorbar": {
              "outlinewidth": 0,
              "ticks": ""
             }
            },
            "type": "scattergl"
           }
          ],
          "scattermapbox": [
           {
            "marker": {
             "colorbar": {
              "outlinewidth": 0,
              "ticks": ""
             }
            },
            "type": "scattermapbox"
           }
          ],
          "scatterpolar": [
           {
            "marker": {
             "colorbar": {
              "outlinewidth": 0,
              "ticks": ""
             }
            },
            "type": "scatterpolar"
           }
          ],
          "scatterpolargl": [
           {
            "marker": {
             "colorbar": {
              "outlinewidth": 0,
              "ticks": ""
             }
            },
            "type": "scatterpolargl"
           }
          ],
          "scatterternary": [
           {
            "marker": {
             "colorbar": {
              "outlinewidth": 0,
              "ticks": ""
             }
            },
            "type": "scatterternary"
           }
          ],
          "surface": [
           {
            "colorbar": {
             "outlinewidth": 0,
             "ticks": ""
            },
            "colorscale": [
             [
              0,
              "#0d0887"
             ],
             [
              0.1111111111111111,
              "#46039f"
             ],
             [
              0.2222222222222222,
              "#7201a8"
             ],
             [
              0.3333333333333333,
              "#9c179e"
             ],
             [
              0.4444444444444444,
              "#bd3786"
             ],
             [
              0.5555555555555556,
              "#d8576b"
             ],
             [
              0.6666666666666666,
              "#ed7953"
             ],
             [
              0.7777777777777778,
              "#fb9f3a"
             ],
             [
              0.8888888888888888,
              "#fdca26"
             ],
             [
              1,
              "#f0f921"
             ]
            ],
            "type": "surface"
           }
          ],
          "table": [
           {
            "cells": {
             "fill": {
              "color": "#EBF0F8"
             },
             "line": {
              "color": "white"
             }
            },
            "header": {
             "fill": {
              "color": "#C8D4E3"
             },
             "line": {
              "color": "white"
             }
            },
            "type": "table"
           }
          ]
         },
         "layout": {
          "annotationdefaults": {
           "arrowcolor": "#2a3f5f",
           "arrowhead": 0,
           "arrowwidth": 1
          },
          "autotypenumbers": "strict",
          "coloraxis": {
           "colorbar": {
            "outlinewidth": 0,
            "ticks": ""
           }
          },
          "colorscale": {
           "diverging": [
            [
             0,
             "#8e0152"
            ],
            [
             0.1,
             "#c51b7d"
            ],
            [
             0.2,
             "#de77ae"
            ],
            [
             0.3,
             "#f1b6da"
            ],
            [
             0.4,
             "#fde0ef"
            ],
            [
             0.5,
             "#f7f7f7"
            ],
            [
             0.6,
             "#e6f5d0"
            ],
            [
             0.7,
             "#b8e186"
            ],
            [
             0.8,
             "#7fbc41"
            ],
            [
             0.9,
             "#4d9221"
            ],
            [
             1,
             "#276419"
            ]
           ],
           "sequential": [
            [
             0,
             "#0d0887"
            ],
            [
             0.1111111111111111,
             "#46039f"
            ],
            [
             0.2222222222222222,
             "#7201a8"
            ],
            [
             0.3333333333333333,
             "#9c179e"
            ],
            [
             0.4444444444444444,
             "#bd3786"
            ],
            [
             0.5555555555555556,
             "#d8576b"
            ],
            [
             0.6666666666666666,
             "#ed7953"
            ],
            [
             0.7777777777777778,
             "#fb9f3a"
            ],
            [
             0.8888888888888888,
             "#fdca26"
            ],
            [
             1,
             "#f0f921"
            ]
           ],
           "sequentialminus": [
            [
             0,
             "#0d0887"
            ],
            [
             0.1111111111111111,
             "#46039f"
            ],
            [
             0.2222222222222222,
             "#7201a8"
            ],
            [
             0.3333333333333333,
             "#9c179e"
            ],
            [
             0.4444444444444444,
             "#bd3786"
            ],
            [
             0.5555555555555556,
             "#d8576b"
            ],
            [
             0.6666666666666666,
             "#ed7953"
            ],
            [
             0.7777777777777778,
             "#fb9f3a"
            ],
            [
             0.8888888888888888,
             "#fdca26"
            ],
            [
             1,
             "#f0f921"
            ]
           ]
          },
          "colorway": [
           "#636efa",
           "#EF553B",
           "#00cc96",
           "#ab63fa",
           "#FFA15A",
           "#19d3f3",
           "#FF6692",
           "#B6E880",
           "#FF97FF",
           "#FECB52"
          ],
          "font": {
           "color": "#2a3f5f"
          },
          "geo": {
           "bgcolor": "white",
           "lakecolor": "white",
           "landcolor": "#E5ECF6",
           "showlakes": true,
           "showland": true,
           "subunitcolor": "white"
          },
          "hoverlabel": {
           "align": "left"
          },
          "hovermode": "closest",
          "mapbox": {
           "style": "light"
          },
          "paper_bgcolor": "white",
          "plot_bgcolor": "#E5ECF6",
          "polar": {
           "angularaxis": {
            "gridcolor": "white",
            "linecolor": "white",
            "ticks": ""
           },
           "bgcolor": "#E5ECF6",
           "radialaxis": {
            "gridcolor": "white",
            "linecolor": "white",
            "ticks": ""
           }
          },
          "scene": {
           "xaxis": {
            "backgroundcolor": "#E5ECF6",
            "gridcolor": "white",
            "gridwidth": 2,
            "linecolor": "white",
            "showbackground": true,
            "ticks": "",
            "zerolinecolor": "white"
           },
           "yaxis": {
            "backgroundcolor": "#E5ECF6",
            "gridcolor": "white",
            "gridwidth": 2,
            "linecolor": "white",
            "showbackground": true,
            "ticks": "",
            "zerolinecolor": "white"
           },
           "zaxis": {
            "backgroundcolor": "#E5ECF6",
            "gridcolor": "white",
            "gridwidth": 2,
            "linecolor": "white",
            "showbackground": true,
            "ticks": "",
            "zerolinecolor": "white"
           }
          },
          "shapedefaults": {
           "line": {
            "color": "#2a3f5f"
           }
          },
          "ternary": {
           "aaxis": {
            "gridcolor": "white",
            "linecolor": "white",
            "ticks": ""
           },
           "baxis": {
            "gridcolor": "white",
            "linecolor": "white",
            "ticks": ""
           },
           "bgcolor": "#E5ECF6",
           "caxis": {
            "gridcolor": "white",
            "linecolor": "white",
            "ticks": ""
           }
          },
          "title": {
           "x": 0.05
          },
          "xaxis": {
           "automargin": true,
           "gridcolor": "white",
           "linecolor": "white",
           "ticks": "",
           "title": {
            "standoff": 15
           },
           "zerolinecolor": "white",
           "zerolinewidth": 2
          },
          "yaxis": {
           "automargin": true,
           "gridcolor": "white",
           "linecolor": "white",
           "ticks": "",
           "title": {
            "standoff": 15
           },
           "zerolinecolor": "white",
           "zerolinewidth": 2
          }
         }
        }
       }
      },
      "image/png": "[encoded data removed]",
      "text/html": [
       "<div>                            <div id=\"10cfcd20-6494-4ada-b948-14dacf54c15a\" class=\"plotly-graph-div\" style=\"height:525px; width:100%;\"></div>            <script type=\"text/javascript\">                require([\"plotly\"], function(Plotly) {                    window.PLOTLYENV=window.PLOTLYENV || {};                                    if (document.getElementById(\"10cfcd20-6494-4ada-b948-14dacf54c15a\")) {                    Plotly.newPlot(                        \"10cfcd20-6494-4ada-b948-14dacf54c15a\",                        [{\"hovertemplate\":\"species=setosa<br>sepal_length=%{x}<br>sepal_width=%{y}<br>petal_width=%{z}<extra></extra>\",\"legendgroup\":\"setosa\",\"marker\":{\"color\":\"#636efa\",\"symbol\":\"circle\"},\"mode\":\"markers\",\"name\":\"setosa\",\"scene\":\"scene\",\"showlegend\":true,\"x\":[5.1,4.9,4.7,4.6,5.0,5.4,4.6,5.0,4.4,4.9,5.4,4.8,4.8,4.3,5.8,5.7,5.4,5.1,5.7,5.1,5.4,5.1,4.6,5.1,4.8,5.0,5.0,5.2,5.2,4.7,4.8,5.4,5.2,5.5,4.9,5.0,5.5,4.9,4.4,5.1,5.0,4.5,4.4,5.0,5.1,4.8,5.1,4.6,5.3,5.0],\"y\":[3.5,3.0,3.2,3.1,3.6,3.9,3.4,3.4,2.9,3.1,3.7,3.4,3.0,3.0,4.0,4.4,3.9,3.5,3.8,3.8,3.4,3.7,3.6,3.3,3.4,3.0,3.4,3.5,3.4,3.2,3.1,3.4,4.1,4.2,3.1,3.2,3.5,3.1,3.0,3.4,3.5,2.3,3.2,3.5,3.8,3.0,3.8,3.2,3.7,3.3],\"z\":[0.2,0.2,0.2,0.2,0.2,0.4,0.3,0.2,0.2,0.1,0.2,0.2,0.1,0.1,0.2,0.4,0.4,0.3,0.3,0.3,0.2,0.4,0.2,0.5,0.2,0.2,0.4,0.2,0.2,0.2,0.2,0.4,0.1,0.2,0.1,0.2,0.2,0.1,0.2,0.2,0.3,0.3,0.2,0.6,0.4,0.3,0.2,0.2,0.2,0.2],\"type\":\"scatter3d\"},{\"hovertemplate\":\"species=versicolor<br>sepal_length=%{x}<br>sepal_width=%{y}<br>petal_width=%{z}<extra></extra>\",\"legendgroup\":\"versicolor\",\"marker\":{\"color\":\"#EF553B\",\"symbol\":\"circle\"},\"mode\":\"markers\",\"name\":\"versicolor\",\"scene\":\"scene\",\"showlegend\":true,\"x\":[7.0,6.4,6.9,5.5,6.5,5.7,6.3,4.9,6.6,5.2,5.0,5.9,6.0,6.1,5.6,6.7,5.6,5.8,6.2,5.6,5.9,6.1,6.3,6.1,6.4,6.6,6.8,6.7,6.0,5.7,5.5,5.5,5.8,6.0,5.4,6.0,6.7,6.3,5.6,5.5,5.5,6.1,5.8,5.0,5.6,5.7,5.7,6.2,5.1,5.7],\"y\":[3.2,3.2,3.1,2.3,2.8,2.8,3.3,2.4,2.9,2.7,2.0,3.0,2.2,2.9,2.9,3.1,3.0,2.7,2.2,2.5,3.2,2.8,2.5,2.8,2.9,3.0,2.8,3.0,2.9,2.6,2.4,2.4,2.7,2.7,3.0,3.4,3.1,2.3,3.0,2.5,2.6,3.0,2.6,2.3,2.7,3.0,2.9,2.9,2.5,2.8],\"z\":[1.4,1.5,1.5,1.3,1.5,1.3,1.6,1.0,1.3,1.4,1.0,1.5,1.0,1.4,1.3,1.4,1.5,1.0,1.5,1.1,1.8,1.3,1.5,1.2,1.3,1.4,1.4,1.7,1.5,1.0,1.1,1.0,1.2,1.6,1.5,1.6,1.5,1.3,1.3,1.3,1.2,1.4,1.2,1.0,1.3,1.2,1.3,1.3,1.1,1.3],\"type\":\"scatter3d\"},{\"hovertemplate\":\"species=virginica<br>sepal_length=%{x}<br>sepal_width=%{y}<br>petal_width=%{z}<extra></extra>\",\"legendgroup\":\"virginica\",\"marker\":{\"color\":\"#00cc96\",\"symbol\":\"circle\"},\"mode\":\"markers\",\"name\":\"virginica\",\"scene\":\"scene\",\"showlegend\":true,\"x\":[6.3,5.8,7.1,6.3,6.5,7.6,4.9,7.3,6.7,7.2,6.5,6.4,6.8,5.7,5.8,6.4,6.5,7.7,7.7,6.0,6.9,5.6,7.7,6.3,6.7,7.2,6.2,6.1,6.4,7.2,7.4,7.9,6.4,6.3,6.1,7.7,6.3,6.4,6.0,6.9,6.7,6.9,5.8,6.8,6.7,6.7,6.3,6.5,6.2,5.9],\"y\":[3.3,2.7,3.0,2.9,3.0,3.0,2.5,2.9,2.5,3.6,3.2,2.7,3.0,2.5,2.8,3.2,3.0,3.8,2.6,2.2,3.2,2.8,2.8,2.7,3.3,3.2,2.8,3.0,2.8,3.0,2.8,3.8,2.8,2.8,2.6,3.0,3.4,3.1,3.0,3.1,3.1,3.1,2.7,3.2,3.3,3.0,2.5,3.0,3.4,3.0],\"z\":[2.5,1.9,2.1,1.8,2.2,2.1,1.7,1.8,1.8,2.5,2.0,1.9,2.1,2.0,2.4,2.3,1.8,2.2,2.3,1.5,2.3,2.0,2.0,1.8,2.1,1.8,1.8,1.8,2.1,1.6,1.9,2.0,2.2,1.5,1.4,2.3,2.4,1.8,1.8,2.1,2.4,2.3,1.9,2.3,2.5,2.3,1.9,2.0,2.3,1.8],\"type\":\"scatter3d\"}],                        {\"template\":{\"data\":{\"histogram2dcontour\":[{\"type\":\"histogram2dcontour\",\"colorbar\":{\"outlinewidth\":0,\"ticks\":\"\"},\"colorscale\":[[0.0,\"#0d0887\"],[0.1111111111111111,\"#46039f\"],[0.2222222222222222,\"#7201a8\"],[0.3333333333333333,\"#9c179e\"],[0.4444444444444444,\"#bd3786\"],[0.5555555555555556,\"#d8576b\"],[0.6666666666666666,\"#ed7953\"],[0.7777777777777778,\"#fb9f3a\"],[0.8888888888888888,\"#fdca26\"],[1.0,\"#f0f921\"]]}],\"choropleth\":[{\"type\":\"choropleth\",\"colorbar\":{\"outlinewidth\":0,\"ticks\":\"\"}}],\"histogram2d\":[{\"type\":\"histogram2d\",\"colorbar\":{\"outlinewidth\":0,\"ticks\":\"\"},\"colorscale\":[[0.0,\"#0d0887\"],[0.1111111111111111,\"#46039f\"],[0.2222222222222222,\"#7201a8\"],[0.3333333333333333,\"#9c179e\"],[0.4444444444444444,\"#bd3786\"],[0.5555555555555556,\"#d8576b\"],[0.6666666666666666,\"#ed7953\"],[0.7777777777777778,\"#fb9f3a\"],[0.8888888888888888,\"#fdca26\"],[1.0,\"#f0f921\"]]}],\"heatmap\":[{\"type\":\"heatmap\",\"colorbar\":{\"outlinewidth\":0,\"ticks\":\"\"},\"colorscale\":[[0.0,\"#0d0887\"],[0.1111111111111111,\"#46039f\"],[0.2222222222222222,\"#7201a8\"],[0.3333333333333333,\"#9c179e\"],[0.4444444444444444,\"#bd3786\"],[0.5555555555555556,\"#d8576b\"],[0.6666666666666666,\"#ed7953\"],[0.7777777777777778,\"#fb9f3a\"],[0.8888888888888888,\"#fdca26\"],[1.0,\"#f0f921\"]]}],\"heatmapgl\":[{\"type\":\"heatmapgl\",\"colorbar\":{\"outlinewidth\":0,\"ticks\":\"\"},\"colorscale\":[[0.0,\"#0d0887\"],[0.1111111111111111,\"#46039f\"],[0.2222222222222222,\"#7201a8\"],[0.3333333333333333,\"#9c179e\"],[0.4444444444444444,\"#bd3786\"],[0.5555555555555556,\"#d8576b\"],[0.6666666666666666,\"#ed7953\"],[0.7777777777777778,\"#fb9f3a\"],[0.8888888888888888,\"#fdca26\"],[1.0,\"#f0f921\"]]}],\"contourcarpet\":[{\"type\":\"contourcarpet\",\"colorbar\":{\"outlinewidth\":0,\"ticks\":\"\"}}],\"contour\":[{\"type\":\"contour\",\"colorbar\":{\"outlinewidth\":0,\"ticks\":\"\"},\"colorscale\":[[0.0,\"#0d0887\"],[0.1111111111111111,\"#46039f\"],[0.2222222222222222,\"#7201a8\"],[0.3333333333333333,\"#9c179e\"],[0.4444444444444444,\"#bd3786\"],[0.5555555555555556,\"#d8576b\"],[0.6666666666666666,\"#ed7953\"],[0.7777777777777778,\"#fb9f3a\"],[0.8888888888888888,\"#fdca26\"],[1.0,\"#f0f921\"]]}],\"surface\":[{\"type\":\"surface\",\"colorbar\":{\"outlinewidth\":0,\"ticks\":\"\"},\"colorscale\":[[0.0,\"#0d0887\"],[0.1111111111111111,\"#46039f\"],[0.2222222222222222,\"#7201a8\"],[0.3333333333333333,\"#9c179e\"],[0.4444444444444444,\"#bd3786\"],[0.5555555555555556,\"#d8576b\"],[0.6666666666666666,\"#ed7953\"],[0.7777777777777778,\"#fb9f3a\"],[0.8888888888888888,\"#fdca26\"],[1.0,\"#f0f921\"]]}],\"mesh3d\":[{\"type\":\"mesh3d\",\"colorbar\":{\"outlinewidth\":0,\"ticks\":\"\"}}],\"scatter\":[{\"fillpattern\":{\"fillmode\":\"overlay\",\"size\":10,\"solidity\":0.2},\"type\":\"scatter\"}],\"parcoords\":[{\"type\":\"parcoords\",\"line\":{\"colorbar\":{\"outlinewidth\":0,\"ticks\":\"\"}}}],\"scatterpolargl\":[{\"type\":\"scatterpolargl\",\"marker\":{\"colorbar\":{\"outlinewidth\":0,\"ticks\":\"\"}}}],\"bar\":[{\"error_x\":{\"color\":\"#2a3f5f\"},\"error_y\":{\"color\":\"#2a3f5f\"},\"marker\":{\"line\":{\"color\":\"#E5ECF6\",\"width\":0.5},\"pattern\":{\"fillmode\":\"overlay\",\"size\":10,\"solidity\":0.2}},\"type\":\"bar\"}],\"scattergeo\":[{\"type\":\"scattergeo\",\"marker\":{\"colorbar\":{\"outlinewidth\":0,\"ticks\":\"\"}}}],\"scatterpolar\":[{\"type\":\"scatterpolar\",\"marker\":{\"colorbar\":{\"outlinewidth\":0,\"ticks\":\"\"}}}],\"histogram\":[{\"marker\":{\"pattern\":{\"fillmode\":\"overlay\",\"size\":10,\"solidity\":0.2}},\"type\":\"histogram\"}],\"scattergl\":[{\"type\":\"scattergl\",\"marker\":{\"colorbar\":{\"outlinewidth\":0,\"ticks\":\"\"}}}],\"scatter3d\":[{\"type\":\"scatter3d\",\"line\":{\"colorbar\":{\"outlinewidth\":0,\"ticks\":\"\"}},\"marker\":{\"colorbar\":{\"outlinewidth\":0,\"ticks\":\"\"}}}],\"scattermapbox\":[{\"type\":\"scattermapbox\",\"marker\":{\"colorbar\":{\"outlinewidth\":0,\"ticks\":\"\"}}}],\"scatterternary\":[{\"type\":\"scatterternary\",\"marker\":{\"colorbar\":{\"outlinewidth\":0,\"ticks\":\"\"}}}],\"scattercarpet\":[{\"type\":\"scattercarpet\",\"marker\":{\"colorbar\":{\"outlinewidth\":0,\"ticks\":\"\"}}}],\"carpet\":[{\"aaxis\":{\"endlinecolor\":\"#2a3f5f\",\"gridcolor\":\"white\",\"linecolor\":\"white\",\"minorgridcolor\":\"white\",\"startlinecolor\":\"#2a3f5f\"},\"baxis\":{\"endlinecolor\":\"#2a3f5f\",\"gridcolor\":\"white\",\"linecolor\":\"white\",\"minorgridcolor\":\"white\",\"startlinecolor\":\"#2a3f5f\"},\"type\":\"carpet\"}],\"table\":[{\"cells\":{\"fill\":{\"color\":\"#EBF0F8\"},\"line\":{\"color\":\"white\"}},\"header\":{\"fill\":{\"color\":\"#C8D4E3\"},\"line\":{\"color\":\"white\"}},\"type\":\"table\"}],\"barpolar\":[{\"marker\":{\"line\":{\"color\":\"#E5ECF6\",\"width\":0.5},\"pattern\":{\"fillmode\":\"overlay\",\"size\":10,\"solidity\":0.2}},\"type\":\"barpolar\"}],\"pie\":[{\"automargin\":true,\"type\":\"pie\"}]},\"layout\":{\"autotypenumbers\":\"strict\",\"colorway\":[\"#636efa\",\"#EF553B\",\"#00cc96\",\"#ab63fa\",\"#FFA15A\",\"#19d3f3\",\"#FF6692\",\"#B6E880\",\"#FF97FF\",\"#FECB52\"],\"font\":{\"color\":\"#2a3f5f\"},\"hovermode\":\"closest\",\"hoverlabel\":{\"align\":\"left\"},\"paper_bgcolor\":\"white\",\"plot_bgcolor\":\"#E5ECF6\",\"polar\":{\"bgcolor\":\"#E5ECF6\",\"angularaxis\":{\"gridcolor\":\"white\",\"linecolor\":\"white\",\"ticks\":\"\"},\"radialaxis\":{\"gridcolor\":\"white\",\"linecolor\":\"white\",\"ticks\":\"\"}},\"ternary\":{\"bgcolor\":\"#E5ECF6\",\"aaxis\":{\"gridcolor\":\"white\",\"linecolor\":\"white\",\"ticks\":\"\"},\"baxis\":{\"gridcolor\":\"white\",\"linecolor\":\"white\",\"ticks\":\"\"},\"caxis\":{\"gridcolor\":\"white\",\"linecolor\":\"white\",\"ticks\":\"\"}},\"coloraxis\":{\"colorbar\":{\"outlinewidth\":0,\"ticks\":\"\"}},\"colorscale\":{\"sequential\":[[0.0,\"#0d0887\"],[0.1111111111111111,\"#46039f\"],[0.2222222222222222,\"#7201a8\"],[0.3333333333333333,\"#9c179e\"],[0.4444444444444444,\"#bd3786\"],[0.5555555555555556,\"#d8576b\"],[0.6666666666666666,\"#ed7953\"],[0.7777777777777778,\"#fb9f3a\"],[0.8888888888888888,\"#fdca26\"],[1.0,\"#f0f921\"]],\"sequentialminus\":[[0.0,\"#0d0887\"],[0.1111111111111111,\"#46039f\"],[0.2222222222222222,\"#7201a8\"],[0.3333333333333333,\"#9c179e\"],[0.4444444444444444,\"#bd3786\"],[0.5555555555555556,\"#d8576b\"],[0.6666666666666666,\"#ed7953\"],[0.7777777777777778,\"#fb9f3a\"],[0.8888888888888888,\"#fdca26\"],[1.0,\"#f0f921\"]],\"diverging\":[[0,\"#8e0152\"],[0.1,\"#c51b7d\"],[0.2,\"#de77ae\"],[0.3,\"#f1b6da\"],[0.4,\"#fde0ef\"],[0.5,\"#f7f7f7\"],[0.6,\"#e6f5d0\"],[0.7,\"#b8e186\"],[0.8,\"#7fbc41\"],[0.9,\"#4d9221\"],[1,\"#276419\"]]},\"xaxis\":{\"gridcolor\":\"white\",\"linecolor\":\"white\",\"ticks\":\"\",\"title\":{\"standoff\":15},\"zerolinecolor\":\"white\",\"automargin\":true,\"zerolinewidth\":2},\"yaxis\":{\"gridcolor\":\"white\",\"linecolor\":\"white\",\"ticks\":\"\",\"title\":{\"standoff\":15},\"zerolinecolor\":\"white\",\"automargin\":true,\"zerolinewidth\":2},\"scene\":{\"xaxis\":{\"backgroundcolor\":\"#E5ECF6\",\"gridcolor\":\"white\",\"linecolor\":\"white\",\"showbackground\":true,\"ticks\":\"\",\"zerolinecolor\":\"white\",\"gridwidth\":2},\"yaxis\":{\"backgroundcolor\":\"#E5ECF6\",\"gridcolor\":\"white\",\"linecolor\":\"white\",\"showbackground\":true,\"ticks\":\"\",\"zerolinecolor\":\"white\",\"gridwidth\":2},\"zaxis\":{\"backgroundcolor\":\"#E5ECF6\",\"gridcolor\":\"white\",\"linecolor\":\"white\",\"showbackground\":true,\"ticks\":\"\",\"zerolinecolor\":\"white\",\"gridwidth\":2}},\"shapedefaults\":{\"line\":{\"color\":\"#2a3f5f\"}},\"annotationdefaults\":{\"arrowcolor\":\"#2a3f5f\",\"arrowhead\":0,\"arrowwidth\":1},\"geo\":{\"bgcolor\":\"white\",\"landcolor\":\"#E5ECF6\",\"subunitcolor\":\"white\",\"showland\":true,\"showlakes\":true,\"lakecolor\":\"white\"},\"title\":{\"x\":0.05},\"mapbox\":{\"style\":\"light\"}}},\"scene\":{\"domain\":{\"x\":[0.0,1.0],\"y\":[0.0,1.0]},\"xaxis\":{\"title\":{\"text\":\"sepal_length\"}},\"yaxis\":{\"title\":{\"text\":\"sepal_width\"}},\"zaxis\":{\"title\":{\"text\":\"petal_width\"}}},\"legend\":{\"title\":{\"text\":\"species\"},\"tracegroupgap\":0},\"margin\":{\"t\":60}},                        {\"responsive\": true}                    ).then(function(){\n",
       "                            \n",
       "var gd = document.getElementById('10cfcd20-6494-4ada-b948-14dacf54c15a');\n",
       "var x = new MutationObserver(function (mutations, observer) {{\n",
       "        var display = window.getComputedStyle(gd).display;\n",
       "        if (!display || display === 'none') {{\n",
       "            console.log([gd, 'removed!']);\n",
       "            Plotly.purge(gd);\n",
       "            observer.disconnect();\n",
       "        }}\n",
       "}});\n",
       "\n",
       "// Listen for the removal of the full notebook cells\n",
       "var notebookContainer = gd.closest('#notebook-container');\n",
       "if (notebookContainer) {{\n",
       "    x.observe(notebookContainer, {childList: true});\n",
       "}}\n",
       "\n",
       "// Listen for the clearing of the current output cell\n",
       "var outputEl = gd.closest('.output');\n",
       "if (outputEl) {{\n",
       "    x.observe(outputEl, {childList: true});\n",
       "}}\n",
       "\n",
       "                        })                };                });            </script>        </div>"
      ]
     },
     "metadata": {},
     "output_type": "display_data"
    }
   ],
   "source": [
    "import plotly.express as px\n",
    "df = px.data.iris()\n",
    "fig = px.scatter_3d(df, x='sepal_length', y='sepal_width', z='petal_width',\n",
    "              color='species')\n",
    "fig.show()"
   ]
  },
  {
   "cell_type": "code",
   "execution_count": null,
   "id": "e2f8acb2-b7d4-490d-b65d-be10b863d359",
   "metadata": {},
   "outputs": [],
   "source": []
  }
 ],
 "metadata": {
  "accelerator": "GPU",
  "colab": {
   "collapsed_sections": [
    "Hj8EGioN0hqa",
    "b02aabd5",
    "c7b06e32",
    "5o0hotszZi_9",
    "Xe_oykWle6Sn",
    "QwYv6Pa4Jaeq",
    "24pmarByw_vx",
    "DzsDNcrFA36e",
    "RfcxBTnCAPYa",
    "4mBAkIpkEk9Z",
    "p0xMbV5bpPI7",
    "N4YAugJvDbqb",
    "BcDbuMb_v24m",
    "YB6oKzfVLSN_",
    "n3n_hsmzwvyZ",
    "wBk_s24C5dcs",
    "vILV-oyK8aY_",
    "NvQDGGha8aZI",
    "dF8shcrA8aZJ",
    "t_-OVs8cygTv",
    "mFCEQsjH8aZK",
    "A-SBRU_IBBI1",
    "2P_A5Bjyh9G-"
   ],
   "name": "Proyecto_Scraping_AP.ipynb",
   "provenance": []
  },
  "gpuClass": "standard",
  "kernelspec": {
   "display_name": "Python 3 (ipykernel)",
   "language": "python",
   "name": "python3"
  },
  "language_info": {
   "codemirror_mode": {
    "name": "ipython",
    "version": 3
   },
   "file_extension": ".py",
   "mimetype": "text/x-python",
   "name": "python",
   "nbconvert_exporter": "python",
   "pygments_lexer": "ipython3",
   "version": "3.10.4"
  }
 },
 "nbformat": 4,
 "nbformat_minor": 5
}
